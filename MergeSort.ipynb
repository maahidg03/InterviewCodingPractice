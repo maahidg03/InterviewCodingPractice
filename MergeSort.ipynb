{
  "nbformat": 4,
  "nbformat_minor": 0,
  "metadata": {
    "colab": {
      "name": "MergeSort.ipynb",
      "provenance": []
    },
    "kernelspec": {
      "name": "python3",
      "display_name": "Python 3"
    }
  },
  "cells": [
    {
      "cell_type": "code",
      "metadata": {
        "id": "aVVNgKXnKpYx"
      },
      "source": [
        "\"\"\"\n",
        "    Merge Sort\n",
        "\"\"\""
      ],
      "execution_count": null,
      "outputs": []
    },
    {
      "cell_type": "code",
      "metadata": {
        "colab": {
          "base_uri": "https://localhost:8080/"
        },
        "id": "57OAbWsOLJqS",
        "outputId": "6365213c-d473-4ce2-f151-e66c067b0193"
      },
      "source": [
        "def driverMerge(A):\n",
        "  return (mergeSort(A,0,len(A)-1))\n",
        "\n",
        "def mergeSort(A,startIndex,endIndex):\n",
        "  if startIndex < endIndex:\n",
        "    mid = (startIndex + endIndex)//2\n",
        "    #print(mid)\n",
        "    mergeSort(A,startIndex,mid)\n",
        "    mergeSort(A,mid+1,endIndex)\n",
        "    merge(A,startIndex,mid,endIndex)\n",
        "  print(A[startIndex:endIndex])\n",
        "  return (A[startIndex:endIndex])\n",
        "\n",
        "def merge(A,startIndex,mid,endIndex):\n",
        "  leftSide = A[startIndex:mid+1]\n",
        "  leftSide.append(9999999)\n",
        "  #print(leftSide)\n",
        "  rightSide = A[mid+1:endIndex+1]\n",
        "  rightSide.append(9999999)\n",
        "  #print(rightSide)\n",
        "  i=j=0\n",
        "  for k in range(startIndex,endIndex+1):\n",
        "    #print(\"--\",i,j)\n",
        "    if leftSide[i] <= rightSide[j]:\n",
        "      A[k] = leftSide[i]\n",
        "      #print(\"i: \",leftSide[i])\n",
        "      i += 1\n",
        "    else:\n",
        "      A[k] = rightSide[j]\n",
        "      #print(\"j: \",rightSide[j])\n",
        "      j +=1\n",
        "\n",
        "  \n",
        "\n",
        "ques=[10,20,30,40,50,60,70,80]\n",
        "answer = driverMerge(ques)\n",
        "print(answer)"
      ],
      "execution_count": 28,
      "outputs": [
        {
          "output_type": "stream",
          "text": [
            "[]\n",
            "[]\n",
            "[10]\n",
            "[]\n",
            "[]\n",
            "[30]\n",
            "[10, 20, 30]\n",
            "[]\n",
            "[]\n",
            "[50]\n",
            "[]\n",
            "[]\n",
            "[70]\n",
            "[50, 60, 70]\n",
            "[10, 20, 30, 40, 50, 60, 70]\n",
            "[10, 20, 30, 40, 50, 60, 70]\n"
          ],
          "name": "stdout"
        }
      ]
    }
  ]
}