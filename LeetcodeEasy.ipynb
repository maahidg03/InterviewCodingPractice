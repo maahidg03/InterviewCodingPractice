{
  "nbformat": 4,
  "nbformat_minor": 0,
  "metadata": {
    "colab": {
      "name": "LeetcodeEasy.ipynb",
      "provenance": []
    },
    "kernelspec": {
      "name": "python3",
      "display_name": "Python 3"
    }
  },
  "cells": [
    {
      "cell_type": "code",
      "metadata": {
        "colab": {
          "base_uri": "https://localhost:8080/"
        },
        "id": "qJMFBCD58r1c",
        "outputId": "62bad37f-866a-43f7-9583-a48668f9ff46"
      },
      "source": [
        "\"\"\"\n",
        "Number of good pairs\n",
        "\"\"\"\n",
        "def numIdenticalPairs(nums):\n",
        "    count = 0\n",
        "    hashTable = {}\n",
        "        \n",
        "    for i in nums:\n",
        "      if i not in hashTable:\n",
        "          hashTable[i] = 1\n",
        "      else:\n",
        "          hashTable[i] += 1\n",
        "                \n",
        "    #print(hashTable)\n",
        "    for j in hashTable:\n",
        "      #print(hashTable[j])\n",
        "      n=hashTable[j]\n",
        "      count = count + n*(n-1)/2\n",
        "    \n",
        "    return int(count)\n",
        "\n",
        "answer= numIdenticalPairs([1,2,3,1,1,3])\n",
        "print(answer)"
      ],
      "execution_count": 11,
      "outputs": [
        {
          "output_type": "stream",
          "text": [
            "4\n"
          ],
          "name": "stdout"
        }
      ]
    },
    {
      "cell_type": "code",
      "metadata": {
        "colab": {
          "base_uri": "https://localhost:8080/"
        },
        "id": "arO9ZDVi-WvD",
        "outputId": "5d6f1e9d-d758-4c1c-d1d7-614f25e86712"
      },
      "source": [
        "\"\"\"\n",
        "Design a parking system for a parking lot. The parking lot has three kinds of parking spaces: big, medium, and small, with a fixed number of slots for each size.\n",
        "\n",
        "Implement the ParkingSystem class:\n",
        "\n",
        "ParkingSystem(int big, int medium, int small) Initializes object of the ParkingSystem class. The number of slots for each parking space are given as \n",
        "part of the constructor. bool addCar(int carType) Checks whether there is a parking space of carType for the car that wants to get into the parking lot.\n",
        "carType can be of three kinds: big, medium, or small, which are represented by 1, 2, and 3 respectively. A car can only park in a parking space of its \n",
        "carType. If there is no space available, return false, else park the car in that size space and return true.\n",
        "\"\"\"\n",
        "\n",
        "class ParkingSystem:\n",
        "\n",
        "    def __init__(self, big: int, medium: int, small: int):\n",
        "        self.big = big\n",
        "        self.medium = medium\n",
        "        self.small = small\n",
        "        self.carCount = {1:big , 2:medium , 3:small}\n",
        "        \n",
        "\n",
        "    def addCar(self, carType: int) -> bool:\n",
        "        for i in self.carCount:\n",
        "            if self.carCount[carType] > 0:\n",
        "                self.carCount[carType] -= 1\n",
        "                return True\n",
        "        return False\n",
        "\n",
        "if __name__ == \"__main__\":\n",
        "  obj = ParkingSystem(1,1,0)\n",
        "  answer = obj.addCar(1)\n",
        "  print(answer)\n",
        "  answer = obj.addCar(2)\n",
        "  print(answer)\n",
        "  answer = obj.addCar(3)\n",
        "  print(answer)\n",
        "  answer = obj.addCar(1)\n",
        "  print(answer)"
      ],
      "execution_count": 18,
      "outputs": [
        {
          "output_type": "stream",
          "text": [
            "True\n",
            "True\n",
            "False\n",
            "False\n"
          ],
          "name": "stdout"
        }
      ]
    },
    {
      "cell_type": "code",
      "metadata": {
        "colab": {
          "base_uri": "https://localhost:8080/"
        },
        "id": "5RtfuCEFAjma",
        "outputId": "97ec11ea-aff3-44a4-d80a-91af3f98eb0b"
      },
      "source": [
        "\"\"\"\n",
        "You are given an array items, where each items[i] = [typei, colori, namei] describes the type, color, and name of the ith item. \n",
        "You are also given a rule represented by two strings, ruleKey and ruleValue.\n",
        "\n",
        "The ith item is said to match the rule if one of the following is true:\n",
        "\n",
        "ruleKey == \"type\" and ruleValue == typei.\n",
        "ruleKey == \"color\" and ruleValue == colori.\n",
        "ruleKey == \"name\" and ruleValue == namei.\n",
        "Return the number of items that match the given rule.\n",
        "\"\"\"\n",
        "\n",
        "def countMatches(items,ruleKey,ruleValue):\n",
        "  count = 0\n",
        "  indexHashmap = {'type' : 0, 'color' : 1, 'name' : 2}\n",
        "  index = indexHashmap[ruleKey]\n",
        "  for i in items:\n",
        "    if i[index] == ruleValue:\n",
        "      count += 1\n",
        "  return count\n",
        "\n",
        "answer=countMatches([[\"phone\",\"blue\",\"pixel\"],[\"computer\",\"silver\",\"phone\"],[\"phone\",\"gold\",\"iphone\"]],'type','phone')\n",
        "print(answer)\n"
      ],
      "execution_count": 20,
      "outputs": [
        {
          "output_type": "stream",
          "text": [
            "2\n"
          ],
          "name": "stdout"
        }
      ]
    },
    {
      "cell_type": "code",
      "metadata": {
        "colab": {
          "base_uri": "https://localhost:8080/"
        },
        "id": "lP75OQxnDWAG",
        "outputId": "86fd4cf0-b7c3-43e9-a391-08731de3c928"
      },
      "source": [
        "\"\"\"\n",
        "  Given a string s and an integer array indices of the same length.\n",
        "\n",
        "The string s will be shuffled such that the character at the ith position moves to indices[i] in the shuffled string.\n",
        "\n",
        "Return the shuffled string. \n",
        "\n",
        "\"\"\"\n",
        "\n",
        "def restoreString(s: str, indices):\n",
        "    solutionList = [''] * len(indices)\n",
        "    for i in range(0,len(indices)):\n",
        "      solArrIndex = indices[i]\n",
        "      solutionList[solArrIndex] = s[i]\n",
        "        \n",
        "    return ''.join(solutionList)\n",
        "        \n",
        "answer = restoreString(\"codeleet\",[4,5,6,7,0,2,1,3])\n",
        "print(answer)"
      ],
      "execution_count": 23,
      "outputs": [
        {
          "output_type": "stream",
          "text": [
            "leetcode\n"
          ],
          "name": "stdout"
        }
      ]
    },
    {
      "cell_type": "code",
      "metadata": {
        "colab": {
          "base_uri": "https://localhost:8080/"
        },
        "id": "3A7dBSr5FRUf",
        "outputId": "c0679589-599e-4ecf-e7e5-0e27f306bd02"
      },
      "source": [
        "\"\"\"\n",
        "  You own a Goal Parser that can interpret a string command. The command consists of an alphabet of \"G\", \"()\" and/or \"(al)\" in some order. The Goal Parser will interpret \"G\" as the string \"G\", \"()\" as the string \"o\", and \"(al)\" as the string \"al\". The interpreted strings are then concatenated in the original order.\n",
        "\n",
        "Given the string command, return the Goal Parser's interpretation of command.\n",
        "\"\"\"\n",
        "\n",
        "def interpret(command: str):\n",
        "    stringHashmap = {'G' : 'G', '()' : 'o' , '(al)': 'al'}\n",
        "    answer = \"\"\n",
        "    tempString = \"\"\n",
        "    for i in command:\n",
        "      tempString += i\n",
        "      if tempString in stringHashmap:\n",
        "        answer+= stringHashmap[tempString]\n",
        "        tempString = \"\"\n",
        "    return answer\n",
        "\n",
        "answer=interpret(\"G()()()()(al)\")\n",
        "print(answer)\n",
        "\n",
        "def interpret1(command: str):\n",
        "  i = 0\n",
        "  answer = \"\"\n",
        "  while i <len(command):\n",
        "    if command[i] == 'G':\n",
        "      answer += \"G\"\n",
        "      i+=1\n",
        "    elif command[i] == \"(\" and command[i+1] == \")\":\n",
        "      answer += \"o\"\n",
        "      i+=2\n",
        "    elif command[i] == \"(\" and command[i+1] == \"a\" and command[i+2] == \"l\" and command[i+3] == \")\":\n",
        "      answer += \"al\"\n",
        "      i += 4\n",
        "  return answer\n",
        "\n",
        "answer1=interpret1(\"(al)G(al)()()G\")\n",
        "print(answer1)\n"
      ],
      "execution_count": 28,
      "outputs": [
        {
          "output_type": "stream",
          "text": [
            "Gooooal\n",
            "alGalooG\n"
          ],
          "name": "stdout"
        }
      ]
    },
    {
      "cell_type": "code",
      "metadata": {
        "id": "3oJvf8Z4R6tz"
      },
      "source": [
        ""
      ],
      "execution_count": null,
      "outputs": []
    },
    {
      "cell_type": "code",
      "metadata": {
        "colab": {
          "base_uri": "https://localhost:8080/"
        },
        "id": "YZnPIP5fJ10i",
        "outputId": "5258994d-44ae-4f0a-ad8e-b7a147a5b6b2"
      },
      "source": [
        "\"\"\"\n",
        "Given two arrays of integers nums and index. Your task is to create target array under the following rules:\n",
        "\n",
        "Initially target array is empty.\n",
        "From left to right read nums[i] and index[i], insert at index index[i] the value nums[i] in target array.\n",
        "Repeat the previous step until there are no elements to read in nums and index.\n",
        "Return the target array.\n",
        "\n",
        "It is guaranteed that the insertion operations will be valid.\n",
        "\n",
        "\n",
        "\"\"\"\n",
        "def createTargetArray(nums, index):\n",
        "    l, ans=len(nums),[]\n",
        "    for i in range(l):\n",
        "      ans.insert(index[i],nums[i])\n",
        "    return ans\n",
        "\n",
        "answer = createTargetArray([0,1,2,3,4],[0,1,2,2,1])\n",
        "print(answer)"
      ],
      "execution_count": 33,
      "outputs": [
        {
          "output_type": "stream",
          "text": [
            "[0, 4, 1, 3, 2]\n"
          ],
          "name": "stdout"
        }
      ]
    }
  ]
}