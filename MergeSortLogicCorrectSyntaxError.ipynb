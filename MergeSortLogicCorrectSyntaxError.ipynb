{
  "nbformat": 4,
  "nbformat_minor": 0,
  "metadata": {
    "colab": {
      "name": "MergeSortLogicCorrectSyntaxError.ipynb",
      "provenance": []
    },
    "kernelspec": {
      "name": "python3",
      "display_name": "Python 3"
    },
    "language_info": {
      "name": "python"
    }
  },
  "cells": [
    {
      "cell_type": "code",
      "execution_count": null,
      "metadata": {
        "id": "s0ODUpz0karc"
      },
      "outputs": [],
      "source": [
        "#Logic correct compilation error\n",
        "def mergeSort(array):\n",
        "    if len(array) > 1:\n",
        "      mid = len(array)//2\n",
        "      leftArray = array[:mid]\n",
        "      rightArray = array[mid:]\n",
        "\n",
        "      mergeSort(leftArray)\n",
        "      mergeSort(rightArray)\n",
        "\n",
        "      i,j = 0, 0\n",
        "      k = 0 #merged array index\n",
        "      sol = []\n",
        "\n",
        "      while i < len(leftArray) and j < len(rightArray):\n",
        "        if leftArray[i] < rightArray[j]:\n",
        "          sol.append(leftArray[i])\n",
        "          i+=1\n",
        "        else:\n",
        "          sol.append(rightArray[j])\n",
        "          j+=1\n",
        "\n",
        "      print(sol)\n",
        "      while i < len(leftArray):\n",
        "        sol.append(leftArray[i])\n",
        "        i+=1\n",
        "        k+=1\n",
        "\n",
        "      while j < len(rightArray):\n",
        "        sol.append(rightArray[j])\n",
        "        j+=1\n",
        "        k+=1\n",
        "\n",
        "      return sol\n",
        "\n",
        "  \n",
        "\n",
        "print(mergeSort([2,6,5,1,7,4,3]))\n"
      ]
    }
  ]
}