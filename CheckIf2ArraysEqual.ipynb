{
  "nbformat": 4,
  "nbformat_minor": 0,
  "metadata": {
    "colab": {
      "name": "CheckIf2ArraysEqual.ipynb",
      "provenance": []
    },
    "kernelspec": {
      "name": "python3",
      "display_name": "Python 3"
    }
  },
  "cells": [
    {
      "cell_type": "code",
      "metadata": {
        "id": "KtecHyNytBGV"
      },
      "source": [
        "'''\n",
        "\n",
        "    Given two given arrays of equal length, the task is to find if given arrays are equal or not. Two arrays are said to be equal if both of them contain the same set of elements, arrangements (or permutation) of elements may be different though.\n",
        "\n",
        "Note: If there are repetitions, then counts of repeated elements must also be the same for two arrays to be equal. \n",
        "\n",
        "'''"
      ],
      "execution_count": null,
      "outputs": []
    },
    {
      "cell_type": "code",
      "metadata": {
        "colab": {
          "base_uri": "https://localhost:8080/"
        },
        "id": "LS4WuIE1tPVH",
        "outputId": "6fa9a2e6-c60a-4905-89d8-0a9fe96a785c"
      },
      "source": [
        "# O(n log n)\n",
        "def arrayEqual(arr1,arr2):\n",
        "  if len(arr1)!=len(arr2):\n",
        "    return \"No\"\n",
        "  else:\n",
        "    arr1.sort()\n",
        "    arr2.sort()\n",
        "    for i in range(0,len(arr1)):\n",
        "      if arr1[i]!=arr2[i]:\n",
        "        return \"No\"\n",
        "  \n",
        "  return \"Yes\"\n",
        "\n",
        "arr1=[1, 2, 5, 4, 0]\n",
        "arr2=[2, 4, 5, 0, 1]\n",
        "answer=arrayEqual(arr1,arr2)\n",
        "print(answer)\n",
        "arr3=[3, 5, 2, 5, 2]\n",
        "arr4=[2, 3, 5, 5, 2]\n",
        "answer=arrayEqual(arr3,arr4)\n",
        "print(answer)\n",
        "arr5=[1, 7, 1]\n",
        "arr6=[7, 7, 1]\n",
        "answer=arrayEqual(arr5,arr6)\n",
        "print(answer)"
      ],
      "execution_count": null,
      "outputs": [
        {
          "output_type": "stream",
          "text": [
            "Yes\n",
            "Yes\n",
            "No\n"
          ],
          "name": "stdout"
        }
      ]
    },
    {
      "cell_type": "code",
      "metadata": {
        "colab": {
          "base_uri": "https://localhost:8080/"
        },
        "id": "0sJIR0nd4MKd",
        "outputId": "6b158074-33d0-4b09-e4aa-298551f56bf1"
      },
      "source": [
        " #O(n) \n",
        "from collections import defaultdict;\n",
        "\n",
        "def arrayEqual(arr1,arr2):\n",
        "  if len(arr1)!=len(arr2):\n",
        "    return \"No\"\n",
        "  \n",
        "  arr1Count=defaultdict(int)\n",
        "  \n",
        "  for i in arr1:\n",
        "    arr1Count[i] +=1\n",
        "    #print(arr1Count)\n",
        "\n",
        "  #print(arr1Count) \n",
        "  for j in arr2:\n",
        "    #print(arr1Count)\n",
        "    if (arr1Count[j] == 0): #If this condition is true, the count of element j is more in frequency in arr2 than in arr1. Also if element doesnt exist in arr1Count\n",
        "      return \"No\"           #If the arrays are equal, this condition will only be achieved when the entire arr2 has been successfully traversed.\n",
        "    else:\n",
        "      arr1Count[j] -=1\n",
        "  return \"Yes\"\n",
        "\n",
        "arr1=[1, 2, 5, 4, 0]\n",
        "arr2=[2, 4, 5, 0, 1]\n",
        "answer=arrayEqual(arr1,arr2)\n",
        "print(answer)\n",
        "arr3=[3, 5, 2, 5, 2]\n",
        "arr4=[2, 3, 5, 5, 2]\n",
        "answer=arrayEqual(arr3,arr4)\n",
        "print(answer)\n",
        "arr5=[1, 7, 1]\n",
        "arr6=[7, 7, 1]\n",
        "answer=arrayEqual(arr5,arr6)\n",
        "print(answer)"
      ],
      "execution_count": null,
      "outputs": [
        {
          "output_type": "stream",
          "text": [
            "Yes\n",
            "Yes\n",
            "No\n"
          ],
          "name": "stdout"
        }
      ]
    },
    {
      "cell_type": "code",
      "metadata": {
        "id": "NhhDYEaY8ZYu",
        "colab": {
          "base_uri": "https://localhost:8080/"
        },
        "outputId": "bacbb7f3-427c-42af-c782-aba14a21badd"
      },
      "source": [
        "def reverseString(s):\n",
        "  return s[::-1]\n",
        "\n",
        "string1=\"abcde\"\n",
        "answer= reverseString(string1)\n",
        "print(answer)"
      ],
      "execution_count": 6,
      "outputs": [
        {
          "output_type": "stream",
          "text": [
            "edcba\n"
          ],
          "name": "stdout"
        }
      ]
    },
    {
      "cell_type": "code",
      "metadata": {
        "colab": {
          "base_uri": "https://localhost:8080/"
        },
        "id": "F0QuNvtg5w0x",
        "outputId": "938f7fad-aca9-4a4f-e0a7-ada854f4fa54"
      },
      "source": [
        "def reverseString(s):\n",
        "  sol = \"\"\n",
        "  for i in range(len(s)-1,-1,-1):\n",
        "    sol += s[i]\n",
        "  return sol\n",
        "\n",
        "string1=\"abcde\"\n",
        "answer= reverseString(string1)\n",
        "print(answer)"
      ],
      "execution_count": 3,
      "outputs": [
        {
          "output_type": "stream",
          "text": [
            "edcba\n"
          ],
          "name": "stdout"
        }
      ]
    }
  ]
}