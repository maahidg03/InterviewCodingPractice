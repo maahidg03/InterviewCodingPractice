{
  "nbformat": 4,
  "nbformat_minor": 0,
  "metadata": {
    "colab": {
      "name": "uglyNumber_DP.ipynb",
      "provenance": []
    },
    "kernelspec": {
      "name": "python3",
      "display_name": "Python 3"
    }
  },
  "cells": [
    {
      "cell_type": "code",
      "metadata": {
        "colab": {
          "base_uri": "https://localhost:8080/",
          "height": 52
        },
        "id": "7YOhdub9zQCD",
        "outputId": "92963d19-e54c-476e-f840-d69bbcb8eff2"
      },
      "source": [
        "\"\"\"\n",
        "\n",
        "Ugly numbers are numbers whose only prime factors are 2, 3 or 5. The sequence 1, 2, 3, 4, 5, 6, 8, 9, 10, 12, 15, … shows the first 11 ugly numbers. By convention, 1 is included. \n",
        "Given a number n, the task is to find n’th Ugly number.\n",
        "\n",
        "\"\"\""
      ],
      "execution_count": 17,
      "outputs": [
        {
          "output_type": "execute_result",
          "data": {
            "application/vnd.google.colaboratory.intrinsic+json": {
              "type": "string"
            },
            "text/plain": [
              "'\\n\\nUgly numbers are numbers whose only prime factors are 2, 3 or 5. The sequence 1, 2, 3, 4, 5, 6, 8, 9, 10, 12, 15, … shows the first 11 ugly numbers. By convention, 1 is included. \\nGiven a number n, the task is to find n’th Ugly number.\\n\\n'"
            ]
          },
          "metadata": {
            "tags": []
          },
          "execution_count": 17
        }
      ]
    },
    {
      "cell_type": "code",
      "metadata": {
        "id": "K-0fLkeb27Lk"
      },
      "source": [
        "#Time Complexity: O(n) \n",
        "#Auxiliary Space: O(n)\n",
        "\n",
        "def ugly_number(n):\n",
        "  count = 1\n",
        "  uglyNumbers = [0] * n\n",
        "  uglyNumbers[0] = 1\n",
        "  idx2,idx3,idx5=0,0,0\n",
        "  \n",
        "  while(count < n):\n",
        "    next_2 = uglyNumbers[idx2] * 2\n",
        "    next_3 = uglyNumbers[idx3] * 3\n",
        "    next_5 = uglyNumbers[idx5] * 5\n",
        "    \n",
        "    next_ugly = min(next_2,next_3,next_5)\n",
        "    uglyNumbers[count] = next_ugly\n",
        "\n",
        "    if (next_ugly == next_2):\n",
        "      idx2 += 1\n",
        "      #next_2 = uglyNumbers[idx2] * 2\n",
        "    if (next_ugly == next_3):\n",
        "      idx3 += 1\n",
        "      #next_3 = uglyNumbers[idx3] * 3\n",
        "    if (next_ugly == next_5):\n",
        "      idx5 += 1\n",
        "      #next_5 = uglyNumbers[idx5] * 5\n",
        "    count += 1\n",
        "    \n",
        "  #print(uglyNumbers)\n",
        "  return(uglyNumbers[-1])\n",
        "\n",
        "answer=ugly_number(150)\n",
        "print(answer)"
      ],
      "execution_count": null,
      "outputs": []
    },
    {
      "cell_type": "code",
      "metadata": {
        "id": "_R3di2eD0J77"
      },
      "source": [
        ""
      ],
      "execution_count": null,
      "outputs": []
    }
  ]
}