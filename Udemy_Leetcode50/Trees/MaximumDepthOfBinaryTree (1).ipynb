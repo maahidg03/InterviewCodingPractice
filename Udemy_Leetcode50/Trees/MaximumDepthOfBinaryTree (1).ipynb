{
  "nbformat": 4,
  "nbformat_minor": 0,
  "metadata": {
    "colab": {
      "name": "MaximumDepthOfBinaryTree.ipynb",
      "provenance": []
    },
    "kernelspec": {
      "name": "python3",
      "display_name": "Python 3"
    },
    "language_info": {
      "name": "python"
    }
  },
  "cells": [
    {
      "cell_type": "code",
      "execution_count": null,
      "metadata": {
        "id": "H6IiGA-pypRs"
      },
      "outputs": [],
      "source": [
        "\"\"\"\n",
        "      Leetcode 104\n",
        "\n",
        "      Given the root of a binary tree, return its maximum depth.\n",
        "      \n",
        "      ---A binary tree's maximum depth is the number of nodes along the longest path from the root node down to the farthest leaf node.\n",
        "      ---Basically what we are doing startin at the root is we are getting left subtree depth andd right subtree ddepth\n",
        "          eg:         2\n",
        "                  4       7\n",
        "                      12      15 \n",
        "                            18\n",
        "              Our root is 2. Depth of left subtree = 1 ddepth of right subtree = 3 (excluding the root)\n",
        "              So maxDepth = max(leftSubTreeDepth, rightSubTreeDepth) + 1(for the root) => max(3,1)+1 = 4\n",
        "              ------\n",
        "              For node 7,\n",
        "              Depth of left subtree = 1 and depth of right subtree = 2\n",
        "              maxDepth = max(leftSubTreeDepth, rightSubTreeDepth) + 1(for the root) => max (1,2)+1 = 3\n",
        "\n",
        "              ---------------\n",
        "              Some base cases:\n",
        "              1. if root is not vaalid:\n",
        "                return 0 (this node cannot have children since its invallid so we don't really have a ddepth then no point traversing)\n",
        "              2. if root is a leaf node(ie doesn't have any children):\n",
        "                return 1 (since nno chilldren we cant go left or right but this node does exist)\n",
        "\n",
        "Time Complelxity = O(N) N = number of noeds of the tree and tree is travesed once\n",
        "Space Compexity = O(H) H = height of the tree (since its recursive)\n",
        "\"\"\"\n",
        "def maxDepth(self, root: TreeNode) -> int:\n",
        "        #Base case 1: if the node is invalid\n",
        "        if root is None:\n",
        "            return 0 #since it's invalid, no sense traversing\n",
        "        #Base case 2: if node is leaf node\n",
        "        if root.left is None and root.right is None:\n",
        "            return 1 #since this current nodde is consideredd in the depth\n",
        "        \n",
        "        leftSubTree = self.maxDepth(root.left) #find maxDepth of left subtree\n",
        "        rightSubTree = self.maxDepth(root.right) #find maxDepth of right Subtree\n",
        "        maximum = max(leftSubTree,rightSubTree) + 1#to add the root\n",
        "        \n",
        "        return maximum"
      ]
    }
  ]
}