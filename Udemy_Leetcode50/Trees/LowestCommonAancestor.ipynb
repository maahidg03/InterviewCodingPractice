{
  "nbformat": 4,
  "nbformat_minor": 0,
  "metadata": {
    "colab": {
      "name": "LowestCommonAancestor.ipynb",
      "provenance": []
    },
    "kernelspec": {
      "name": "python3",
      "display_name": "Python 3"
    },
    "language_info": {
      "name": "python"
    }
  },
  "cells": [
    {
      "cell_type": "code",
      "execution_count": null,
      "metadata": {
        "id": "Plgvd4nAlO_h"
      },
      "outputs": [],
      "source": [
        "\"\"\"\n",
        "    Leetcode: 236 lowest Common Ancestor:\n",
        "    Given a binary tree, find the lowest common ancestor (LCA) of two given nodes in the tree.\n",
        "    ---According to the definition of LCA on Wikipedia: “The lowest common ancestor is defined between two nodes p and q \n",
        "    as the lowest node in T that has both p and q as descendants (where we allow a node to be a descendant of itself).”\n",
        "\n",
        "    eg:         10\n",
        "              5     20\n",
        "            8      3   7\n",
        "                      1 2\n",
        "\n",
        "          p = 8 q= 3 -> LCA = 10 since there is no lower than 10 that has both 8 and 3 as descendents\n",
        "          p = 3 q=7 -> LCA = 20\n",
        "          p =3  q = 20 -> LCA =20 since a node is a descendent of itself\n",
        "\n",
        "      Hint1: try to think of a recursion logic that is goinng from bottom to upwards\n",
        "      Hint2: Think of a single node that is what needs to be ddone at a single node to find our answers\n",
        "              For ex we have nodde x. what needs to happen for this nodde to be our answer.?\n",
        "              --if we know that the left subtree has one of the noddes and the right subtree has the other node, means our node is the answer\n",
        "                BUT is it the LCA? It is for sure since this node is the direct ancestor of p and q\n",
        "                      x\n",
        "                    p   q\n",
        "                  So if we went lower on p subtree we will lose q in that subtree andd vice versa\n",
        "    Case1 : So if we have p on one side and q on the other side of a node we know for sure that nodde x is the lca\n",
        "    case2: if we find p in 1 subtree but caant find q in the other subtree (ddirect ancestor) -> currentNode cannot be LCA so we return p\n",
        "            saying that we for sure found p incase you find q further down \n",
        "\n",
        "\n",
        "\"\"\"\n",
        "class Solution:\n",
        "    \"\"\"\n",
        "        Time Complexity O(N) - we touch every node 1\n",
        "        Space Complexity O(N) - recursive call\n",
        "    \"\"\"\n",
        "    \n",
        "    \n",
        "    def lowestCommonAncestor(self, root: 'TreeNode', p: 'TreeNode', q: 'TreeNode') -> 'TreeNode':\n",
        "        #Base case 1: will happen when we reach to the very bottom all the way down of a tree.\n",
        "        #We will go up the tree aagain\n",
        "        if root is None:\n",
        "            return None\n",
        "        \n",
        "        #Next we check if either of p or q is equal to the current node ie if we found either p or q\n",
        "        #Because of this we are not going furthher down that tree we are only going back up therefore, return\n",
        "        if root.val == p.val or root.val == q.val:\n",
        "            return root\n",
        "        \n",
        "        #We continue searching for our target node: till one of our base cases is met and something is retuned\n",
        "        #Eventually, one of the base cases have to happen\n",
        "        left = self.lowestCommonAncestor(root.left, p,q)\n",
        "        right = self.lowestCommonAncestor(root.right,p,q)\n",
        "        \n",
        "        #If we didnt't findd our answer in our current Nodes subtrees\n",
        "        if left is None and right is None:\n",
        "            return None\n",
        "        \n",
        "        if left is not None and right is not None: #both llleft and right hhave value\n",
        "            return root\n",
        "        \n",
        "        #If one of these are validd return the other side which is vallid\n",
        "        if left is None:\n",
        "            return right\n",
        "        return left\n",
        "        \n",
        "        \n",
        "        "
      ]
    }
  ]
}