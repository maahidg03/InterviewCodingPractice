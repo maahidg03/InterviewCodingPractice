{
  "nbformat": 4,
  "nbformat_minor": 0,
  "metadata": {
    "colab": {
      "name": "SymmetricTrees.ipynb",
      "provenance": []
    },
    "kernelspec": {
      "name": "python3",
      "display_name": "Python 3"
    },
    "language_info": {
      "name": "python"
    }
  },
  "cells": [
    {
      "cell_type": "code",
      "execution_count": null,
      "metadata": {
        "id": "G9FNely3pqXZ"
      },
      "outputs": [],
      "source": [
        "\"\"\"\n",
        "      Leetcode 101\n",
        "      Given the root of a binary tree, check whether it is a mirror of itself (i.e., symmetric around its center).\n",
        "\n",
        "      So what we need to do here is pair comparison. So our RECURSIVE funnction will take at a time 2 nodes. Since we need 2 nodes to compare\n",
        "      * No comparison for the root because for root both the nodes in the function are actuallly the same noded which is the root\n",
        "                                5\n",
        "            Left subtree      2   2     Righht subtree\n",
        "                            3 4   4 3\n",
        "\n",
        "      If this is the tree, whaat we are actually comparing is the left subtree of a lleft subtree node with the right subtree of the righht subtree nnode.\n",
        "        ie after 2, we are comapring 3 from thhe left subtree node 2 with the 3 from the right subtree node\n",
        "        left subtree.left == right subtree.right AND\n",
        "        left subtree.right == right subtree.left\n",
        "\n",
        "    -----------------------------------------\n",
        "     1. 2 checks in our recursive function :\n",
        "        if t1 and t2 are invalid. If they are invalid thaat means they are symmetric since both are invalid so return True\n",
        "        if t1 is invalid OR t2 is invalid ie one of them is invalid, then return False\n",
        "        finallly add our 2 conditions described above into the recursive function\n",
        "    ----------------------------------------\n",
        "    The time compllexity of this solution is O(N) since we visit every node just once.\n",
        "    Space Complexity is O(N) since we hve a recursive call stack\n",
        "\"\"\"\n",
        "# Definition for a binary tree node.\n",
        "# class TreeNode:\n",
        "#     def __init__(self, val=0, left=None, right=None):\n",
        "#         self.val = val\n",
        "#         self.left = left\n",
        "#         self.right = right\n",
        "class Solution:\n",
        "    def ismirror(self, t1:Optional[TreeNode], t2:Optional[TreeNode]) -> bool:\n",
        "      # First baase condition to see if both nodes are invalid\n",
        "      if t1 is None and t2 is None:\n",
        "        return True\n",
        "      # Second base condition to check if one of the nodes is invalid\n",
        "      if (t1 is None or t2 is None):\n",
        "        return False\n",
        "      \n",
        "      #Final condition. If all the 3 connditions are true onlly then willl it return true else it willl return false.\n",
        "      # We are making sure here that value in the current nodes are equal aand recursively checking if the left and right subtrees of the 2 nodes match the conndition\n",
        "      return (t1.val == t2.val) and self.isMirror(t1.left,t2.right) and self.isMirror(t1.right,t2.left)\n",
        "\n",
        "\n",
        "    def isSymmetric(self, root: Optional[TreeNode]) -> bool:\n",
        "      # we will simplly return another function we create callled isMirror -> will actually return the final answer.\n",
        "      # isMirrir will take 2 inputs -> 2 nodes ie 2 heads of the current subtrees which we want to check if they are equal or not\n",
        "      return self.isMirror(root,root) #We begin at the root even though we know the roots are the same. We start at the root\n"
      ]
    }
  ]
}