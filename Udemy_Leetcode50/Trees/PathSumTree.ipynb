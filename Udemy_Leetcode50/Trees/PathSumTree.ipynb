{
  "nbformat": 4,
  "nbformat_minor": 0,
  "metadata": {
    "colab": {
      "name": "PathSumTree.ipynb",
      "provenance": []
    },
    "kernelspec": {
      "name": "python3",
      "display_name": "Python 3"
    },
    "language_info": {
      "name": "python"
    }
  },
  "cells": [
    {
      "cell_type": "code",
      "execution_count": null,
      "metadata": {
        "id": "xZuKBltmUj_N"
      },
      "outputs": [],
      "source": [
        "\"\"\"\n",
        "    Given the root of a binary tree and an integer targetSum, return true if the tree has a root-to-leaf path such that adding up all the values along the path equals targetSum.\n",
        "\n",
        "    A leaf is a node with no children.\n",
        "    -----We will create a function which will take the following inputs -> currentNode, targetSum, currentSum\n",
        "    1. We addd value of current node to currentSum\n",
        "        currentSum += currentNode.val \n",
        "    2. Condition to return true:\n",
        "        if (currentSum === targetSum and currentNode is leaf node): return True\n",
        "    3. else:\n",
        "        return (recursivecallLeftSubtree or recursivecallRightSubtree) # we write or so that even if one of them is True it will be true\n",
        "\"\"\"\n",
        "class Solution:\n",
        "    def hasSum (self, currentNode: TreeNode,targetSum: int,currentSum: int)-> bool:\n",
        "            #Base case 1. \n",
        "            if currentNode is None:\n",
        "                return False\n",
        "            \n",
        "            #Add value of currentnode to currentSum\n",
        "            currentSum += currentNode.val\n",
        "            #Check conditions: if sum equal and if currentNode is leaf node\n",
        "            if currentSum == targetSum and currentNode.left is None and currentNode.right is None:\n",
        "                return True\n",
        "            #else\n",
        "            return (self.hasSum(currentNode.left,targetSum,currentSum) or self.hasSum(currentNode.right,targetSum,currentSum))\n",
        "            #We use or operator here coz if the target sum exists in either one of them value should be true\n",
        "        \n",
        "    def hasPathSum(self, root: Optional[TreeNode], targetSum: int) -> bool:\n",
        "        return self.hasSum(root,targetSum,0)\n",
        "            \n"
      ]
    }
  ]
}