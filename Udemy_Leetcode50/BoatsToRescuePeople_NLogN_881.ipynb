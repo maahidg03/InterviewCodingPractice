{
  "nbformat": 4,
  "nbformat_minor": 0,
  "metadata": {
    "colab": {
      "name": "BoatsToRescuePeople_NLogN#881.ipynb",
      "provenance": []
    },
    "kernelspec": {
      "name": "python3",
      "display_name": "Python 3"
    },
    "language_info": {
      "name": "python"
    }
  },
  "cells": [
    {
      "cell_type": "code",
      "metadata": {
        "id": "b0lvWUq3wSmC"
      },
      "source": [
        "\"\"\"\n",
        "You are given an array people where people[i] is the weight of the ith person, and an infinite number of boats where each boat can carry a maximum weight of limit. Each boat carries at most two people at the same time, provided the sum of the weight of those people is at most limit.\n",
        "\n",
        "Return the minimum number of boats to carry every given person.\n",
        "\n",
        "-----------------------------------------------------------------------------------\n",
        "##Algorithm#\n",
        "\n",
        "1. Sort People array ascending order\n",
        "2. Try to club lightest person with heaviest person. Therefore have 2 pointers, left -> start and right = len(People)-1\n",
        "\n",
        "##Complexity\n",
        "\n",
        "Time: O(NLogN) since we are sorting the array. Assuming people.sort() function is the most efficient sorting algo, complexity will be O(NLogN). Also O(N) because we are looping through sorted people array. Together -> O(NLogN)\n",
        "Space: O(N) since we are sorting. At worst case, where no of boats = no of people -> space required = O(N)\n",
        "\"\"\""
      ],
      "execution_count": null,
      "outputs": []
    },
    {
      "cell_type": "code",
      "metadata": {
        "colab": {
          "base_uri": "https://localhost:8080/"
        },
        "id": "itye_f9ZwwTH",
        "outputId": "80b05c11-f9ef-4cce-a731-284f020bd7be"
      },
      "source": [
        "from typing import List\n",
        "\n",
        "class Solution:\n",
        "    def numRescueBoats(self, people: List[int], limit: int) -> int:\n",
        "      people.sort()\n",
        "      left = 0\n",
        "      right = len(people) - 1\n",
        "      no_boats = 0\n",
        "\n",
        "      while (left <= right):\n",
        "        if (left == right): #that is both left and right pointer point to the same person and he is the only person left\n",
        "          no_boats += 1\n",
        "          break\n",
        "        if (people[left] + people[right] <= limit):\n",
        "          no_boats += 1\n",
        "          left += 1\n",
        "          right -= 1\n",
        "        else:\n",
        "          no_boats += 1\n",
        "          right -= 1\n",
        "      \n",
        "      return no_boats\n",
        "\n",
        "s = Solution()\n",
        "arr = [3,2,2,1]\n",
        "limit = 3\n",
        "answer = s.numRescueBoats(arr,limit)\n",
        "print(answer)"
      ],
      "execution_count": 6,
      "outputs": [
        {
          "output_type": "stream",
          "text": [
            "3\n"
          ],
          "name": "stdout"
        }
      ]
    }
  ]
}