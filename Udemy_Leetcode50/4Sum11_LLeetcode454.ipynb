{
  "nbformat": 4,
  "nbformat_minor": 0,
  "metadata": {
    "colab": {
      "name": "4Sum11_LLeetcode454.ipynb",
      "provenance": []
    },
    "kernelspec": {
      "name": "python3",
      "display_name": "Python 3"
    },
    "language_info": {
      "name": "python"
    }
  },
  "cells": [
    {
      "cell_type": "code",
      "metadata": {
        "id": "d2hfC8_7oLuX"
      },
      "source": [
        "\"\"\"\n",
        "\n",
        "Given four integer arrays nums1, nums2, nums3, and nums4 all of length n, return the number of tuples (i, j, k, l) such that:\n",
        "\n",
        "0 <= i, j, k, l < n\n",
        "nums1[i] + nums2[j] + nums3[k] + nums4[l] == 0\n",
        "\n",
        "\n",
        "\"\"\""
      ],
      "execution_count": null,
      "outputs": []
    },
    {
      "cell_type": "code",
      "metadata": {
        "colab": {
          "base_uri": "https://localhost:8080/"
        },
        "id": "ZXH6H1bJoPTO",
        "outputId": "3c120c04-a993-4530-fd42-d8a53ad45ff1"
      },
      "source": [
        " from collections import defaultdict\n",
        " def fourSumCount(nums1, nums2, nums3, nums4):\n",
        "   hashmap = defaultdict(int)\n",
        "   count = 0\n",
        "   for i in nums1:\n",
        "     for j in nums2:\n",
        "       sum = i + j\n",
        "       if sum in hashmap:\n",
        "         hashmap[sum] += 1\n",
        "       else:\n",
        "          hashmap[sum] = 1\n",
        "\n",
        "   for k in nums3:\n",
        "     for l in nums4:\n",
        "        negSum = -(k+l)\n",
        "        if negSum in hashmap:\n",
        "          count += hashmap[negSum]\n",
        "   return count\n",
        "\n",
        "solution = (fourSumCount([1,2],[-2,-1],[-1,2],[0,2]))\n",
        "print(solution)"
      ],
      "execution_count": 7,
      "outputs": [
        {
          "output_type": "stream",
          "name": "stdout",
          "text": [
            "2\n"
          ]
        }
      ]
    },
    {
      "cell_type": "code",
      "metadata": {
        "id": "Y4-IcMEtxljF"
      },
      "source": [
        "\n"
      ],
      "execution_count": null,
      "outputs": []
    }
  ]
}