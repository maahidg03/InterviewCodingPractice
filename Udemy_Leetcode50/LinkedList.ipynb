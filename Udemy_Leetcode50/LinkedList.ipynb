{
  "nbformat": 4,
  "nbformat_minor": 0,
  "metadata": {
    "colab": {
      "name": "LinkedList.ipynb",
      "provenance": []
    },
    "kernelspec": {
      "name": "python3",
      "display_name": "Python 3"
    },
    "language_info": {
      "name": "python"
    }
  },
  "cells": [
    {
      "cell_type": "markdown",
      "metadata": {
        "id": "LdEA2_JZUePI"
      },
      "source": [
        "### Linked LList Creation"
      ]
    },
    {
      "cell_type": "code",
      "metadata": {
        "colab": {
          "base_uri": "https://localhost:8080/"
        },
        "id": "FV-2aanVUbWy",
        "outputId": "425f5599-dc67-4148-8954-f03ad10baa68"
      },
      "source": [
        "# Create a node class and initialize a constructor\n",
        "class Node:\n",
        "  def __init__(self,data):\n",
        "    self.data = data\n",
        "    self.next = None\n",
        "\n",
        "# Create a linked list class\n",
        "class LinkedList:\n",
        "  # LinkedList constructor only needs a head\n",
        "  def __init__(self):\n",
        "    self.head = None\n",
        "\n",
        "  def printLL(self):\n",
        "    # start priniting with the first node. \n",
        "    temp = self.head\n",
        "    while(temp):\n",
        "      print(temp.data)\n",
        "      temp = temp.next\n",
        "\n",
        "# Create instance of LL\n",
        "# Trying to create 5 4 3 2 1\n",
        "ll = LinkedList()\n",
        "ll.head = Node(5)\n",
        "\n",
        "second_node = Node(4)\n",
        "third_node = Node(3)\n",
        "fourth_node = Node(2)\n",
        "fifth_node = Node(1)\n",
        "\n",
        "ll.head.next = second_node\n",
        "second_node.next = third_node\n",
        "third_node.next = fourth_node\n",
        "fourth_node.next = fifth_node\n",
        "\n",
        "ll.printLL()"
      ],
      "execution_count": 5,
      "outputs": [
        {
          "output_type": "stream",
          "name": "stdout",
          "text": [
            "5\n",
            "4\n",
            "3\n",
            "2\n",
            "1\n"
          ]
        }
      ]
    },
    {
      "cell_type": "markdown",
      "metadata": {
        "id": "nxH94YFfYbgk"
      },
      "source": [
        "## Insertion Singly Linked List"
      ]
    },
    {
      "cell_type": "code",
      "metadata": {
        "colab": {
          "base_uri": "https://localhost:8080/"
        },
        "id": "Z4NbF0ZbYegS",
        "outputId": "f2f213c7-f1fa-4215-86b0-186bb6ac2a0f"
      },
      "source": [
        "# Create a node class and initialize a constructor\n",
        "class Node:\n",
        "  def __init__(self,data):\n",
        "    self.data = data\n",
        "    self.next = None\n",
        "\n",
        "# Create a linked list class\n",
        "class LinkedList:\n",
        "  # LinkedList constructor only needs a head\n",
        "  def __init__(self):\n",
        "    self.head = None\n",
        "\n",
        "  def printLL(self):\n",
        "    # start priniting with the first node. \n",
        "    temp = self.head\n",
        "    printStr = \"\"\n",
        "    while(temp):\n",
        "      #print(temp.data)\n",
        "      printStr += str(temp.data)\n",
        "      temp = temp.next\n",
        "    \n",
        "    print(printStr)\n",
        "\n",
        "  def insertNode(self,nodeData,position):\n",
        "    sixth_node = Node(nodeData)\n",
        "    if (position ==0): # NO previous node\n",
        "      sixth_node.next = self.head #since head becomes the second element, new head should point to (.next) head\n",
        "      self.head = sixth_node #pointer of the head should now point to the sixth_node\n",
        "      return\n",
        "\n",
        "    #in generic case we have a previous node\n",
        "    def getPrev(position):\n",
        "      temp = self.head\n",
        "      i = 0\n",
        "      while (i < position):\n",
        "        #print(temp.data)\n",
        "        temp = temp.next\n",
        "        i += 1\n",
        "      return temp\n",
        "\n",
        "    # Get previoous node\n",
        "    prev = getPrev(position)\n",
        "    nextNode = prev.next\n",
        "    prev.next = sixth_node\n",
        "    sixth_node.next = nextNode\n",
        "\n",
        "#--------------------------------------\n",
        "# Create instance of LL\n",
        "# Trying to create 5 4 3 2 1\n",
        "ll = LinkedList()\n",
        "ll.head = Node(5)\n",
        "\n",
        "second_node = Node(4)\n",
        "third_node = Node(3)\n",
        "fourth_node = Node(2)\n",
        "fifth_node = Node(1)\n",
        "\n",
        "ll.head.next = second_node\n",
        "second_node.next = third_node\n",
        "third_node.next = fourth_node\n",
        "fourth_node.next = fifth_node\n",
        "\n",
        "ll.printLL()\n",
        "#----------------------------------\n",
        "# Insert 6 after node 3\n",
        "\n",
        "\n",
        "ll.insertNode(6,2) #After 2nd position\n",
        "ll.printLL()"
      ],
      "execution_count": 16,
      "outputs": [
        {
          "output_type": "stream",
          "name": "stdout",
          "text": [
            "54321\n",
            "543621\n"
          ]
        }
      ]
    },
    {
      "cell_type": "markdown",
      "metadata": {
        "id": "-WJ5QHDLaiZL"
      },
      "source": [
        "## Deletion Linked List\n",
        "\n",
        "DeleteLL function gets a key -> The node that we want to delete"
      ]
    },
    {
      "cell_type": "code",
      "metadata": {
        "colab": {
          "base_uri": "https://localhost:8080/"
        },
        "id": "QaMoLI9jap8F",
        "outputId": "95db96b1-385c-4e5d-b12c-a88bb883f29c"
      },
      "source": [
        "# Create a node class and initialize a constructor\n",
        "class Node:\n",
        "  def __init__(self,data):\n",
        "    self.data = data\n",
        "    self.next = None\n",
        "\n",
        "# Create a linked list class\n",
        "class LinkedList:\n",
        "  # LinkedList constructor only needs a head\n",
        "  def __init__(self):\n",
        "    self.head = None\n",
        "\n",
        "  def printLL(self):\n",
        "    # start priniting with the first node. \n",
        "    temp = self.head\n",
        "    while(temp):\n",
        "      print(temp.data)\n",
        "      temp = temp.next\n",
        "  \n",
        "  def deleteLL(self,node):\n",
        "    temp = self.head\n",
        "\n",
        "    if temp is None:\n",
        "      return\n",
        "\n",
        "    # Checking if the data to be deleted is actually the first/head node\n",
        "    if temp.data == node:\n",
        "      self.head = temp.next #set the next node to be the head which is currently stored in head\n",
        "      temp = None #empty temp\n",
        "      return\n",
        "\n",
        "    # Generic case\n",
        "    while(temp.next.data != node): # Loop until the next node's data doesnt have our value ie 1 node before the actual node. Now we got the prev node\n",
        "      temp = temp.next\n",
        "\n",
        "    target_node = temp.next #temp's next contained the address to next node which is the node to be deleted\n",
        "    temp.next = target_node.next #Put address of target_node into temp's next\n",
        "    target_node.next = None #Broke the linked list\n",
        "\n",
        "# Create instance of LL\n",
        "# Trying to create 5 4 3 2 1\n",
        "ll = LinkedList()\n",
        "ll.head = Node(5)\n",
        "\n",
        "second_node = Node(4)\n",
        "third_node = Node(3)\n",
        "fourth_node = Node(2)\n",
        "fifth_node = Node(1)\n",
        "\n",
        "ll.head.next = second_node\n",
        "second_node.next = third_node\n",
        "third_node.next = fourth_node\n",
        "fourth_node.next = fifth_node\n",
        "\n",
        "ll.printLL()\n",
        "# Deleting third node\n",
        "ll.deleteLL(3)\n",
        "ll.printLL()"
      ],
      "execution_count": 20,
      "outputs": [
        {
          "output_type": "stream",
          "name": "stdout",
          "text": [
            "5\n",
            "4\n",
            "3\n",
            "2\n",
            "1\n",
            "5\n",
            "4\n",
            "2\n",
            "1\n"
          ]
        }
      ]
    },
    {
      "cell_type": "markdown",
      "metadata": {
        "id": "_ZNYv0pQGsR3"
      },
      "source": [
        "# Doubly Linked Lists\n",
        "\n",
        "You can go both ways forward and backward.\n",
        "So node has previous and next pointer"
      ]
    },
    {
      "cell_type": "code",
      "metadata": {
        "colab": {
          "base_uri": "https://localhost:8080/"
        },
        "id": "w6Vt2JZzG8UR",
        "outputId": "d0390a55-46f2-4e05-8fba-d275486d27e4"
      },
      "source": [
        "#Creation Doubly Linked List\n",
        "\n",
        "class Node:\n",
        "  def __init__(self,data):\n",
        "    self.data = data\n",
        "    self.next = None\n",
        "    self.prev = None\n",
        "\n",
        "class Doubly: \n",
        "  def __init__(self):\n",
        "    self.head = None\n",
        "\n",
        "  def printLL(self):\n",
        "    temp = self.head\n",
        "    ll_string = \"\"\n",
        "    while(temp):\n",
        "      ll_string += \" \"+str(temp.data)\n",
        "      temp = temp.next\n",
        "    \n",
        "    print(ll_string)\n",
        "      \n",
        "\n",
        "d_ll = Doubly()\n",
        "d_ll.head = Node(5)\n",
        "\n",
        "second_node = Node(4)\n",
        "third_node = Node(3)\n",
        "fourth_node = Node(2)\n",
        "fifth_node = Node(1)\n",
        "\n",
        "d_ll.head.next = second_node\n",
        "second_node.prev = d_ll\n",
        "second_node.next = third_node\n",
        "\n",
        "third_node.next = fourth_node\n",
        "third_node.prev = second_node\n",
        "\n",
        "fourth_node.next = fifth_node\n",
        "fourth_node.prev = third_node\n",
        "\n",
        "fifth_node.next = None\n",
        "fifth_node.prev = fourth_node\n",
        "\n",
        "d_ll.printLL()"
      ],
      "execution_count": 26,
      "outputs": [
        {
          "output_type": "stream",
          "name": "stdout",
          "text": [
            " 5 4 3 2 1\n"
          ]
        }
      ]
    },
    {
      "cell_type": "code",
      "metadata": {
        "colab": {
          "base_uri": "https://localhost:8080/"
        },
        "id": "lEGHoqNqG8cK",
        "outputId": "6276e22c-e74b-4188-cd87-e8236159c0fc"
      },
      "source": [
        "#Creation Doubly Linked List\n",
        "# Creation moore dynamic -> Create LL from array\n",
        "class Node:\n",
        "  def __init__(self,data):\n",
        "    self.data = data\n",
        "    self.next = None\n",
        "    self.prev = None\n",
        "\n",
        "class Doubly: \n",
        "  def __init__(self):\n",
        "    self.head = None\n",
        "\n",
        "  def createLL(self,array):\n",
        "    start = self.head\n",
        "    length = len(array)\n",
        "    i = 0\n",
        "\n",
        "    #Hold another variable to hold the start node. This temp is the pointer\n",
        "    temp = start\n",
        "\n",
        "    while(i<length):\n",
        "      new_node = Node(array[i])\n",
        "      # Check if first element\n",
        "      if i == 0:\n",
        "        start = new_node # set the start node as this current node\n",
        "        temp = start # so temp holds the previous node as the first node when creating LL. In other cases temp is set to next node as pointer.\n",
        "      else:\n",
        "        temp.next = new_node\n",
        "        new_node.prev = temp\n",
        "        temp = temp.next #increase the pointer\n",
        "      i += 1\n",
        "\n",
        "    # set headd as the start node s created in the if condition\n",
        "    self.head = start\n",
        "    return start #which now holds the linked list -> not real just the head element\n",
        "\n",
        "\n",
        "  def printLL(self):\n",
        "    temp = self.head\n",
        "    ll_string = \"\"\n",
        "    while(temp):\n",
        "      ll_string += \" \"+str(temp.data)\n",
        "      temp = temp.next\n",
        "    \n",
        "    print(ll_string)\n",
        "      \n",
        "\n",
        "d_ll = Doubly()\n",
        "d_ll.createLL([5,4,3,2,1])\n",
        "\n",
        "d_ll.printLL()"
      ],
      "execution_count": 28,
      "outputs": [
        {
          "output_type": "stream",
          "name": "stdout",
          "text": [
            " 5 4 3 2 1\n"
          ]
        }
      ]
    },
    {
      "cell_type": "markdown",
      "metadata": {
        "id": "_qC_-LzLOXXd"
      },
      "source": [
        "## Insertion Doubly Linked List"
      ]
    },
    {
      "cell_type": "code",
      "metadata": {
        "colab": {
          "base_uri": "https://localhost:8080/"
        },
        "id": "TtPFnvbdOZ7S",
        "outputId": "986cd509-3e9e-455d-f7c4-8630b68561a2"
      },
      "source": [
        "#Creation Doubly Linked List\n",
        "# Creation moore dynamic -> Create LL from array\n",
        "class Node:\n",
        "  def __init__(self,data):\n",
        "    self.data = data\n",
        "    self.next = None\n",
        "    self.prev = None\n",
        "\n",
        "class Doubly: \n",
        "  def __init__(self):\n",
        "    self.head = None\n",
        "\n",
        "  def createLL(self,array):\n",
        "    start = self.head\n",
        "    length = len(array)\n",
        "    i = 0\n",
        "\n",
        "    #Hold another variable to hold the start node. This temp is the pointer\n",
        "    temp = start\n",
        "\n",
        "    while(i<length):\n",
        "      new_node = Node(array[i])\n",
        "      # Check if first element\n",
        "      if i == 0:\n",
        "        start = new_node # set the start node as this current node\n",
        "        temp = start # so temp holds the previous node as the first node when creating LL. In other cases temp is set to next node as pointer.\n",
        "      else:\n",
        "        temp.next = new_node\n",
        "        new_node.prev = temp\n",
        "        temp = temp.next #increase the pointer\n",
        "      i += 1\n",
        "\n",
        "    # set headd as the start node s created in the if condition\n",
        "    self.head = start\n",
        "    return start #which now holds the linked list -> not real just the head element\n",
        "\n",
        "\n",
        "  def insertNode(self,val,position):\n",
        "    new_node = Node(val)\n",
        "    temp = self.head\n",
        "    i = 0\n",
        "    #Inserting in the beginning\n",
        "    if position == 0:\n",
        "      temp.prev = new_node\n",
        "      new_node.next = temp\n",
        "      self.head = new_node\n",
        "      return self.head\n",
        "\n",
        "    #getting the previous node in temp\n",
        "    while (i < position-1): # Do position -1 since we want to get the prev node to where we are trying to insert\n",
        "      temp = temp.next\n",
        "      i += 1\n",
        "\n",
        "    # Now temp hold the prev node\n",
        "    new_node.next = temp.next\n",
        "    new_node.prev = temp\n",
        "    temp.next.prev = new_node\n",
        "    temp.next = new_node\n",
        "\n",
        "    return \n",
        "\n",
        "\n",
        "  def printLL(self):\n",
        "    temp = self.head\n",
        "    ll_string = \"\"\n",
        "    while(temp):\n",
        "      ll_string += \" \"+str(temp.data)\n",
        "      temp = temp.next\n",
        "    \n",
        "    print(ll_string)\n",
        "      \n",
        "\n",
        "\n",
        "#---------Creating the linked list------------------\n",
        "d_ll = Doubly()\n",
        "d_ll.createLL([5,4,3,2,1])\n",
        "\n",
        "d_ll.printLL()\n",
        "\n",
        "#----------Insert a value at a position--------------\n",
        "d_ll.insertNode(6,2)\n",
        "d_ll.printLL()"
      ],
      "execution_count": 37,
      "outputs": [
        {
          "output_type": "stream",
          "name": "stdout",
          "text": [
            " 5 4 3 2 1\n",
            " 5 4 6 3 2 1\n"
          ]
        }
      ]
    },
    {
      "cell_type": "markdown",
      "metadata": {
        "id": "E49HVz6KUI1U"
      },
      "source": [
        "## Deletion from Dooubly Linked Lists"
      ]
    },
    {
      "cell_type": "code",
      "metadata": {
        "colab": {
          "base_uri": "https://localhost:8080/"
        },
        "id": "P9hr--THUMmA",
        "outputId": "541b22cb-d51d-4e9a-c708-eadcb6d0c7ef"
      },
      "source": [
        "#Creation Doubly Linked List\n",
        "# Creation moore dynamic -> Create LL from array\n",
        "class Node:\n",
        "  def __init__(self,data):\n",
        "    self.data = data\n",
        "    self.next = None\n",
        "    self.prev = None\n",
        "\n",
        "class Doubly: \n",
        "  def __init__(self):\n",
        "    self.head = None\n",
        "\n",
        "  def createLL(self,array):\n",
        "    start = self.head\n",
        "    length = len(array)\n",
        "    i = 0\n",
        "\n",
        "    #Hold another variable to hold the start node. This temp is the pointer\n",
        "    temp = start\n",
        "\n",
        "    while(i<length):\n",
        "      new_node = Node(array[i])\n",
        "      # Check if first element\n",
        "      if i == 0:\n",
        "        start = new_node # set the start node as this current node\n",
        "        temp = start # so temp holds the previous node as the first node when creating LL. In other cases temp is set to next node as pointer.\n",
        "      else:\n",
        "        temp.next = new_node\n",
        "        new_node.prev = temp\n",
        "        temp = temp.next #increase the pointer\n",
        "      i += 1\n",
        "\n",
        "    # set headd as the start node s created in the if condition\n",
        "    self.head = start\n",
        "    return start #which now holds the linked list -> not real just the head element\n",
        "\n",
        "  def deleteLL(self, value):\n",
        "    temp = self.head\n",
        "\n",
        "    #Check if the value to be deleted is the first node\n",
        "    if (temp.data == value):\n",
        "      self.head = temp.next\n",
        "      temp.next = None\n",
        "      temp.next.prev = None\n",
        "      return self.head\n",
        "\n",
        "    while (temp.next.data != value):\n",
        "      temp = temp.next # keep moving the pointer forward until you reach a node whose next node's data is == value.\n",
        "\n",
        "    # Now temp holds the prev node. Begiin by creating a target node\n",
        "    target_node = temp.next #Since temp holds the prev node\n",
        "    temp.next = target_node.next\n",
        "    target_node.next.prev = temp\n",
        "    target_node = None\n",
        "    return\n",
        "\n",
        "    \n",
        "\n",
        "  def printLL(self):\n",
        "    temp = self.head\n",
        "    ll_string = \"\"\n",
        "    while(temp):\n",
        "      ll_string += \" \"+str(temp.data)\n",
        "      temp = temp.next\n",
        "    \n",
        "    print(ll_string)\n",
        "      \n",
        "\n",
        "d_ll = Doubly()\n",
        "d_ll.createLL([5,4,3,2,1])\n",
        "\n",
        "d_ll.printLL()\n",
        "\n",
        "# ---- Delete-----\n",
        "d_ll.deleteLL(3)\n",
        "d_ll.printLL()"
      ],
      "execution_count": 39,
      "outputs": [
        {
          "output_type": "stream",
          "name": "stdout",
          "text": [
            " 5 4 3 2 1\n",
            " 5 4 2 1\n"
          ]
        }
      ]
    },
    {
      "cell_type": "code",
      "metadata": {
        "id": "_rYijkJlUMuc"
      },
      "source": [
        ""
      ],
      "execution_count": null,
      "outputs": []
    }
  ]
}