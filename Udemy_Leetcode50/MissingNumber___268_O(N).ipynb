{
  "nbformat": 4,
  "nbformat_minor": 0,
  "metadata": {
    "colab": {
      "name": "MissingNumber _#268_O(N).ipynb",
      "provenance": []
    },
    "kernelspec": {
      "name": "python3",
      "display_name": "Python 3"
    },
    "language_info": {
      "name": "python"
    }
  },
  "cells": [
    {
      "cell_type": "code",
      "metadata": {
        "id": "HVNe-ALSUDm9"
      },
      "source": [
        "\"\"\"\n",
        "\n",
        "Given an array nums containing n distinct numbers in the range [0, n], return the only number in the range that is missing from the array.\n",
        "\n",
        "Follow up: Could you implement a solution using only O(1) extra space complexity and O(n) runtime complexity?\n",
        "    Space Complexity fro this solution is O(1) since no new data structures were created. \n",
        "    Time complexity is O(n) because we use the sum function which loops ofer every element in the array\n",
        "\"\"\""
      ],
      "execution_count": null,
      "outputs": []
    },
    {
      "cell_type": "code",
      "metadata": {
        "colab": {
          "base_uri": "https://localhost:8080/"
        },
        "id": "VioAD2d9WzKO",
        "outputId": "cce8ba26-07c2-406b-e316-e2792d216573"
      },
      "source": [
        "from typing import List\n",
        "class Solution:\n",
        "    def missingNumber(self, nums: List[int]) -> int:\n",
        "      n= len(nums)\n",
        "      intendedSum = (n * (n+1))/2\n",
        "      actualSum = sum(nums)\n",
        "      return int(intendedSum - actualSum)\n",
        "    \n",
        "s=Solution()\n",
        "nums = [0,3,1]\n",
        "answer = s.missingNumber(nums)\n",
        "print(answer)"
      ],
      "execution_count": 3,
      "outputs": [
        {
          "output_type": "stream",
          "text": [
            "2\n"
          ],
          "name": "stdout"
        }
      ]
    }
  ]
}