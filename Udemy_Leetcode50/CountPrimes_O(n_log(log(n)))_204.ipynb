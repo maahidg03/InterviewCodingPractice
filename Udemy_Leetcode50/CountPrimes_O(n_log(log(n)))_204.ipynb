{
  "nbformat": 4,
  "nbformat_minor": 0,
  "metadata": {
    "colab": {
      "name": "CountPrimes_O(n*log(log(n)))_204.ipynb",
      "provenance": []
    },
    "kernelspec": {
      "name": "python3",
      "display_name": "Python 3"
    },
    "language_info": {
      "name": "python"
    }
  },
  "cells": [
    {
      "cell_type": "code",
      "metadata": {
        "id": "OorDUDgciED8"
      },
      "source": [
        "\"\"\"\n",
        "\n",
        "    Given an integer n, return the number of prime numbers that are strictly less than n\n",
        "    -----------------------------\n",
        "    Input: n = 10\n",
        "    Output: 4\n",
        "    Explanation: There are 4 prime numbers less than 10, they are 2, 3, 5, 7.\n",
        "    //---------------------------\n",
        "    What is a prime?\n",
        "    1. Greater than 1\n",
        "    2. Non divisible by nythimg except one and itself\n",
        "\n",
        "    ------------------------------------------------------SOLUTION----------\n",
        "    Algorithm we will be using is Sieve of Eratosthenes - ancient ancient algorithm\n",
        "    1. Define a boolena array of size n and set all elements to True(ie prime) except 0, 1\n",
        "\n",
        "    2. Loop from i=2. 2 since 0,1 is already False. while(i*i) < n : ex if n=34. We will loop from 2 to 5 since 5*5 = 25 which is <34. But 6* 6 = 36\n",
        "        sqrt(n) is a part of the algorithm\n",
        "\n",
        "    3. Check the boolean array for value of i. \n",
        "        if (value[i] == True){\n",
        "          //ie i is prime, all multiples of i which are less than N are not primes  \n",
        "          set booleanArray of multiples of i as False\n",
        "        }\n",
        "    \n",
        "    4. Return count of all True values\n",
        "\n",
        "    #Time complexity : O(n*log(log(n))) \n",
        "\n",
        "\"\"\""
      ],
      "execution_count": null,
      "outputs": []
    },
    {
      "cell_type": "code",
      "metadata": {
        "colab": {
          "base_uri": "https://localhost:8080/"
        },
        "id": "FE651FrcraZQ",
        "outputId": "fb036375-8f9b-4946-f342-4d118e59f0b2"
      },
      "source": [
        "import math\n",
        "def countPrimes(n):\n",
        "  # Check if n<2. If yes then there are no prime numbers\n",
        "  if n < 2:\n",
        "    return 0\n",
        "  # Create an isPrime array of length n with all values said to True implying all numbers are prime\n",
        "  isPrime = [True] * n\n",
        "  # Set index 0,1 as False since we know they are not prime\n",
        "  isPrime[0] = isPrime[1] = False\n",
        "\n",
        "  # As per the algorithm loop from i = 2 to sqrt(n)\n",
        "  for i in range(2,int(math.ceil(math.sqrt(n)))): #math.sqrt -> math.ceil to round off the number and int to convert it to int if it's decimal\n",
        "    if isPrime[i]:\n",
        "      for j in range(i*i,n,i): # suppose i=3, start loop from sq of 3 since all non primess before 9 are already marked\n",
        "        isPrime[j] = False\n",
        "\n",
        "  return sum(isPrime)\n",
        "\n",
        "solution = countPrimes(10)\n",
        "print(solution)\n",
        "solution = countPrimes(50)\n",
        "print(solution)"
      ],
      "execution_count": 8,
      "outputs": [
        {
          "output_type": "stream",
          "name": "stdout",
          "text": [
            "4\n",
            "15\n"
          ]
        }
      ]
    }
  ]
}