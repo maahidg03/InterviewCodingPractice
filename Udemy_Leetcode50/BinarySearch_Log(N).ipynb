{
  "nbformat": 4,
  "nbformat_minor": 0,
  "metadata": {
    "colab": {
      "name": "BinarySearch_Log(N).ipynb",
      "provenance": []
    },
    "kernelspec": {
      "name": "python3",
      "display_name": "Python 3"
    },
    "language_info": {
      "name": "python"
    }
  },
  "cells": [
    {
      "cell_type": "code",
      "metadata": {
        "colab": {
          "base_uri": "https://localhost:8080/"
        },
        "id": "UF6chBs_31tE",
        "outputId": "69e50d5c-5c6f-44da-f16a-cf3bdeba5db9"
      },
      "source": [
        "def binarySearch(arr,element):\n",
        "  i=0\n",
        "  j=len(arr) - 1\n",
        "  while i <= j:\n",
        "    middle = (i+j)//2\n",
        "    if arr[middle] == element:\n",
        "      return middle\n",
        "    elif arr[middle] > element:\n",
        "      j= middle - 1\n",
        "    else: \n",
        "      i = middle +1\n",
        "  \n",
        "  return -1\n",
        "  \n",
        "arr = [10,11,12,13,14,15]\n",
        "answer = binarySearch(arr,13)\n",
        "if answer!= -1:\n",
        "  print(\"Index of target is: \",answer)\n",
        "else:\n",
        "  print(\"Target not found\")"
      ],
      "execution_count": 10,
      "outputs": [
        {
          "output_type": "stream",
          "text": [
            "Index of target is:  3\n"
          ],
          "name": "stdout"
        }
      ]
    }
  ]
}