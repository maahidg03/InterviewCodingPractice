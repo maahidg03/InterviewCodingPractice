{
  "nbformat": 4,
  "nbformat_minor": 0,
  "metadata": {
    "colab": {
      "name": "MoveZeroes#283.ipynb",
      "provenance": []
    },
    "kernelspec": {
      "name": "python3",
      "display_name": "Python 3"
    },
    "language_info": {
      "name": "python"
    }
  },
  "cells": [
    {
      "cell_type": "code",
      "metadata": {
        "id": "y8PNp4w7iA8H"
      },
      "source": [
        "\"\"\"\n",
        "Given an integer array nums, move all 0's to the end of it while maintaining the relative order of the non-zero elements.\n",
        "\n",
        "Note that you must do this in-place without making a copy of the array.\n",
        "\"\"\""
      ],
      "execution_count": null,
      "outputs": []
    },
    {
      "cell_type": "code",
      "metadata": {
        "colab": {
          "base_uri": "https://localhost:8080/"
        },
        "id": "pYyub5PwihWI",
        "outputId": "87c35369-0d50-4104-819d-c978ed5df20d"
      },
      "source": [
        "def moveZeroes(nums):\n",
        "  j=0 #Count of non zeroes\n",
        "\n",
        "  for i in nums:\n",
        "    if (i!=0):\n",
        "      nums[j] = i\n",
        "      j += 1\n",
        "  \n",
        "  print(\"Count of non zero elements: \",j)\n",
        "\n",
        "  for i in range(j,len(nums)):\n",
        "    nums[i] = 0\n",
        "    print(nums[j])\n",
        "  \n",
        "  print(nums)\n",
        "\n",
        "arr = [0,1,3,0,12]\n",
        "moveZeroes(arr)"
      ],
      "execution_count": 12,
      "outputs": [
        {
          "output_type": "stream",
          "text": [
            "Count of non zero elements:  3\n",
            "0\n",
            "0\n",
            "[1, 3, 12, 0, 0]\n"
          ],
          "name": "stdout"
        }
      ]
    }
  ]
}