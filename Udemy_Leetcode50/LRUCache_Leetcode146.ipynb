{
  "nbformat": 4,
  "nbformat_minor": 0,
  "metadata": {
    "colab": {
      "name": "LRUCache_Leetcode146.ipynb",
      "provenance": []
    },
    "kernelspec": {
      "name": "python3",
      "display_name": "Python 3"
    },
    "language_info": {
      "name": "python"
    }
  },
  "cells": [
    {
      "cell_type": "code",
      "metadata": {
        "id": "VbxL-axYzSvS"
      },
      "source": [
        "\"\"\"\n",
        "\n",
        "  Design a data structure that follows the constraints of a Least Recently Used (LRU) cache.\n",
        "\n",
        "  Implement the LRUCache class:\n",
        "\n",
        "  LRUCache(int capacity) Initialize the LRU cache with positive size capacity.\n",
        "  int get(int key) Return the value of the key if the key exists, otherwise return -1.\n",
        "  void put(int key, int value) Update the value of the key if the key exists. Otherwise, add the key-value pair to the cache. If the number of keys exceeds the capacity from this operation, evict the least recently used key.\n",
        "  \n",
        "  The functions get and put must each run in O(1) average time complexity.\n",
        "\n",
        "\"\"\""
      ],
      "execution_count": null,
      "outputs": []
    },
    {
      "cell_type": "code",
      "metadata": {
        "id": "qzPmbGDD1Wy1"
      },
      "source": [
        "#Important aspects: initialze all three in the constructor\n",
        "\"\"\"\n",
        "  1. Capacity\n",
        "  2. For fast lookups -> hashmap\n",
        "  3. fast removal -> deques\n",
        "\"\"\"\n",
        "from collections import deque\n",
        "class LRUCache:\n",
        "\n",
        "    def __init__(self, capacity: int):\n",
        "      self.capacity = capacity\n",
        "      self.hashmap = {} # contains the key value pair\n",
        "      self.dq = deque() # conatins all keys in sequence\n",
        "        \n",
        "\n",
        "    def get(self, key: int) -> int:\n",
        "      \"\"\"\n",
        "        Basic operations in get:\n",
        "        1. check if key present in hashmap. if not return -1\n",
        "        2. If yes, move key to the front of the queue and return value from map\n",
        "      \"\"\"\n",
        "      if key in self.hashmap:\n",
        "        self.dq.remove(key)\n",
        "        self.dq.append(key)\n",
        "        return self.hashmap[key]\n",
        "      else:\n",
        "        return -1\n",
        "        \n",
        "\n",
        "    def put(self, key: int, value: int) -> None:\n",
        "      \"\"\"\n",
        "        Basic ops:\n",
        "        1. check if key is NOT already in map -> If NOT in map, check if we have the capacity to hold it. -> If we DONT have capacity:\n",
        "          1.1 pop last element from queue and remove key from map\n",
        "        2. If in in map:\n",
        "          2.1 remove key from queue\n",
        "          2.2 set the value for the key in the map\n",
        "          2.3 push key to the front  \n",
        "      \"\"\"\n",
        "      if key not in self.hashmap:\n",
        "        if len(self.dq) == self.capacity:\n",
        "          tobeDel = self.dq.popleft()\n",
        "          del self.hashmap[tobeDel]\n",
        "      else:\n",
        "        self.dq.remove(key)\n",
        "        self.hashmap[key] = value\n",
        "        self.dq.append(key)\n",
        "\n",
        "# Your LRUCache object will be instantiated and called as such:\n",
        "        # obj = LRUCache(capacity)\n",
        "        # param_1 = obj.get(key)\n",
        "        # obj.put(key,value)\n"
      ],
      "execution_count": null,
      "outputs": []
    }
  ]
}