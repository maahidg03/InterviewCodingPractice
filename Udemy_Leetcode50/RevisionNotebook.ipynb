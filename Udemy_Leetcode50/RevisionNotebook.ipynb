{
  "nbformat": 4,
  "nbformat_minor": 0,
  "metadata": {
    "colab": {
      "name": "RevisionNotebook.ipynb",
      "provenance": []
    },
    "kernelspec": {
      "name": "python3",
      "display_name": "Python 3"
    },
    "language_info": {
      "name": "python"
    }
  },
  "cells": [
    {
      "cell_type": "markdown",
      "metadata": {
        "id": "HvHt6trRya6H"
      },
      "source": [
        "#Revision Problems -> 3 - 10 - 2021"
      ]
    },
    {
      "cell_type": "markdown",
      "metadata": {
        "id": "zURDla_yyj0T"
      },
      "source": [
        "###1 Binary Search\n"
      ]
    },
    {
      "cell_type": "code",
      "metadata": {
        "colab": {
          "base_uri": "https://localhost:8080/"
        },
        "id": "ro63s5NPyjOw",
        "outputId": "5aced9db-844e-45fc-e99f-9d47114ffe98"
      },
      "source": [
        "# Reduces complexity since we only search half the array.\n",
        "# Only works for sorted array. Returning the index of the array\n",
        "def binarySearh(array,element):\n",
        "  i,j = 0,len(array)-1\n",
        "  while (i<=j):\n",
        "    mid = (i + j)//2 #returns whole number\n",
        "    if array[mid] == element:\n",
        "      return mid\n",
        "    elif array[mid] < element:\n",
        "      i = mid + 1\n",
        "    else:\n",
        "      j = mid - 1\n",
        "  return -1 #Not found\n",
        "\n",
        "solution = binarySearh([11,12,13,14,15], 13)\n",
        "print(solution)\n",
        "solution1 = binarySearh([1,2,3,4,5], 5)\n",
        "print(solution1)"
      ],
      "execution_count": null,
      "outputs": [
        {
          "output_type": "stream",
          "name": "stdout",
          "text": [
            "2\n",
            "4\n"
          ]
        }
      ]
    },
    {
      "cell_type": "markdown",
      "metadata": {
        "id": "XZOj95OA22ai"
      },
      "source": [
        "### 2. Sliding Window Technique\n",
        "\n",
        "Ex: Maximum sum of k consecutive elements"
      ]
    },
    {
      "cell_type": "code",
      "metadata": {
        "colab": {
          "base_uri": "https://localhost:8080/"
        },
        "id": "0B1Mtgfc29km",
        "outputId": "5955f16d-ec5f-4196-b2fe-c3ce7b1da605"
      },
      "source": [
        "# start window initial window sum ie sum of the first k (window size) elements as max_sum\n",
        "# loop until n-k so that k elements are left in the end of the array when finding window sum\n",
        "### MAIN PART : Subtract the first element (current element i) from the window sum and add the next element outside the window to slide the window to the right\n",
        "### window_sum = window_sum - array[i] + array[i+k] (since the last element in the window will be i+k-1)\n",
        "\n",
        "# Remember to add border condition : If array size = window size return -1 meaning invalid\n",
        "\n",
        "def slidingWindow(array,k):\n",
        "  if (len(array) <= k):\n",
        "    print(\"Invalid Operation\")\n",
        "    return -1\n",
        "\n",
        "  #WINDOW SUM\n",
        "  window_sum = sum([array[i] for i in range(0,k)])\n",
        "  max_sum = window_sum\n",
        "\n",
        "  for j in range (0,len(array)-k):\n",
        "    window_sum = window_sum - array[j] + array[j+k]\n",
        "    max_sum = max(window_sum,max_sum)\n",
        "  \n",
        "  return max_sum\n",
        "\n",
        "solution = slidingWindow([80,-50,90,100], 2)\n",
        "print(solution)\n"
      ],
      "execution_count": null,
      "outputs": [
        {
          "output_type": "stream",
          "name": "stdout",
          "text": [
            "190\n"
          ]
        }
      ]
    },
    {
      "cell_type": "markdown",
      "metadata": {
        "id": "7A11SCCH7jOy"
      },
      "source": [
        "### 3. Move Zeroes - Easy - #283\n",
        "\n",
        "Given an array, move all 0s to the end while maintaining the relatie order of the other elememnts"
      ]
    },
    {
      "cell_type": "code",
      "metadata": {
        "colab": {
          "base_uri": "https://localhost:8080/"
        },
        "id": "jpprFw7l7o7h",
        "outputId": "f7ae0d4c-4e59-4d37-c6c1-0ef2f2382812"
      },
      "source": [
        "# Instead of moving the 0s to the end of the array, move all the non zero elements to the front of the array.\n",
        "# Keep a count of non-zero elements\n",
        "# Simply insert the number of 0s at the end\n",
        "\n",
        "def moveZeroes(array):\n",
        "  solutionArray = []\n",
        "  count = 0\n",
        "  for i in range(0,len(array)): #for num in array:\n",
        "    if array[i] != 0:             \n",
        "      solutionArray.append(array[i]) #array[count] = num\n",
        "      count += 1\n",
        "\n",
        "  for j in range(count,len(array)):\n",
        "    solutionArray.append(0)\n",
        "\n",
        "  return solutionArray\n",
        "\n",
        "solution = moveZeroes([0,1,12,0,13,15])\n",
        "print(solution)\n",
        "solution1 = moveZeroes([0,0,0,13,15])\n",
        "print(solution1)"
      ],
      "execution_count": null,
      "outputs": [
        {
          "output_type": "stream",
          "name": "stdout",
          "text": [
            "[1, 12, 13, 15, 0, 0]\n",
            "[13, 15, 0, 0, 0]\n"
          ]
        }
      ]
    },
    {
      "cell_type": "markdown",
      "metadata": {
        "id": "FfjfcSZOD36_"
      },
      "source": [
        "10/04/2021\n",
        "### 4. Minimum number of Boats to move people - Medium #881\n",
        "\n",
        "Given an array such that, at value at array[i] is the weight of person i. Given a limit = maximum weight boat can carry. Find number of boatss required to move the people"
      ]
    },
    {
      "cell_type": "code",
      "metadata": {
        "colab": {
          "base_uri": "https://localhost:8080/"
        },
        "id": "J1W4e4S2EQ1L",
        "outputId": "e671ccdd-1dc3-41b2-9f93-4ba370e99918"
      },
      "source": [
        "# Sort the array -> since we want to maximize the no of pairss that we can get out of the number of people\n",
        "# Compleity is nLog(n) since we sort the array + O(n) therefore, nLogN \n",
        "# Space complexity O(N) since sorting (best caase) can be sorted using O(N)\n",
        "\n",
        "def boatsToMove(array,limit):\n",
        "  array.sort()\n",
        "  count = 0\n",
        "  i, j = 0 , len(array) - 1\n",
        "  \n",
        "  while (i<=j):\n",
        "    if i == j :\n",
        "      count += 1\n",
        "      break\n",
        "\n",
        "    if (array[i]+array[j] <= limit): #heaviest + lightest people together\n",
        "      count += 1\n",
        "      i+=1\n",
        "      j-=1\n",
        "      \n",
        "    else:\n",
        "      count +=1\n",
        "      j-=1\n",
        "      \n",
        "  return count\n",
        "\n",
        "solution = boatsToMove([3,2,2,1], 3)\n",
        "print(solution)\n"
      ],
      "execution_count": null,
      "outputs": [
        {
          "output_type": "stream",
          "name": "stdout",
          "text": [
            "3\n"
          ]
        }
      ]
    },
    {
      "cell_type": "markdown",
      "metadata": {
        "id": "8NwISHTiGUB6"
      },
      "source": [
        "## Bonus AMAZON OA question\n",
        "\n",
        "Amazon is hosting a team hackathon. \n",
        "1. Each team will have exactly teamSize developers\n",
        "2. A developer's skill level is denoted by skill[i]\n",
        "3. The difference between the maximum and minimum skilll levels within a team cannot exceed a threshold maxDiff\n",
        "\n",
        "Determine the maximum number of teams that can be formed from the contestants\n",
        "\n",
        "Eg: [3,4,3,1,6,5]\n",
        "teamSize = 3\n",
        "maxDiff = 2"
      ]
    },
    {
      "cell_type": "code",
      "metadata": {
        "id": "wa857xZ1HXMw"
      },
      "source": [
        ""
      ],
      "execution_count": null,
      "outputs": []
    },
    {
      "cell_type": "markdown",
      "metadata": {
        "id": "lSl8pl5bOcoS"
      },
      "source": [
        "### 5. Valid Mountain Array -#941\n",
        "\n",
        "GIven array of integers. Return true iff:\n",
        "1. Length of array is bigger than or equal to 3\n",
        "2. There eists some index i such that:\n",
        "    a[0] < a[1] < ... a[i]\n",
        "    a[i] > a[i+1> ... a[n]"
      ]
    },
    {
      "cell_type": "code",
      "metadata": {
        "colab": {
          "base_uri": "https://localhost:8080/"
        },
        "id": "B4qdJirFBgyG",
        "outputId": "9fe911f8-6fae-4691-9498-7879eeb6bf15"
      },
      "source": [
        "def mountainArray(array):\n",
        "  i = 1\n",
        "\n",
        "  if (len(array) < 3):\n",
        "    return False\n",
        "    \n",
        "\n",
        "  while (i < len(array) and array[i] > array[i-1]): #Remember to give length check condition\n",
        "    i += 1\n",
        "\n",
        "  if (i==1 or i==len(array)): #After while loop we check if increasing array exists or only increasing array exists\n",
        "    return False\n",
        "  \n",
        "  while (i < len(array) and array[i] < array[i-1]):\n",
        "    i += 1\n",
        "\n",
        "  if i == len(array):\n",
        "    return True\n",
        "  else:\n",
        "    return False\n",
        "\n",
        "solution = mountainArray([0,2,3,4,5,2,1])\n",
        "print(solution)"
      ],
      "execution_count": null,
      "outputs": [
        {
          "output_type": "stream",
          "name": "stdout",
          "text": [
            "True\n"
          ]
        }
      ]
    },
    {
      "cell_type": "markdown",
      "metadata": {
        "id": "fj_PBc5ngZUm"
      },
      "source": [
        "## Fibnacci Memoization"
      ]
    },
    {
      "cell_type": "code",
      "metadata": {
        "colab": {
          "base_uri": "https://localhost:8080/"
        },
        "id": "wcqEPoppgcSq",
        "outputId": "8129e591-45ff-47cd-a779-c30a49f4d0a3"
      },
      "source": [
        "# As opoosed to O(2^n) of recursion method, time compleity = O(2n) -> since 2 nodes at each level if drawn the tree -> O(n)\n",
        "# Space complexity : O(n) \n",
        "memoDict = {1: 1, 2 : 1}\n",
        "def fib(n,memoDict):\n",
        "  if n in memoDict.keys():\n",
        "    return memoDict[n]\n",
        "  \n",
        "  memoDict[n] = fib(n-1,memoDict) + fib(n-2,memoDict)\n",
        "  return memoDict[n]\n",
        "\n",
        "\n",
        "print(fib(50,memoDict))"
      ],
      "execution_count": null,
      "outputs": [
        {
          "output_type": "stream",
          "name": "stdout",
          "text": [
            "12586269025\n"
          ]
        }
      ]
    },
    {
      "cell_type": "markdown",
      "metadata": {
        "id": "U8l-CzMhbea0"
      },
      "source": [
        "10/6/2021\n",
        "\n",
        "### Container with most water - #11\n",
        "\n",
        "Given n non-negative integers a1, a2, ..., an , where each represents a point at coordinate (i, ai). n vertical lines are drawn such that the two endpoints of the line i is at (i, ai) and (i, 0). Find two lines, which, together with the x-axis forms a container, such that the container contains the most water.\n",
        "\n",
        "Notice that you may not slant the container."
      ]
    },
    {
      "cell_type": "code",
      "metadata": {
        "colab": {
          "base_uri": "https://localhost:8080/"
        },
        "id": "yKKbezceeb-M",
        "outputId": "5456323a-3bf5-4e94-8603-9056bd6f3046"
      },
      "source": [
        "def containerMostWater(array):\n",
        "  maxArea = 0\n",
        "  i,j = 0, len(array)-1\n",
        "\n",
        "  while (i<j):\n",
        "    area = min(array[i],array[j]) * (j-i)\n",
        "    maxArea = max(maxArea, area)\n",
        "    if (array[i] < array[j]):\n",
        "      i +=1\n",
        "    else:\n",
        "      j -=1\n",
        "  \n",
        "  return maxArea\n",
        "\n",
        "array = [1,8,6,2,5,4,8,3,7]\n",
        "solution = containerMostWater(array)\n",
        "print(solution)\n",
        "array = [4,3,2,1,4]\n",
        "solution = containerMostWater(array)\n",
        "print(solution)"
      ],
      "execution_count": null,
      "outputs": [
        {
          "output_type": "stream",
          "name": "stdout",
          "text": [
            "49\n",
            "16\n"
          ]
        }
      ]
    },
    {
      "cell_type": "markdown",
      "metadata": {
        "id": "Am9N4RGsgRNA"
      },
      "source": [
        "### Longest substring without repeating character -#3\n",
        "\n",
        "Given a string s, find the length of the longest substring without repeating characters."
      ]
    },
    {
      "cell_type": "code",
      "metadata": {
        "colab": {
          "base_uri": "https://localhost:8080/"
        },
        "id": "PZaupSbtgkQ7",
        "outputId": "0a540190-3c01-4ba6-a6f6-a9af5619073f"
      },
      "source": [
        "#My solution first attempt.\n",
        "def lengthOfLongestSubstring(s):\n",
        "\n",
        "  if (len(s) == 0):\n",
        "    return 0\n",
        "\n",
        "  i,j = 0, 1\n",
        "  hashmap = {s[i] : 1}\n",
        "  maxLength = 1\n",
        "  length = 1\n",
        "\n",
        "  if (len(s) == 2 and s[1] not in hashmap.keys()):\n",
        "    return 2\n",
        "\n",
        "  while (j<=len(s)-1):\n",
        "    print(\"------\")\n",
        "    \n",
        "    if (s[j] not in hashmap.keys()):\n",
        "      print(\"if\")\n",
        "      print(s[j])\n",
        "      hashmap.update({s[j]:1})\n",
        "      print(hashmap)\n",
        "      length +=1\n",
        "      print(length)\n",
        "      j+=1\n",
        "    else:\n",
        "      print(\"else\")\n",
        "      i += 1\n",
        "      j = i+1\n",
        "      hashmap = {s[i] : 1}\n",
        "      print(hashmap)\n",
        "      length = 1\n",
        "      print(length)\n",
        "    maxLength = max(length,maxLength)\n",
        "    print(maxLength)\n",
        "\n",
        "  return maxLength\n",
        "\n",
        "# solution = lengthOfLongestSubstring(\"pwwkew\")\n",
        "# print(solution)\n",
        "\n",
        "solution1 = lengthOfLongestSubstring(\"aab\")\n",
        "print(solution1)"
      ],
      "execution_count": null,
      "outputs": [
        {
          "output_type": "stream",
          "name": "stdout",
          "text": [
            "------\n",
            "else\n",
            "{'a': 1}\n",
            "1\n",
            "1\n",
            "------\n",
            "if\n",
            "b\n",
            "{'a': 1, 'b': 1}\n",
            "2\n",
            "2\n",
            "2\n"
          ]
        }
      ]
    },
    {
      "cell_type": "markdown",
      "metadata": {
        "id": "6bHZ3v24KCpT"
      },
      "source": [
        "10/09/2021\n",
        "### First and last position of array -#34\n",
        "Given an array of integers nums sorted in ascending order, find the starting and ending position of a given target value.\n",
        "\n",
        "If target is not found in the array, return [-1, -1].\n",
        "\n",
        "You must write an algorithm with O(log n) runtime complexity.\n"
      ]
    },
    {
      "cell_type": "code",
      "metadata": {
        "colab": {
          "base_uri": "https://localhost:8080/"
        },
        "id": "DFm2SWsXp6Kg",
        "outputId": "740698ac-c5f1-468b-a220-a5ba1fa8e310"
      },
      "source": [
        "# 1. Array is sorted. Therefore, thhink Binary Search\n",
        "# 2. Instead of looking at the question as first and last position together, think about them seperately.\n",
        "\n",
        "def firstPosition(array,target):\n",
        "  i , j=0, len(array)-1\n",
        "  while (i<=j):\n",
        "    mid = (i+j)//2\n",
        "    #print(\"first\")\n",
        "\n",
        "    #check if element at mid is the target\n",
        "    if (array[mid] == target):\n",
        "      # We need to check if this array[mid] is just an occurence or the first occurence of the target\n",
        "      # So there are only 2 conditions in which this array[mid] will be the first element\n",
        "      if (mid ==0 or array[mid-1] != target):\n",
        "        return mid\n",
        "      #we need to find the first position. So if the if condition fails that means we have to look for the first position in the first half of the array\n",
        "      j = mid-1\n",
        "    if array[mid] <target:\n",
        "        i = mid +1\n",
        "    else:\n",
        "        j = mid -1\n",
        "\n",
        "def lastPosition(array,target):\n",
        "  i , j=0, len(array)-1\n",
        "  while (i<=j):\n",
        "    mid = (i+j)//2\n",
        "    #print(\"second\")\n",
        "    if (array[mid] == target):\n",
        "      if (mid == len(array)-1 or array[mid+1] !=target):\n",
        "        return mid\n",
        "      i = mid+1\n",
        "    else:\n",
        "      if array[mid] < target:\n",
        "        i = mid + 1\n",
        "      else:\n",
        "        j = mid -1\n",
        "\n",
        "def mainFunction(array,target):\n",
        "  if (len(array) == 0 or target not in array):\n",
        "    return [-1,-1]\n",
        "  firstIndex = firstPosition(array,target)\n",
        "  lastIndex = lastPosition(array,target)\n",
        "  return [firstIndex,lastIndex]\n",
        "\n",
        "solution = mainFunction([5,7,7,8,8,10],8)\n",
        "print(solution)\n",
        "\n",
        "solution = mainFunction([5,7,7,8,8,10],6)\n",
        "print(solution)\n",
        "\n",
        "solution = mainFunction([],0)\n",
        "print(solution)"
      ],
      "execution_count": null,
      "outputs": [
        {
          "output_type": "stream",
          "name": "stdout",
          "text": [
            "[3, 4]\n",
            "[-1, -1]\n",
            "[-1, -1]\n"
          ]
        }
      ]
    },
    {
      "cell_type": "markdown",
      "metadata": {
        "id": "LXLtXWoSZWhq"
      },
      "source": [
        "## Grid Travelor problem -refer green notebook back\n",
        "\n",
        "1. Grid given\n",
        "2. We can only travel downward or right\n",
        " Find number of ways to reach bottom right corner if we start at top left corner"
      ]
    },
    {
      "cell_type": "code",
      "metadata": {
        "colab": {
          "base_uri": "https://localhost:8080/"
        },
        "id": "Tq36fwxXZo_D",
        "outputId": "54afece7-e038-4376-c54c-59498b8c3542"
      },
      "source": [
        "#Recursion style\n",
        "# Brute force Complexity -> O(2^n+m) Space: (n+m)\n",
        "def gridTravelor(m,n):\n",
        "  if (m == 1 and n ==1):\n",
        "    return 1\n",
        "  if (m == 0 or n==0):\n",
        "    return 0\n",
        "   # On checking the recursive tree we will notice that on going down, our effective grid reduces by 1 row (since we cannot travel up)\n",
        "   # Similarly on going right, effective grid reduces by 1 column  \n",
        "  return gridTravelor(m-1,n) + gridTravelor(m,n-1)\n",
        "\n",
        "# Memoization\n",
        "#memo contains key : no of ways\n",
        "# Total number of nodes possible for (m,n) grid is m*n. For eg: for (4,3) grid -> m : {0,1,2,3,4} and n:{0,1,2,3}\n",
        "# By memoizing -> Time COmpleity -> O(m*n) whiich is better the Brute force Space: n+m\n",
        "def gridTravelorMemo(m,n,memo= {}):\n",
        "  #print(str(m)+\",\"+str(n))\n",
        "  key = str(m) + \",\"+ str(n) # Add a comma in the string so that we can differentiate between m and n\n",
        "  \n",
        "  if key in memo.keys():\n",
        "    return memo[key]\n",
        "  # Are the arguments in memo\n",
        "  if (m == 1 and n ==1):\n",
        "    return 1\n",
        "  if (m == 0 or n==0):\n",
        "    return 0\n",
        "\n",
        "  memo[key] = gridTravelorMemo(m-1,n,memo) + gridTravelorMemo(m,n-1,memo)\n",
        "  return memo[key]\n",
        "\n",
        "solution=gridTravelor(3,3)\n",
        "print(solution)\n",
        "\n",
        "\n",
        "solution1=gridTravelorMemo(3,3)\n",
        "print(solution1)\n",
        "\n",
        "solution=gridTravelor(3,2)\n",
        "print(solution)\n",
        "solution=gridTravelorMemo(18,18)\n",
        "print(solution)\n"
      ],
      "execution_count": null,
      "outputs": [
        {
          "output_type": "stream",
          "name": "stdout",
          "text": [
            "6\n",
            "6\n",
            "3\n",
            "2333606220\n"
          ]
        }
      ]
    },
    {
      "cell_type": "markdown",
      "metadata": {
        "id": "P51ORNjHwkT-"
      },
      "source": [
        "### First Bad Version - #278\n",
        "\n",
        "You are a product manager and currently leading a team to develop a new product. Unfortunately, the latest version of your product fails the quality check. Since each version is developed based on the previous version, all the versions after a bad version are also bad.\n",
        "\n",
        "Suppose you have n versions [1, 2, ..., n] and you want to find out the first bad one, which causes all the following ones to be bad.\n",
        "\n",
        "You are given an API bool isBadVersion(version) which returns whether version is bad. Implement a function to find the first bad version. You should minimize the number of calls to the API."
      ]
    },
    {
      "cell_type": "code",
      "metadata": {
        "id": "TGPJTaC8wjvN"
      },
      "source": [
        "# The isBadVersion API is already defined for you.\n",
        "# @param version, an integer\n",
        "# @return an integer\n",
        "# def isBadVersion(version):\n",
        "\n",
        "class Solution:\n",
        "    def firstBadVersion(self, n):\n",
        "        \"\"\"\n",
        "        :type n: int\n",
        "        :rtype: int\n",
        "        \"\"\"\n",
        "\n",
        "        #start i with 1 because we are returning i\n",
        "        # if i = 0, for case n=1 -> return will b 0 which is wrong. ie n=1 with first bad version at 1 should return 1\n",
        "        i , j=1, n\n",
        "        while (i<j):\n",
        "            mid = (i+j)//2\n",
        "            if (not isBadVersion(mid)):\n",
        "                i = mid+1\n",
        "            else:\n",
        "                j = mid #since mid is Bad\n",
        "        return i"
      ],
      "execution_count": null,
      "outputs": []
    },
    {
      "cell_type": "markdown",
      "metadata": {
        "id": "GwkKw3PycJEy"
      },
      "source": [
        "### Missing Number -#268\n",
        "\n",
        "Given an array nums containing n distinct numbers in the range [0, n], return the only number in the range that is missing from the array."
      ]
    },
    {
      "cell_type": "code",
      "metadata": {
        "id": "YM-4XwC9cPQj",
        "colab": {
          "base_uri": "https://localhost:8080/"
        },
        "outputId": "66f53f0e-e2ed-446d-f3e9-9db6fe2c3b82"
      },
      "source": [
        "# Option 1 -> Sort the Array and search which element is missing at the index.  Sorting complexity NLogN\n",
        "# Option 2 -> Create a hashmap {element : boolean true/false}. The loop through array and set boolean value. Then return the key where boolean is false.  \n",
        "# Okay time complexity but increases space complexity.\n",
        "\n",
        "#Option 3 -> Mathematical. Gauss Formula. Sum of first n numbers = n(n+1)/2. \n",
        "\n",
        "def missingNumber(array):\n",
        "  n = len(array)\n",
        "\n",
        "  sum = n*(n+1)//2\n",
        "  for i in array:\n",
        "    sum = sum - i\n",
        "\n",
        "  return sum\n",
        "\n",
        "solution = missingNumber([3,0,1])\n",
        "print(solution) \n",
        "solution = missingNumber([9,6,4,2,3,5,7,0,1])\n",
        "print(solution) \n",
        "solution = missingNumber([0])\n",
        "print(solution) \n",
        "\n",
        "def missingNumber1(array):\n",
        "  n = len(array)\n",
        "\n",
        "  intendedSum = n*(n+1)//2\n",
        "  actualSum = sum(array)\n",
        "  return (intendedSum - actualSum)\n",
        "\n",
        "solution = missingNumber1([3,0,1])\n",
        "print(solution) \n",
        "solution = missingNumber1([9,6,4,2,3,5,7,0,1])\n",
        "print(solution) \n",
        "solution = missingNumber1([0])\n",
        "print(solution)"
      ],
      "execution_count": 5,
      "outputs": [
        {
          "output_type": "stream",
          "name": "stdout",
          "text": [
            "2\n",
            "8\n",
            "1\n",
            "2\n",
            "8\n",
            "1\n"
          ]
        }
      ]
    },
    {
      "cell_type": "code",
      "metadata": {
        "colab": {
          "base_uri": "https://localhost:8080/"
        },
        "id": "2mVo68EBewxm",
        "outputId": "839caa3e-b9b2-4650-8aea-832f87cbeacd"
      },
      "source": [
        "\"\"\"\n",
        "  Reverse a string\n",
        "\"\"\"\n",
        "def my_function(x):\n",
        "  return x[::-1]\n",
        "\n",
        "mytxt = my_function(\"I wonder how this text looks like backwards\")\n",
        "\n",
        "print(mytxt)"
      ],
      "execution_count": 1,
      "outputs": [
        {
          "output_type": "stream",
          "name": "stdout",
          "text": [
            "sdrawkcab ekil skool txet siht woh rednow I\n"
          ]
        }
      ]
    }
  ]
}