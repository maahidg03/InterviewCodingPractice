{
  "nbformat": 4,
  "nbformat_minor": 0,
  "metadata": {
    "colab": {
      "name": "groupAnagrams.ipynb",
      "provenance": []
    },
    "kernelspec": {
      "name": "python3",
      "display_name": "Python 3"
    },
    "language_info": {
      "name": "python"
    }
  },
  "cells": [
    {
      "cell_type": "code",
      "metadata": {
        "id": "TLvcFFn1jjH4"
      },
      "source": [
        "\"\"\"\n",
        "\n",
        "Given an array of strings strs, group the anagrams together. You can return the answer in any order.\n",
        "An Anagram is a word or phrase formed by rearranging the letters of a different word or phrase, \n",
        "typically using all the original letters exactly once.\n",
        "\n",
        "\"\"\""
      ],
      "execution_count": null,
      "outputs": []
    },
    {
      "cell_type": "code",
      "metadata": {
        "colab": {
          "base_uri": "https://localhost:8080/"
        },
        "id": "Qhbg6wMZjqmN",
        "outputId": "7d498799-41d7-477c-c08b-52a64efa844f"
      },
      "source": [
        "from collections import defaultdict\n",
        "def anagrams(array):\n",
        "  hashmap = defaultdict(list)\n",
        "  for i in array:\n",
        "    temp1 = sorted(i)\n",
        "    temp1 = ''.join(temp1)\n",
        "    #print(temp1)\n",
        "    if temp1 in hashmap:\n",
        "      holdingList = hashmap[temp1]\n",
        "      holdingList.append(i)\n",
        "      hashmap[temp1] = holdingList\n",
        "    else:\n",
        "      hashmap[temp1] = [i] \n",
        "  \n",
        "  print(list(hashmap.values()))\n",
        "\n",
        "\n",
        "#solution = \n",
        "anagrams([\"eat\",\"tea\",\"tan\",\"ate\",\"nat\",\"bat\"])\n",
        "#print(solution)"
      ],
      "execution_count": 14,
      "outputs": [
        {
          "output_type": "stream",
          "name": "stdout",
          "text": [
            "[['eat', 'tea', 'ate'], ['tan', 'nat'], ['bat']]\n"
          ]
        }
      ]
    }
  ]
}