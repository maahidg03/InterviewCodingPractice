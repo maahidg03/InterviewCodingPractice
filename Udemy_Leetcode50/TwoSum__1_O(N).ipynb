{
  "nbformat": 4,
  "nbformat_minor": 0,
  "metadata": {
    "colab": {
      "name": "TwoSum_#1.ipynb",
      "provenance": []
    },
    "kernelspec": {
      "name": "python3",
      "display_name": "Python 3"
    },
    "language_info": {
      "name": "python"
    }
  },
  "cells": [
    {
      "cell_type": "code",
      "metadata": {
        "id": "a-snJyp0zkjm"
      },
      "source": [
        "\"\"\"\n",
        "    Given an array of integers nums and an integer target, return indices of the two numbers such that they add up to target.\n",
        "You may assume that each input would have exactly one solution, and you may not use the same element twice.\n",
        "\n",
        "You can return the answer in any order.\n",
        "\"\"\""
      ],
      "execution_count": null,
      "outputs": []
    },
    {
      "cell_type": "code",
      "metadata": {
        "colab": {
          "base_uri": "https://localhost:8080/"
        },
        "id": "8aCO1_Qy6YfT",
        "outputId": "efdf12b1-eb01-4364-d6d3-28cf38855754"
      },
      "source": [
        "def twoSum(nums, target):\n",
        "  hashmap = {}\n",
        "  for i in range(0,len(nums)):\n",
        "    secondNum = target - nums[i]\n",
        "    if secondNum != nums[i] and secondNum in hashmap:\n",
        "      return ([hashmap[secondNum], i])\n",
        "    hashmap[nums[i]] = i\n",
        "\n",
        "  return [0]\n",
        "\n",
        "print(twoSum([2,7,11,15],9))"
      ],
      "execution_count": 3,
      "outputs": [
        {
          "output_type": "stream",
          "name": "stdout",
          "text": [
            "[0, 1]\n"
          ]
        }
      ]
    }
  ]
}