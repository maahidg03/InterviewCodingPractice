{
  "nbformat": 4,
  "nbformat_minor": 0,
  "metadata": {
    "colab": {
      "name": "SingleNumber_.O(2n)_#136.ipynb",
      "provenance": []
    },
    "kernelspec": {
      "name": "python3",
      "display_name": "Python 3"
    },
    "language_info": {
      "name": "python"
    }
  },
  "cells": [
    {
      "cell_type": "code",
      "metadata": {
        "id": "_M4SB2HDm9vn"
      },
      "source": [
        "\"\"\"\n",
        "\n",
        "  Given a non-empty array of integers nums, every element appears twice except for one. Find that single one.\n",
        "  You must implement a solution with a linear runtime complexity and use only constant extra space.\n",
        "\n",
        "  MATH EQUATION = 2* (a+b+c) - (a+a+b+b+c) =c\n",
        "  meaning (a+b+c) = summation of the unique elements in the array\n",
        "  (a+a+b+b+c) = summation of all elements of an array\n",
        "\"\"\""
      ],
      "execution_count": null,
      "outputs": []
    },
    {
      "cell_type": "code",
      "metadata": {
        "colab": {
          "base_uri": "https://localhost:8080/"
        },
        "id": "VZ5F6I5InfN5",
        "outputId": "8efff1f7-4323-4722-e2e3-c17a3e65e4ff"
      },
      "source": [
        "#Accepted\n",
        "# Time: O(2*n) -> loop over array + loop over unique elements\n",
        "# Space: O(n) + O(1)\n",
        "def singleNumber(nums):\n",
        "  set1 = set(nums)\n",
        "  uniqueElements = list(set1)\n",
        "  #print(uniqueElements)\n",
        "  uniqueEleSum = sum(uniqueElements)\n",
        "  actualSum = sum(nums)\n",
        "\n",
        "  return 2*uniqueEleSum - actualSum\n",
        "  # instead of creating variables simply return 2(sum(list(set(nums)))) - sum(nums)\n",
        "\n",
        "print(singleNumber([2,2,1]))"
      ],
      "execution_count": 5,
      "outputs": [
        {
          "output_type": "stream",
          "name": "stdout",
          "text": [
            "1\n"
          ]
        }
      ]
    }
  ]
}