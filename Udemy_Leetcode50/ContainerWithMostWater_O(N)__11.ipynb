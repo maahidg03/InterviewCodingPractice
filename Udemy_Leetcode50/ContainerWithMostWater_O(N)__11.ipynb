{
  "nbformat": 4,
  "nbformat_minor": 0,
  "metadata": {
    "colab": {
      "name": "ContainerWithMostWater_O(N)_#11.ipynb",
      "provenance": []
    },
    "kernelspec": {
      "name": "python3",
      "display_name": "Python 3"
    },
    "language_info": {
      "name": "python"
    }
  },
  "cells": [
    {
      "cell_type": "code",
      "metadata": {
        "id": "UDYjx5v4i_Ei"
      },
      "source": [
        "\"\"\"\n",
        "Given n non-negative integers a1, a2, ..., an , where each represents a point at coordinate (i, ai). n vertical lines are drawn such that the two endpoints of the line i is at (i, ai) and (i, 0). Find two lines, which, together with the x-axis forms a container, such that the container contains the most water.\n",
        "\n",
        "Notice that you may not slant the container.\n",
        "\n",
        "1 loop therefore time complexity = O(n)\n",
        "and\n",
        "space complexity = o(1)\n",
        "\n",
        "\"\"\""
      ],
      "execution_count": null,
      "outputs": []
    },
    {
      "cell_type": "code",
      "metadata": {
        "colab": {
          "base_uri": "https://localhost:8080/"
        },
        "id": "4p4vjkhrx4ph",
        "outputId": "1220e8d2-c4b5-4eaf-fd15-1a24f5505faa"
      },
      "source": [
        "from typing import List\n",
        "class Solution:\n",
        "    def maxArea(self, height: List[int]) -> int:\n",
        "        left = 0\n",
        "        right = len(height) - 1\n",
        "        max_Area = 0\n",
        "\n",
        "        while (left < right):\n",
        "          area = (right - left) * min(height[left],height[right])\n",
        "          max_Area = max(max_Area,area)\n",
        "\n",
        "          if (height[left] < height[right]):\n",
        "            left +=1\n",
        "          else:\n",
        "            right -= 1\n",
        "\n",
        "        return max_Area\n",
        "\n",
        "s = Solution()\n",
        "arr = [1,8,6,2,5,4,8,3,7]\n",
        "answer = s.maxArea(arr)\n",
        "print(answer)"
      ],
      "execution_count": 5,
      "outputs": [
        {
          "output_type": "stream",
          "text": [
            "49\n"
          ],
          "name": "stdout"
        }
      ]
    }
  ]
}