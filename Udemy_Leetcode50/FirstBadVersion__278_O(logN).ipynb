{
  "nbformat": 4,
  "nbformat_minor": 0,
  "metadata": {
    "colab": {
      "name": "FirstBadVersion_#278_O(logN).ipynb",
      "provenance": []
    },
    "kernelspec": {
      "name": "python3",
      "display_name": "Python 3"
    },
    "language_info": {
      "name": "python"
    }
  },
  "cells": [
    {
      "cell_type": "code",
      "metadata": {
        "id": "BKvj9tbriltm"
      },
      "source": [
        "\"\"\"\n",
        "You are a product manager and currently leading a team to develop a new product. Unfortunately, the latest version of your product fails the quality check. Since each version is developed based on the previous version, all the versions after a bad version are also bad.\n",
        "\n",
        "Suppose you have n versions [1, 2, ..., n] and you want to find out the first bad one, which causes all the following ones to be bad.\n",
        "\n",
        "You are given an API bool isBadVersion(version) which returns whether version is bad. Implement a function to find the first bad version. You should minimize the number of calls to the API.\n",
        "\"\"\"\n"
      ],
      "execution_count": null,
      "outputs": []
    },
    {
      "cell_type": "code",
      "metadata": {
        "id": "9mwa9AFZSKhx"
      },
      "source": [
        "# The isBadVersion API is already defined for you.\n",
        "# param version, an integer\n",
        "# @return an integer\n",
        "# def isBadVersion(version):\n",
        "from typing import List\n",
        "\n",
        "class Solution:\n",
        "    def firstBadVersion(self, n):\n",
        "        \"\"\"\n",
        "        :type n: int\n",
        "        :rtype: int\n",
        "        \"\"\"\n",
        "        start = 1\n",
        "        end = n\n",
        "        while (start < end):\n",
        "            mid = (start+end)//2\n",
        "            if (not isBadVersion(mid)):\n",
        "                start = mid +1\n",
        "            else:\n",
        "                end = mid\n",
        "                \n",
        "        return start\n",
        "        "
      ],
      "execution_count": null,
      "outputs": []
    }
  ]
}