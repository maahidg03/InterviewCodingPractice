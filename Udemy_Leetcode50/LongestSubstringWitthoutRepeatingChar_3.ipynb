{
  "nbformat": 4,
  "nbformat_minor": 0,
  "metadata": {
    "colab": {
      "name": "LongestSubstringWitthoutRepeatingChar_3.ipynb",
      "provenance": []
    },
    "kernelspec": {
      "name": "python3",
      "display_name": "Python 3"
    },
    "language_info": {
      "name": "python"
    }
  },
  "cells": [
    {
      "cell_type": "markdown",
      "metadata": {
        "id": "Am9N4RGsgRNA"
      },
      "source": [
        "### Longest substring without repeating character -#3\n",
        "\n",
        "Given a string s, find the length of the longest substring without repeating characters."
      ]
    },
    {
      "cell_type": "code",
      "metadata": {
        "id": "f5Jp6Nd1pEdT"
      },
      "source": [
        "#My solution first attempt. Accepted. \n",
        "def lengthOfLongestSubstring(s):\n",
        "\n",
        "  if (len(s) == 0):\n",
        "    return 0\n",
        "\n",
        "  i,j = 0, 1\n",
        "  hashmap = {s[i] : 1}\n",
        "  maxLength = 1\n",
        "  length = 1\n",
        "\n",
        "  if (len(s) == 2 and s[1] not in hashmap.keys()):\n",
        "    return 2\n",
        "\n",
        "  while (j<=len(s)-1):\n",
        "    print(\"------\")\n",
        "    \n",
        "    if (s[j] not in hashmap.keys()):\n",
        "      print(\"if\")\n",
        "      print(s[j])\n",
        "      hashmap.update({s[j]:1})\n",
        "      print(hashmap)\n",
        "      length +=1\n",
        "      print(length)\n",
        "      j+=1\n",
        "    else:\n",
        "      print(\"else\")\n",
        "      i += 1\n",
        "      j = i+1\n",
        "      hashmap = {s[i] : 1}\n",
        "      print(hashmap)\n",
        "      length = 1\n",
        "      print(length)\n",
        "    maxLength = max(length,maxLength)\n",
        "    print(maxLength)\n",
        "\n",
        "  return maxLength\n",
        "\n",
        "# solution = lengthOfLongestSubstring(\"pwwkew\")\n",
        "# print(solution)\n",
        "\n",
        "solution1 = lengthOfLongestSubstring(\"aab\")\n",
        "print(solution1)"
      ],
      "execution_count": null,
      "outputs": []
    },
    {
      "cell_type": "code",
      "metadata": {
        "colab": {
          "base_uri": "https://localhost:8080/"
        },
        "id": "wja50dKHpbKQ",
        "outputId": "7af25971-4530-4ebb-b659-eb59a5609c15"
      },
      "source": [
        "#COURSE SOLUTION - using sliding window\n",
        "# maintain a hashmap with string[i] : last position at which the charachter was encountered\n",
        "#  SPACE COMPLEXITY OF MAP IS O(N)\n",
        "\n",
        "def lengthOfLongestSubstring(s):\n",
        "  if (len(s) == 0):\n",
        "    return 0\n",
        "\n",
        "  #initialize i,j = 0 ie start at 0 \n",
        "  i,j = 0,0\n",
        "  hashmap ={}\n",
        "  maxLength = 0\n",
        "\n",
        "  while (i < len(s) and j <len(s)):\n",
        "    element = s[j]\n",
        "    if element in hashmap:\n",
        "      print(\"here\",element)\n",
        "      print(hashmap)\n",
        "      # the element is in the hashmap. Therefore, the current substring window has this element twice.\n",
        "      # so we eliminate the first occurence of the element since substring has to be continous and set the left pointer to the max of the current value of\n",
        "      # the left pointer and last occurence of the element +1\n",
        "      # we take max in case we hae the left element pointing to any other element except element then occured again, we do not want to miss that element in substring\n",
        "      i = max(i, hashmap[element] + 1)\n",
        "    \n",
        "    # If the if condition is not satisfied ie if element in not in hashmap or after the execution of if statement\n",
        "    hashmap[element] = j # add element to hashmap with right pointer as the last position where it was encountered\n",
        "    maxLength = max(maxLength , j-i+1) #j-i+1 is the length of the current substring\n",
        "    j +=1 #increment right pointer left remains the ssame\n",
        "\n",
        "  return maxLength\n",
        "\n",
        "\n",
        "solution = lengthOfLongestSubstring(\"pwwkew\")\n",
        "print(solution)"
      ],
      "execution_count": 5,
      "outputs": [
        {
          "output_type": "stream",
          "name": "stdout",
          "text": [
            "here w\n",
            "{'p': 0, 'w': 1}\n",
            "here w\n",
            "{'p': 0, 'w': 2, 'k': 3, 'e': 4}\n",
            "3\n"
          ]
        }
      ]
    }
  ]
}