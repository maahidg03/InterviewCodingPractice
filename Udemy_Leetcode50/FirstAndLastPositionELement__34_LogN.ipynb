{
  "nbformat": 4,
  "nbformat_minor": 0,
  "metadata": {
    "colab": {
      "name": "FirstAndLastPositionELement_#34_LogN.ipynb",
      "provenance": []
    },
    "kernelspec": {
      "name": "python3",
      "display_name": "Python 3"
    },
    "language_info": {
      "name": "python"
    }
  },
  "cells": [
    {
      "cell_type": "code",
      "metadata": {
        "colab": {
          "base_uri": "https://localhost:8080/",
          "height": 52
        },
        "id": "i6Be775072g4",
        "outputId": "c1d96292-3779-4ad5-a2de-2da245ecdd9a"
      },
      "source": [
        "\"\"\"\n",
        "\n",
        "Given an array of integers nums sorted in ascending order, find the starting and ending position of a given target value.\n",
        "\n",
        "If target is not found in the array, return [-1, -1].\n",
        "\n",
        "Follow up: Could you write an algorithm with O(log n) runtime complexity?\n",
        "\n",
        "Time Complexity is : O(LogN) since we are performing Binary Search\n",
        "Space Complexity : O(1)\n",
        "\n",
        "\"\"\""
      ],
      "execution_count": 11,
      "outputs": [
        {
          "output_type": "execute_result",
          "data": {
            "application/vnd.google.colaboratory.intrinsic+json": {
              "type": "string"
            },
            "text/plain": [
              "'\\n\\nGiven an array of integers nums sorted in ascending order, find the starting and ending position of a given target value.\\n\\nIf target is not found in the array, return [-1, -1].\\n\\nFollow up: Could you write an algorithm with O(log n) runtime complexity?\\n\\nTime Complexity is : O\\n\\n'"
            ]
          },
          "metadata": {
            "tags": []
          },
          "execution_count": 11
        }
      ]
    },
    {
      "cell_type": "code",
      "metadata": {
        "colab": {
          "base_uri": "https://localhost:8080/"
        },
        "id": "pllDB9e_boNg",
        "outputId": "97b71efc-75d2-444f-c977-2c821546ce8a"
      },
      "source": [
        "(from typing import List\n",
        "class Solution:\n",
        "    def searchRange(self, nums: List[int], target: int) -> List[int]:\n",
        "        if target not in nums:\n",
        "          return [-1,-1]\n",
        "        start = self.startIndex(nums,target)\n",
        "        end = self.endIndex(nums,target)\n",
        "        return [start,end]\n",
        "\n",
        "    def startIndex (self,nums,target):\n",
        "      left = 0\n",
        "      right = len(nums) - 1\n",
        "\n",
        "      while (left <=right):\n",
        "        mid = (left + right)//2\n",
        "        if (nums[mid] == target):\n",
        "          if (mid-1 >= 0 and nums[mid-1] != target or mid == 0): # 1st condition so that 2nd condition doesnt fail. \n",
        "                                                           # 2nd condition to check that the element at position mid is indeed the first element. Therefore, mid -1 shouldnt be target\n",
        "            return mid                                     # 3rd condition, if mid is the starting element, it is by default the first element\n",
        "          right = mid - 1 # if 2nd if condition fails, we bring the right pointer closer to mid - 1 position and check again\n",
        "      \n",
        "        elif (nums[mid] > target):  # normal binary search conditions if element at mid ! = target\n",
        "          right = mid - 1\n",
        "        else:\n",
        "          left = mid + 1\n",
        "\n",
        "    def endIndex (self, nums,target):\n",
        "      left = 0 \n",
        "      right = len(nums) - 1\n",
        "\n",
        "      while (left <= right):\n",
        "        mid = (left+right)//2\n",
        "        if (nums[mid] == target):\n",
        "          if (mid +1 < len(nums) and nums[mid + 1] != target or mid == len(nums) - 1): #First condition to make sure 2nd condition doesnt fail\n",
        "                                                                                       # 2nd condition to check if the element after poistion mid is not target. If it is then mid cannot be our last position\n",
        "            return mid                                                                  # 3rd condition if true, means mid is anyway the last element of our array and hence our last element\n",
        "          left = mid + 1\n",
        "        elif (nums[mid] > target):\n",
        "          right = mid - 1\n",
        "        else:\n",
        "          left = mid + 1\n",
        "\n",
        "s = Solution()\n",
        "arr = [5,7,7,8,8,10]\n",
        "target = 8\n",
        "answer = s.searchRange(arr,target)\n",
        "print(answer)\n",
        "\n",
        "arr1 = [5,7,7,8,8,10]\n",
        "target1 = 6\n",
        "answer1 = s.searchRange(arr1,target1)\n",
        "print(answer1)"
      ],
      "execution_count": 10,
      "outputs": [
        {
          "output_type": "stream",
          "text": [
            "[3, 4]\n",
            "[-1, -1]\n"
          ],
          "name": "stdout"
        }
      ]
    }
  ]
}