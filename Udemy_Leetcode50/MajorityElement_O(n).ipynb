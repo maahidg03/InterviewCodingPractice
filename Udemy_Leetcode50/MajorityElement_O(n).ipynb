{
  "nbformat": 4,
  "nbformat_minor": 0,
  "metadata": {
    "colab": {
      "name": "MajorityElement_O(n).ipynb",
      "provenance": []
    },
    "kernelspec": {
      "name": "python3",
      "display_name": "Python 3"
    },
    "language_info": {
      "name": "python"
    }
  },
  "cells": [
    {
      "cell_type": "code",
      "metadata": {
        "id": "XuvkdEWJ9F34"
      },
      "source": [
        "\"\"\"\n",
        "Given an array nums of size n, return the majority element.\n",
        "The majority element is the element that appears more than ⌊n / 2⌋ times. \n",
        "You may assume that the majority element always exists in the array.\n",
        "\n",
        "    \n",
        "\"\"\""
      ],
      "execution_count": null,
      "outputs": []
    },
    {
      "cell_type": "code",
      "metadata": {
        "colab": {
          "base_uri": "https://localhost:8080/"
        },
        "id": "YjMUHpUB-mj2",
        "outputId": "42a9fb3e-f491-4787-c96f-e717c9f3c4b7"
      },
      "source": [
        "\n",
        "def majorityElement(nums):\n",
        "  hashmap = {}\n",
        "  for i in nums:\n",
        "    if i in hashmap:\n",
        "      #print(len(nums)//2)\n",
        "      if hashmap[i] >= len(nums)//2:\n",
        "        return i\n",
        "      hashmap[i] += 1\n",
        "    else:\n",
        "      hashmap[i] = 1\n",
        "    print(hashmap)\n",
        "                \n",
        "#print(majorityElement([2,2,1,1,1,2,2]))  \n",
        "print(majorityElement([1]))      "
      ],
      "execution_count": null,
      "outputs": [
        {
          "output_type": "stream",
          "name": "stdout",
          "text": [
            "{1: 1}\n",
            "None\n"
          ]
        }
      ]
    }
  ]
}