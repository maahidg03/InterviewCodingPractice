{
  "nbformat": 4,
  "nbformat_minor": 0,
  "metadata": {
    "colab": {
      "name": "MountainArrayBoolean_O(N)_#941.ipynb",
      "provenance": []
    },
    "kernelspec": {
      "name": "python3",
      "display_name": "Python 3"
    },
    "language_info": {
      "name": "python"
    }
  },
  "cells": [
    {
      "cell_type": "code",
      "metadata": {
        "id": "OM3p2_Vpcc0S"
      },
      "source": [
        "\"\"\"\n",
        "\n",
        "Given an array of integers arr, return true if and only if it is a valid mountain array.\n",
        "\n",
        "Recall that arr is a mountain array if and only if:\n",
        "\n",
        "arr.length >= 3\n",
        "There exists some i with 0 < i < arr.length - 1 such that:\n",
        "arr[0] < arr[1] < ... < arr[i - 1] < arr[i]\n",
        "arr[i] > arr[i + 1] > ... > arr[arr.length - 1]\n",
        "\n",
        "\"\"\""
      ],
      "execution_count": null,
      "outputs": []
    },
    {
      "cell_type": "code",
      "metadata": {
        "colab": {
          "base_uri": "https://localhost:8080/"
        },
        "id": "FY_S0YHhcjIU",
        "outputId": "629ded9a-e842-481d-bcb4-e0e424c29e15"
      },
      "source": [
        "from typing import List\n",
        "class Solution:\n",
        "    def validMountainArray(self, arr: List[int]) -> bool:\n",
        "      if len(arr) < 3:\n",
        "        return False\n",
        "      i = 1\n",
        "      #Check if array in creasing. Increment pointer i if yes\n",
        "      while (i < len(arr) and arr[i] > arr[i-1]):\n",
        "        i += 1\n",
        "      if (i == len(arr) or i == 1): #Second condition will be true if there is no increasing array. First condition if there is no decreasing array\n",
        "        return False\n",
        "      #Check if array is decreasing  \n",
        "      while (i <len(arr) and arr[i] < arr[i-1] ):\n",
        "        i += 1\n",
        "      \n",
        "      return i == len(arr)\n",
        "\n",
        "arr=[0,3,2,1]\n",
        "s=Solution()\n",
        "answer = s.validMountainArray(arr)\n",
        "print(answer)\n",
        "        "
      ],
      "execution_count": 4,
      "outputs": [
        {
          "output_type": "stream",
          "text": [
            "True\n"
          ],
          "name": "stdout"
        }
      ]
    }
  ]
}