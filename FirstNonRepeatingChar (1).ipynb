{
  "nbformat": 4,
  "nbformat_minor": 0,
  "metadata": {
    "colab": {
      "name": "FirstNonRepeatingChar.ipynb",
      "provenance": []
    },
    "kernelspec": {
      "name": "python3",
      "display_name": "Python 3"
    }
  },
  "cells": [
    {
      "cell_type": "code",
      "metadata": {
        "id": "U-X_bnPqF4fj"
      },
      "source": [
        "'''\n",
        "03/03/2021\n",
        "Given a string, find its first non-repeating character\n",
        "METHOD1: Hash map + 2 array traversal\n",
        "  * Create an array of length 256 (since ascii has 256 unique charachters). Each index represents an ascii character and the value at each index is the frequency of that charachter in the string\n",
        "  * Next we traverse through the string one at a time. For every value, i will check the frequency in the array of that charachter. \n",
        "    If frequency is 1, i will return the index\n",
        "  PRO: We know the size of the array is 256 since ascii has 256 characters.\n",
        "  CON: Traversing the same string twice\n",
        "  Complexity: O(n)\n",
        "\n",
        "'''"
      ],
      "execution_count": null,
      "outputs": []
    },
    {
      "cell_type": "code",
      "metadata": {
        "colab": {
          "base_uri": "https://localhost:8080/"
        },
        "id": "cynZ2wmOJo7I",
        "outputId": "d948fcb1-e0ad-46b4-ab26-d44bcbda2a0e"
      },
      "source": [
        "def frequencyArray(s):\n",
        "  frequency = [0] * 256\n",
        "  for i in s:\n",
        "    frequency[ord(i)] += 1 #ord function is used to access the ascii value of a character\n",
        "  return frequency\n",
        "\n",
        "def nonRepeatingArray(s):\n",
        "  frequency = frequencyArray(s)\n",
        "  index=0\n",
        "  k=0\n",
        "\n",
        "  for i in s:\n",
        "    if frequency[ord(i)] == 1:\n",
        "      index = k\n",
        "      break\n",
        "    k +=1\n",
        "  return index\n",
        "\n",
        "string = 'GeeksforGeeks'\n",
        "index = nonRepeatingArray(string)\n",
        "if index == 0:\n",
        "  print('No non repeating values')\n",
        "else:\n",
        "  print(string[index])\n"
      ],
      "execution_count": null,
      "outputs": [
        {
          "output_type": "stream",
          "text": [
            "f\n"
          ],
          "name": "stdout"
        }
      ]
    },
    {
      "cell_type": "code",
      "metadata": {
        "colab": {
          "base_uri": "https://localhost:8080/"
        },
        "id": "ybd61fYmGDGg",
        "outputId": "a54f5f30-965a-4385-d2f0-36ac0245b0c8"
      },
      "source": [
        "from collections import Counter;\n",
        "\n",
        "def repeatingChar(s):\n",
        "  frequency = Counter(s)\n",
        "  for i in s:\n",
        "    if (frequency[i] == 1):\n",
        "      ans=i\n",
        "      break\n",
        "  return ans\n",
        "\n",
        "answer = repeatingChar('GeeksForGeeks')\n",
        "print(answer)"
      ],
      "execution_count": null,
      "outputs": [
        {
          "output_type": "stream",
          "text": [
            "F\n"
          ],
          "name": "stdout"
        }
      ]
    },
    {
      "cell_type": "code",
      "metadata": {
        "colab": {
          "base_uri": "https://localhost:8080/"
        },
        "id": "CL3hKiWBZSe9",
        "outputId": "6e1bf86a-58c1-4f3a-8267-011c0eff658d"
      },
      "source": [
        "def frequencyArray(s):\n",
        "  frequency={}\n",
        "  for i in s:\n",
        "    frequency[i] = [0,-1]\n",
        "\n",
        "  for i in s:  \n",
        "    key=frequency[i]\n",
        "    key[0] +=1\n",
        "    key[1] = s.find(i)\n",
        "    frequency[i] = key\n",
        "  \n",
        "  return frequency\n",
        "\n",
        "def repeatingChar(s):\n",
        "  frequency=frequencyArray(s)\n",
        "  allVals=list(frequency.values())\n",
        "  index = max([sublist[-1] for sublist in allVals])\n",
        "  ans=None\n",
        "  for key in frequency:\n",
        "    #print(frequency[key])\n",
        "    if (frequency[key][0] == 1 and frequency[key][1] < index+1):\n",
        "      print(key)\n",
        "      ans=key\n",
        "      index=frequency[key][1]\n",
        "  return ans\n",
        "\n",
        "\n",
        "answer=repeatingChar('GeeksForGeeks')"
      ],
      "execution_count": null,
      "outputs": [
        {
          "output_type": "stream",
          "text": [
            "F\n"
          ],
          "name": "stdout"
        }
      ]
    }
  ]
}