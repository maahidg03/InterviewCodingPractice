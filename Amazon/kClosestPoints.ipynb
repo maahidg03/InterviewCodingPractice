{
  "nbformat": 4,
  "nbformat_minor": 0,
  "metadata": {
    "colab": {
      "name": "kClosestPoints.ipynb",
      "provenance": []
    },
    "kernelspec": {
      "name": "python3",
      "display_name": "Python 3"
    },
    "language_info": {
      "name": "python"
    }
  },
  "cells": [
    {
      "cell_type": "code",
      "execution_count": null,
      "metadata": {
        "id": "7am-6pVZXyAQ"
      },
      "outputs": [],
      "source": [
        "\"\"\"\n",
        "  Given an array of points where points[i] = [xi, yi] represents a point on the X-Y plane and an integer k, \n",
        "  return the k closest points to the origin (0, 0). The distance between two points on the X-Y plane is the \n",
        "  Euclidean distance (i.e., √(x1 - x2)2 + (y1 - y2)2).\n",
        "\n",
        "  You may return the answer in any order. The answer is guaranteed to be unique (except for the order that it is in).\n",
        "\n",
        "\"\"\"\n",
        "\"\"\"\n",
        "    Best approach is to use also because python has functions to heapify a heap.\n",
        "    We also don't needd to calculate the square root because value which is smaller will have a smaller\n",
        "    square root.\n",
        "    \n",
        "    We create a distance array of arrays. AAll arrays inside this distance array contains 3 values\n",
        "    [distanceBetPoints, x, y] x,y being point coordinates. Then use the heapify function which will         arrange this distance array based on the first value of the inside arrays.\n",
        "     \n",
        "    Then we can return the coordinates of the first k elements in thhis sorted dict.\n",
        "    \n",
        "    Now BRUTE FORCE is = find the distance, then sort the array based on this distance and then return     the k shortest points. But in this case the sort operation will take place which willl have a           compllexity of nlogN. On the contrary heapify is performed with compllexity O(n) and                   returning/popping the first k elements will be kLogN complexity which in case of smaller value of k     can be significant since kLogN < nLogN\n",
        "\"\"\"\n",
        "class Solution:\n",
        "    def kClosest(self, points: List[List[int]], k: int) -> List[List[int]]:\n",
        "        distance = []\n",
        "        result = []\n",
        "        \n",
        "        for x,y in points:\n",
        "            #Find the distance\n",
        "            dist = (x ** 2) + (y ** 2) #Since distance is calculated from origin, x2,y2 is (0,0)\n",
        "            #Append [dist,x,y] into the distance array\n",
        "            distance.append([dist,x,y])\n",
        "            \n",
        "        #Heapify this distance array\n",
        "        heapq.heapify(distance)\n",
        "        \n",
        "        #Pop k elements\n",
        "        while k > 0:\n",
        "            dist, x, y = heapq.heappop(distance)\n",
        "            result.append([x,y])\n",
        "            k -= 1\n",
        "        \n",
        "        return result\n",
        "        "
      ]
    }
  ]
}