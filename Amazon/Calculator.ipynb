{
  "nbformat": 4,
  "nbformat_minor": 0,
  "metadata": {
    "colab": {
      "name": "Calculator.ipynb",
      "provenance": []
    },
    "kernelspec": {
      "name": "python3",
      "display_name": "Python 3"
    },
    "language_info": {
      "name": "python"
    }
  },
  "cells": [
    {
      "cell_type": "code",
      "execution_count": null,
      "metadata": {
        "id": "s1BMpDkg416l"
      },
      "outputs": [],
      "source": [
        "\n",
        "  #\"(1+(4+5+2)-3)+(6+8)\"\n",
        "\n",
        "  \"\"\"\n",
        "    We have a variable cur which will hold the 'current value' of what we are \n",
        "    calculating. Eg: when we come aacross a () we forget the previous curVal\n",
        "    and the value inside the bracket -> 4+ 5+ + 2 = 11 -> we traverse them one \n",
        "    by one and 11 becomes curVal.\n",
        "\n",
        "    eg: when we have number like 123 our cur value becomes 1*100 + 2*!0 + 3*1 = \n",
        "    123. For cases like this we maintain a curVal\n",
        "\n",
        "    ------------ \n",
        "\n",
        "    So conditions:\n",
        "      1. if its a digit we increment cur by * 10 + current charater in string\n",
        "        eg: 123 above\n",
        "      2. if \"+/-\" -> first we reset curVal coz next value needs to be found\n",
        "          add a sign to the output by multiplying current sign with cuVal\n",
        "          then change the currentSign baased on whether it's + or -.\n",
        "          This change will determine what is to be done with the calculated curVal\n",
        "      3. ( -> Everytime we come across a \"(\", we store the current output in \n",
        "          stack and set the output = 0. We also append the current sign incase\n",
        "          we have a uranary '-'.\n",
        "      4. )\n",
        "\n",
        "\n",
        "  \"\"\"\n",
        "\n",
        " class Solution:\n",
        "  def calculate(self, s: str) -> int:\n",
        "    ans = 0\n",
        "    num = 0\n",
        "    sign = 1\n",
        "    stack = [sign]  # stack[-1]: current env's sign\n",
        "\n",
        "    for c in s:\n",
        "      if c.isdigit():\n",
        "        num = num * 10 + (ord(c) - ord('0'))\n",
        "      elif c == '(':\n",
        "        stack.append(sign)\n",
        "      elif c == ')':\n",
        "        stack.pop()\n",
        "      elif c == '+' or c == '-':\n",
        "        ans += sign * num\n",
        "        sign = (1 if c == '+' else -1) * stack[-1]\n",
        "        num = 0\n",
        "\n",
        "    return ans + sign * num"
      ]
    }
  ]
}