{
  "nbformat": 4,
  "nbformat_minor": 0,
  "metadata": {
    "colab": {
      "name": "Best time to buy Stock.ipynb",
      "provenance": [],
      "collapsed_sections": []
    },
    "kernelspec": {
      "name": "python3",
      "display_name": "Python 3"
    },
    "language_info": {
      "name": "python"
    }
  },
  "cells": [
    {
      "cell_type": "code",
      "execution_count": 2,
      "metadata": {
        "colab": {
          "base_uri": "https://localhost:8080/"
        },
        "id": "wS_De135boe_",
        "outputId": "2b5d7870-0750-499b-8716-ca72d484726e"
      },
      "outputs": [
        {
          "output_type": "stream",
          "name": "stdout",
          "text": [
            "5\n"
          ]
        }
      ],
      "source": [
        "\"\"\"\n",
        "    You are given an array prices where prices[i] is the price of a given stock on the ith day.\n",
        "    You want to maximize your profit by choosing a single day to buy one stock and choosing a different day in the future to sell that stock.\n",
        "    Return the maximum profit you can achieve from this transaction. If you cannot achieve any profit, return 0.\n",
        "\n",
        " ----------------------------\n",
        "    So we know there will be a minimum value -> the day we buy the stock = y\n",
        "    And a maximum value -> the day we should sell the stock = x\n",
        "\n",
        "    Max will always be after min.\n",
        "\n",
        "    AAnd we are trying to maximize this difference ie max (x-y) vallue for different values of min and max \n",
        "    We want to minimize the buying price aand maximize the profit\n",
        "\n",
        "\n",
        "\"\"\"\n",
        "\n",
        "\n",
        "def maxProfit(prices):\n",
        "    #Price at which we should buy stock \n",
        "    buyPrice = float(\"inf\")\n",
        "    #Current profit = 0\n",
        "    profit = 0\n",
        "    \n",
        "    for price in prices:\n",
        "        #If current price at which to buy is higher than ith day's price\n",
        "        if buyPrice > price:\n",
        "            #set price aat which to buy as price\n",
        "            buyPrice = price\n",
        "        else:\n",
        "            \"\"\"\n",
        "                We have to buy when price is the lowest andd sell when its the highest.\n",
        "                We are looping through prices iin sequence therefore, when we are setting\n",
        "                buyPrice in the if condition, we are updating thhe lowest price at which to buy\n",
        "                \n",
        "                \n",
        "            Now sell day can only be after buying dy so the next step, where we find the max\n",
        "            between current profit and current day's price - buyPrice -> it is the profit that\n",
        "            we will have if we sell on the ith day with the current buyPrice\n",
        "            \"\"\"\n",
        "            profit = max(profit, price-buyPrice)\n",
        "            \n",
        "    return profit\n",
        "\n",
        "print(maxProfit([7,1,5,3,6,4]))"
      ]
    }
  ]
}