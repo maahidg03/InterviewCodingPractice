{
  "nbformat": 4,
  "nbformat_minor": 0,
  "metadata": {
    "colab": {
      "name": "MinStack.ipynb",
      "provenance": []
    },
    "kernelspec": {
      "name": "python3",
      "display_name": "Python 3"
    },
    "language_info": {
      "name": "python"
    }
  },
  "cells": [
    {
      "cell_type": "code",
      "execution_count": null,
      "metadata": {
        "id": "P9PAUaKWrrI-"
      },
      "outputs": [],
      "source": [
        "\"\"\"\n",
        "    Design a stack that supports push, pop, top, and retrieving the minimum element in constant time.\n",
        "\n",
        "    Implement the MinStack class:\n",
        "\n",
        "    MinStack() initializes the stack object.\n",
        "    void push(int val) pushes the element val onto the stack.\n",
        "    void pop() removes the element on the top of the stack.\n",
        "    int top() gets the top element of the stack.\n",
        "    int getMin() retrieves the minimum element in the stack.\n",
        "    You must implement a solution with O(1) time complexity for each function.\n",
        "\n",
        "\"\"\"\n",
        "#Part1 - In constant time being the key. searchh operation for min will have complexity o(n).\n",
        "#Therefore, maintain another stack, minStack.\n",
        "class MinStack:\n",
        "\n",
        "    def __init__(self):\n",
        "        self.stack = []\n",
        "        self.minStack = []\n",
        "        \n",
        "\n",
        "    #Push will do 2 things - push the val to stack and \n",
        "    #push the minimum value after this push operation to minStack.\n",
        "    def push(self, val: int) -> None:\n",
        "        self.stack.append(val)\n",
        "        self.minStack.append(min(val if not self.minStack else self.minStack[-1],val))\n",
        "        \n",
        "    #Pop will pop from main stack and the minStack. So minStack gets updated after this pop op\n",
        "    def pop(self) -> None:\n",
        "        self.stack.pop()\n",
        "        self.minStack.pop()\n",
        "        \n",
        "\n",
        "    def top(self) -> int:\n",
        "        return self.stack[-1]\n",
        "        \n",
        "\n",
        "    def getMin(self) -> int:\n",
        "        return self.minStack[-1]\n",
        "\n",
        "\n",
        "# Your MinStack object will be instantiated and called as such:\n",
        "# obj = MinStack()\n",
        "# obj.push(val)\n",
        "# obj.pop()\n",
        "# param_3 = obj.top()\n",
        "# param_4 = obj.getMin()"
      ]
    }
  ]
}