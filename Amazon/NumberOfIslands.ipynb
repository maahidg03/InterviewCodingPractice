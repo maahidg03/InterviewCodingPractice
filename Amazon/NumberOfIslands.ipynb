{
  "nbformat": 4,
  "nbformat_minor": 0,
  "metadata": {
    "colab": {
      "name": "NumberOfIslands.ipynb",
      "provenance": []
    },
    "kernelspec": {
      "name": "python3",
      "display_name": "Python 3"
    },
    "language_info": {
      "name": "python"
    }
  },
  "cells": [
    {
      "cell_type": "code",
      "execution_count": null,
      "metadata": {
        "id": "novzS-yAWSlw"
      },
      "outputs": [],
      "source": [
        "\"\"\"\n",
        "\n",
        "  Leetcoded 200: Number of Islands\n",
        "  Given an m x n 2D binary grid grid which represents a map of '1's (land) and '0's (water), return the number of islands.\n",
        "\n",
        "  An island is surrounded by water and is formed by connecting adjacent lands horizontally or vertically. You may assume all four \n",
        "  edges of the grid are all surrounded by water.\n",
        "\n",
        "\"\"\"\n",
        "#-------BFS\n",
        "class Solution:\n",
        "    def numIslands(self, grid: List[List[str]]) -> int:\n",
        "        \"\"\"\n",
        "            We essentially need to traverse till there is 1 and mark the nodes that are visited. It's a typical breadth first                   graph search allgorithm.\n",
        "            \n",
        "            BFS is iterative, so we use a daata structure to store the vallues which is usuallly queue\n",
        "        \"\"\"        \n",
        "        #Base case 1\n",
        "        if not grid:\n",
        "            return 0\n",
        "        \n",
        "        islands = 0 #Count to be returned\n",
        "        rows = len(grid)\n",
        "        cols = len(grid[0])\n",
        "        #Visited set to keep track of visited nodes\n",
        "        visited = set()\n",
        "        \n",
        "        #----Part 2 bfs function\n",
        "        def bfs(r,c):\n",
        "            #Since tjis approach is iterative, we need a dataa structure to hold it. So we use a queue\n",
        "            q = collections.deque()\n",
        "            #We append these values to the queue\n",
        "            q.append((r,c))\n",
        "            #We also mark this cell as visited\n",
        "            visited.add((r,c))\n",
        "            \n",
        "            \n",
        "            #Now we loop through the queue until is has ended\n",
        "            #So baasically anytime a 1 is encountered in any of the 4 directions and if the node is not already visited, \n",
        "                #we append it to the queue. Then we pop the first element from the queue to make sure all these visited\n",
        "                # \"1\"s are checked for neighbouring land\n",
        "            while q:\n",
        "                curRow, curCol = q.popleft()\n",
        "                #We have to travel in 4 directions to check if the isllaand exists - right,left,top bottom for every\n",
        "                # value we are getting out of the queue\n",
        "                directions = [[1,0],[-1,0],[0,1],[0,-1]]\n",
        "                for rowDir, colDir in directions:\n",
        "                    newRow, newCol = curRow + rowDir, curCol + colDir\n",
        "                    #Then check if the newRow, newCol index is 1 and if they are not allreaady visited.\n",
        "                    #First however, we needd to make sure that the newRow and newCol actually lies in the range of our grid\n",
        "                    #Also the nodde must not aalready be visited\n",
        "                    if (newRow in range(rows) and newCol in range(cols) and grid[newRow][newCol] == \"1\" and (newRow, newCol) not in visited):\n",
        "                        #Add the node to the queue so thaat we can pop it and check for its neighbours in the next iteration\n",
        "                        q.append((newRow, newCol))\n",
        "                        #Also mark it as visited\n",
        "                        visited.add((newRow,newCol))\n",
        "                \n",
        "            \n",
        "        \n",
        "        #----Part 1 driver function. Its a 2D grid so we use 2 loops\n",
        "        for i in range(rows):\n",
        "            for j in range(cols):\n",
        "                #We check if the value of the current cell is 1 and if the cell haas not allready been visited\n",
        "                if grid[i][j] == \"1\" and (i,j) not in visited:\n",
        "                    bfs(i,j) #We perform bfs\n",
        "                    islands += 1 #we increase the number of islands\n",
        "        \n",
        "        return islands"
      ]
    }
  ]
}