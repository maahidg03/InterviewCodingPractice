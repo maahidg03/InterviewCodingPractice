{
  "nbformat": 4,
  "nbformat_minor": 0,
  "metadata": {
    "colab": {
      "name": "QueueUsing2Stacks.ipynb",
      "provenance": []
    },
    "kernelspec": {
      "name": "python3",
      "display_name": "Python 3"
    },
    "language_info": {
      "name": "python"
    }
  },
  "cells": [
    {
      "cell_type": "code",
      "execution_count": null,
      "metadata": {
        "id": "jqXVj2vmlQnd"
      },
      "outputs": [],
      "source": [
        "from collections import deque\n",
        "class MyQueue:\n",
        "\n",
        "    def __init__(self):\n",
        "        self.stack1 = []\n",
        "        self.stack2 = []\n",
        "        #self.q = deque()\n",
        "        \n",
        "\n",
        "    def push(self, x: int) -> None:\n",
        "        while self.stack2:\n",
        "            self.stack1.append(self.stack2.pop())\n",
        "        self.stack1.append(x)\n",
        "        \n",
        "\n",
        "    def pop(self) -> int:\n",
        "        while self.stack1:\n",
        "            self.stack2.append(self.stack1.pop())\n",
        "        #self.q.append(self.stack2.pop())\n",
        "        return self.stack2.pop()\n",
        "        \n",
        "\n",
        "\n",
        "    def empty(self) -> bool:\n",
        "        if not self.stack1 and not self.stack2:\n",
        "            return True\n",
        "        else:\n",
        "            return False\n",
        "        \n",
        "    def peek(self) -> int:\n",
        "        if not self.stack2:\n",
        "            while self.stack1:\n",
        "                self.stack2.append(self.stack1.pop())\n",
        "        return self.stack2[-1]\n",
        "        \n",
        "        \n",
        "\n",
        "\n",
        "# Your MyQueue object will be instantiated and called as such:\n",
        "# obj = MyQueue()\n",
        "# obj.push(x)\n",
        "# param_2 = obj.pop()\n",
        "# param_3 = obj.peek()\n",
        "# param_4 = obj.empty()"
      ]
    }
  ]
}