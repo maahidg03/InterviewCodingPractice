{
  "nbformat": 4,
  "nbformat_minor": 0,
  "metadata": {
    "colab": {
      "name": "ValidBST.ipynb",
      "provenance": []
    },
    "kernelspec": {
      "name": "python3",
      "display_name": "Python 3"
    },
    "language_info": {
      "name": "python"
    }
  },
  "cells": [
    {
      "cell_type": "code",
      "execution_count": null,
      "metadata": {
        "id": "6CEHIRk6MFxl"
      },
      "outputs": [],
      "source": [
        "\"\"\"\n",
        "\n",
        "  Leetcode 98:\n",
        "  Given the root of a binary tree, determine if it is a valid binary search tree (BST).\n",
        "\n",
        "  A valid BST is defined as follows:\n",
        "\n",
        "  The left subtree of a node contains only nodes with keys less than the node's key.\n",
        "  The right subtree of a node contains only nodes with keys greater than the node's key.\n",
        "  Both the left and right subtrees must also be binary search trees. \n",
        "\n",
        "\"\"\"\n",
        "\n",
        "\n",
        "\n",
        "# Definition for a binary tree node.\n",
        "# class TreeNode:\n",
        "#     def __init__(self, val=0, left=None, right=None):\n",
        "#         self.val = val\n",
        "#         self.left = left\n",
        "#         self.right = right\n",
        "class Solution:\n",
        "    def isValidBST(self, root: Optional[TreeNode]) -> bool:\n",
        "        \n",
        "        #We have a vaalidate function\n",
        "        \"\"\"\n",
        "            In the validaate function we paass low aand high values.\n",
        "            For left subtree, the highest value for any node is the val of the current node\n",
        "            For right subtree the lowest value for any nodde is the val of current node.\n",
        "            \n",
        "            The other defaults to infinity on either end\n",
        "        \"\"\"\n",
        "        def validate(root, low=-math.inf, high=math.inf):\n",
        "            if root is None:\n",
        "                return True #Since no tree is a valid subtree\n",
        "            \n",
        "            if root.val <= low or root.val >= high:\n",
        "                return False\n",
        "            \n",
        "            return (validate(root.left,low,root.val) and validate(root.right,root.val,high))\n",
        "        \n",
        "        return validate(root)\n",
        "        "
      ]
    }
  ]
}