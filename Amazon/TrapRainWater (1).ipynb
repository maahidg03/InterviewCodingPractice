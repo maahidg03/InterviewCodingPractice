{
  "nbformat": 4,
  "nbformat_minor": 0,
  "metadata": {
    "colab": {
      "name": "TrapRainWater.ipynb",
      "provenance": []
    },
    "kernelspec": {
      "name": "python3",
      "display_name": "Python 3"
    },
    "language_info": {
      "name": "python"
    }
  },
  "cells": [
    {
      "cell_type": "code",
      "execution_count": null,
      "metadata": {
        "id": "Nn_2laEq8e_M"
      },
      "outputs": [],
      "source": [
        "\"\"\"\n",
        "    Leetcodde 42 : Trapping Rain Water\n",
        "    Given n non-negative integers representing an elevation map where the width of each bar is 1, compute how much water it can trap after raining.\n",
        "\n",
        "    ---To hold water, water should be surrounded by buildings on both left and right sidde where atleaast 1 building haas to bigger or equall \n",
        "    to height of water. Since we have to check both lleft andd right side, we need to find the minimum of 2 builldings on the lleft and right sidd\n",
        "    andd also nneed to consider the maximum on either side so that water doesn't overflow.\n",
        "\n",
        "    We also need to consider the size of the building that are already existing in the current index\n",
        "\n",
        "    So formula = minimum(LeftMax,rightMax)- height[i]\n",
        "\n",
        "    ----Steps:\n",
        "    1. We willl begin with considering the maximum height of building on the left side of index and building height of current index.\n",
        "        Create array left that will contain the maximum height between the tallest building on the left side of the current buiding index and the current index\n",
        "          so left[0] = height[0]\n",
        "          so max on left is initially 0\n",
        "\n",
        "    2. Loop from 1-N, fill in array left\n",
        "      left[i] = max(left[i-1],height[i])\n",
        "\n",
        "    3. Do exact thing for right\n",
        "        right[n-1] = height[n-1]\n",
        "\n",
        "        loop from n-2 to 0\n",
        "         right[i] = max(right[i+1],height[i])\n",
        "        \n",
        "    4. Applly formula at i\n",
        "        loop for n times\n",
        "        water += miinimum(left[i],right[i]) - height[i]\n",
        "\n",
        "\n",
        "Time Compllexity = O(N) - 3 times going over same llength of arraay so technically O(N*3)\n",
        "\n",
        "\"\"\"\n",
        "\n",
        "class Solution:\n",
        "    def trap(self, height: List[int]) -> int:\n",
        "        if not height:\n",
        "            return 0\n",
        "        \n",
        "        water = 0\n",
        "        n = len(height)\n",
        "        \n",
        "        left = [0] * n\n",
        "        left[0] = height[0]\n",
        "        for i in range(1,n):\n",
        "            left[i] = max(left[i-1],height[i])\n",
        "        \n",
        "        right = [0] * n\n",
        "        right[n-1] = height[n-1]\n",
        "        for j in range(n-2,-1,-1):\n",
        "            right[j] = max(right[j+1],height[j])\n",
        "            \n",
        "        for k in range(len(height)):\n",
        "            water += min(left[k],right[k]) - height[k]\n",
        "            \n",
        "        return water"
      ]
    }
  ]
}