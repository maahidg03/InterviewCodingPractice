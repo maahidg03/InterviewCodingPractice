{
  "nbformat": 4,
  "nbformat_minor": 0,
  "metadata": {
    "colab": {
      "name": "BSTLevelOrderTraversal.ipynb",
      "provenance": []
    },
    "kernelspec": {
      "name": "python3",
      "display_name": "Python 3"
    },
    "language_info": {
      "name": "python"
    }
  },
  "cells": [
    {
      "cell_type": "code",
      "execution_count": null,
      "metadata": {
        "id": "wxFCa-7_3h73"
      },
      "outputs": [],
      "source": [
        "\"\"\"\n",
        "    BinaryTree level order traversal\n",
        "    Given the root of a binary tree, return the level order traversal of its nodes' values. (i.e., from left to right, level by level).\n",
        "\n",
        "\"\"\"\n",
        "from collections import deque\n",
        "def levelOrder(root):\n",
        "  q = deque()\n",
        "  q.append(root)\n",
        "  result = []\n",
        "\n",
        "  while q:\n",
        "    lenQ = len(q)\n",
        "    level = []\n",
        "    for i in range(lenQ):\n",
        "      node = q.popleft()\n",
        "      if node:\n",
        "        level.append(node.val)\n",
        "        q.append(left)\n",
        "        q.append(right)\n",
        "    if level:\n",
        "      result.append(level)\n",
        "      level = []\n",
        "  return result\n"
      ]
    }
  ]
}