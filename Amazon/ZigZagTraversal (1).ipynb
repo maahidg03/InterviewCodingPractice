{
  "nbformat": 4,
  "nbformat_minor": 0,
  "metadata": {
    "colab": {
      "name": "ZigZagTraversal.ipynb",
      "provenance": []
    },
    "kernelspec": {
      "name": "python3",
      "display_name": "Python 3"
    },
    "language_info": {
      "name": "python"
    }
  },
  "cells": [
    {
      "cell_type": "code",
      "execution_count": null,
      "metadata": {
        "id": "RvXB4iyK8X-Y"
      },
      "outputs": [],
      "source": [
        "\"\"\"\n",
        "\n",
        "  Leetcode 103\n",
        "\n",
        "  Given the root of a binary tree, return the zigzag level order \n",
        "  traversal of its nodes' values. (i.e., from left to right, then right to left \n",
        "  for the next level and alternate between).\n",
        "\n",
        "\"\"\"\n",
        "\n",
        "from collections import deque\n",
        "class Solution:\n",
        "    def zigzagLevelOrder(self, root: Optional[TreeNode]) -> List[List[int]]:\n",
        "        if not root:\n",
        "            return []\n",
        "        \n",
        "        q = deque()\n",
        "        #level = []\n",
        "        solutionArray = []\n",
        "        zigzag = False\n",
        "        \n",
        "        q.append(root)\n",
        "        \n",
        "        while q: #OuterLoop will be for level traversal\n",
        "            level = []\n",
        "            #Zigzag logic\n",
        "            for _ in range(len(q)): #2\n",
        "                if not zigzag:\n",
        "                    #[15,7]\n",
        "                    node = q.popleft() #First element\n",
        "                    level.append(node.val)\n",
        "                    if node.left:\n",
        "                        q.append(node.left) #Back of the queue\n",
        "                    if node.right:\n",
        "                        q.append(node.right)\n",
        "                        \n",
        "                    \n",
        "                else:\n",
        "                    node = q.pop() #last element\n",
        "                    level.append(node.val)    \n",
        "                    if node.right:\n",
        "                        q.appendleft(node.right) #Front of the queue to maintain sequende\n",
        "                    if node.left:\n",
        "                        q.appendleft(node.left)\n",
        "                        \n",
        "            solutionArray.append(level) #For every level \n",
        "            zigzag = not zigzag\n",
        "        \n",
        "        return solutionArray"
      ]
    }
  ]
}