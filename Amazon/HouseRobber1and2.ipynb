{
  "nbformat": 4,
  "nbformat_minor": 0,
  "metadata": {
    "colab": {
      "name": "HouseRobber1and2.ipynb",
      "provenance": []
    },
    "kernelspec": {
      "name": "python3",
      "display_name": "Python 3"
    },
    "language_info": {
      "name": "python"
    }
  },
  "cells": [
    {
      "cell_type": "code",
      "execution_count": null,
      "metadata": {
        "id": "F_TSo-HD2hJb"
      },
      "outputs": [],
      "source": [
        "\"\"\"\n",
        "\n",
        "    Leetcode 198 EASY\n",
        "    You are a professional robber planning to rob houses along a street. \n",
        "    Each house has a certain amount of money stashed, the only constraint \n",
        "    stopping you from robbing each of them is that adjacent houses have security \n",
        "    systems connected and it will automatically contact the police if two adjacent \n",
        "    houses were broken into on the same night.\n",
        "\n",
        "Given an integer array nums representing the amount of money of each house, \n",
        "return the maximum amount of money you can rob tonight without alerting the police.\n",
        "\n",
        "\"\"\"\n",
        "\n",
        "class Solution:\n",
        "    def rob(self, nums: List[int]) -> int:\n",
        "        #Base case 1\n",
        "        if len(nums) == 0:\n",
        "            return 0\n",
        "        \n",
        "        n = (len(nums)+1)\n",
        "        dp = [None] * n\n",
        "        dp[0] = 0 #Max value when 0 houses are robbed = 0\n",
        "        dp[1] = nums[0] #Maax value when onlly the first house is robbed\n",
        "        \n",
        "        #Loop through array. Check return logic first\n",
        "        for i in range(1,len(nums)):\n",
        "            dp[i+1] = max(dp[i], dp[i-1]+ nums[i])\n",
        "            #Next max will be = max of either the previous value which is the previous max or max with the \n",
        "                #                                                     house before + current house  value\n",
        "            \n",
        "        #print(dp)\n",
        "        return dp[len(nums)] #REturn last element of dp array"
      ]
    },
    {
      "cell_type": "code",
      "source": [
        "\"\"\"\n",
        "\n",
        "  Leetcode 213\n",
        "  House Robber 2 -> Circle\n",
        "\n",
        "  You are a professional robber planning to rob houses along a street. Each house has a certain amount of money\n",
        "   stashed. All houses at this place are arranged in a circle. That means the first house is the neighbor of the last one.\n",
        "    Meanwhile, adjacent houses have a security system connected, and it will automatically contact the police if two \n",
        "    adjacent houses were broken into on the same night.\n",
        "\n",
        "    Given an integer array nums representing the amount of money of each house, return the maximum amount of money you \n",
        "    can rob tonight without alerting the police.\n",
        "\n",
        "    ----------------------------------\n",
        "    So the main change here is that if the first house is being considered in the max then the last house should not be included. AAnd if last\n",
        "    is included first shouldn't be empty.\n",
        "\n",
        "    So we first find the max from i=1 to last house and then max from i=0 to last but 1.\n",
        "    Then we find the max of both\n",
        "\n",
        "\"\"\"\n",
        "class Solution:\n",
        "    def rob(self, nums: List[int]) -> int:\n",
        "        #Base case 1\n",
        "        if len(nums) == 0:\n",
        "            return 0\n",
        "        \n",
        "        if len(nums) == 1:\n",
        "            return nums[0]\n",
        "    \n",
        "        if len(nums) ==2:\n",
        "            return max(nums[0],nums[1])\n",
        "        \n",
        "        return max(self.helper(nums[:-1]), self.helper(nums[1:]))\n",
        "        \n",
        "    def helper(self, nums: List[int]) -> int:\n",
        "        n = (len(nums)+1)\n",
        "        dp = [None] * n\n",
        "        dp[0] = 0\n",
        "        dp[1] = nums[0]\n",
        "        \n",
        "        for i in range(1, len(nums)):\n",
        "            dp[i+1] = max(dp[i], dp[i-1] + nums[i])\n",
        "           \n",
        "        print(dp)\n",
        "        return dp[len(nums)]"
      ],
      "metadata": {
        "id": "1UzOkobXk1zQ"
      },
      "execution_count": null,
      "outputs": []
    }
  ]
}