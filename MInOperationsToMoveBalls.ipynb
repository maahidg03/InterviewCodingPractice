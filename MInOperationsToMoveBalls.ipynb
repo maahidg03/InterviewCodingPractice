{
  "nbformat": 4,
  "nbformat_minor": 0,
  "metadata": {
    "colab": {
      "name": "MInOperationsToMoveBalls.ipynb",
      "provenance": []
    },
    "kernelspec": {
      "name": "python3",
      "display_name": "Python 3"
    },
    "language_info": {
      "name": "python"
    }
  },
  "cells": [
    {
      "cell_type": "code",
      "metadata": {
        "id": "HC8mcfv68hra"
      },
      "source": [
        "\"\"\"\n",
        "    You have n boxes. You are given a binary string boxes of length n, where boxes[i] is '0' if the ith box is empty, and '1' if it contains one ball.\n",
        "\n",
        "In one operation, you can move one ball from a box to an adjacent box. Box i is adjacent to box j if abs(i - j) == 1. Note that after doing so, there may be more than one ball in some boxes.\n",
        "\n",
        "Return an array answer of size n, where answer[i] is the minimum number of operations needed to move all the balls to the ith box.\n",
        "\n",
        "Each answer[i] is calculated considering the initial state of the boxes.\n",
        "\"\"\""
      ],
      "execution_count": null,
      "outputs": []
    },
    {
      "cell_type": "code",
      "metadata": {
        "id": "OX2jBpMg8xMP",
        "colab": {
          "base_uri": "https://localhost:8080/"
        },
        "outputId": "33b3b766-77f3-4094-e216-249991c72f99"
      },
      "source": [
        "def minOperations(boxes: str):\n",
        "  #dp = [[0 for i in range(len(boxes))] for j in range(len(boxes))] \n",
        "  dp = [0] * len(boxes)\n",
        "  for i in range(len(boxes)):\n",
        "    for j in range(len(boxes)):\n",
        "      if (i!=j and boxes[j] == '1'):\n",
        "        #print(boxes[i])\n",
        "        dp[i] = dp[i] + abs(i-j)\n",
        "      \n",
        "  print(dp)\n",
        "  #sol = [] * len(boxes)\n",
        "  #sol = [sum(x) for x in zip(*dp) ]\n",
        "  \n",
        "  return dp\n",
        "\n",
        "arr=\"001011\"\n",
        "minOperations(arr)"
      ],
      "execution_count": 6,
      "outputs": [
        {
          "output_type": "stream",
          "text": [
            "[11, 8, 5, 4, 3, 4]\n"
          ],
          "name": "stdout"
        },
        {
          "output_type": "execute_result",
          "data": {
            "text/plain": [
              "[11, 8, 5, 4, 3, 4]"
            ]
          },
          "metadata": {
            "tags": []
          },
          "execution_count": 6
        }
      ]
    }
  ]
}