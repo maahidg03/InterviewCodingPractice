{
  "nbformat": 4,
  "nbformat_minor": 0,
  "metadata": {
    "colab": {
      "name": "IntegerToRoman.ipynb",
      "provenance": []
    },
    "kernelspec": {
      "name": "python3",
      "display_name": "Python 3"
    },
    "language_info": {
      "name": "python"
    }
  },
  "cells": [
    {
      "cell_type": "code",
      "execution_count": 1,
      "metadata": {
        "id": "t2TOQhDiIOOS",
        "colab": {
          "base_uri": "https://localhost:8080/",
          "height": 160
        },
        "outputId": "d3e7302d-36bb-4d6f-e5f5-0fbc51c06273"
      },
      "outputs": [
        {
          "output_type": "execute_result",
          "data": {
            "text/plain": [
              "'\\n\\n  Leetcode Integer to Roman.\\n  1. Maintain hashmap of 13 symbols.\\n  2. Eg: 478:\\n    M - 1000 ; CM - 900 ; D - 500  ; CD - 400 ; C - 100 ; XC - 90 ; L - 50 ; XL - 40 ; X - 10 ; IX - 9 ; V - 5 ; IV - 4 ; I - 1\\n    \\n  Approach 1: Greedy algo - Make the best possible decision at every step.\\n  1. Loop through this hashmap from greatest to smallest. Find the first symbol which is less than the number\\n    eg: 400 < 478 therefore, add CD to the string.\\n    Find remainder number 478-400 = 78\\n\\n    Repeat the same thing. \\n    eg: 50 < 78 therefore, add L so new string is \"CDL\"\\n    Remainder = 78-50 = 28\\n\\n    10 < 28 therefore, new string is \"CDLX\"\\n    Remainder = 18\\n    10 < 18 therefore, new string is \"CDLXX\"\\n    Remainder = 8\\n    5 < 8 therefore new string is \"CDLXXV\"\\n    Remainder = 3\\n\\n    Same thing three times for 3 = I\\n\\n    So roman is CDLXXVIII\\n'"
            ],
            "application/vnd.google.colaboratory.intrinsic+json": {
              "type": "string"
            }
          },
          "metadata": {},
          "execution_count": 1
        }
      ],
      "source": [
        "\"\"\"\n",
        "\n",
        "  Leetcode Integer to Roman.\n",
        "  1. Maintain hashmap of 13 symbols.\n",
        "  2. Eg: 478:\n",
        "    M - 1000 ; CM - 900 ; D - 500  ; CD - 400 ; C - 100 ; XC - 90 ; L - 50 ; XL - 40 ; X - 10 ; IX - 9 ; V - 5 ; IV - 4 ; I - 1\n",
        "    \n",
        "  Approach 1: Greedy algo - Make the best possible decision at every step.\n",
        "  1. Loop through this hashmap from greatest to smallest. Find the first symbol which is less than the number\n",
        "    eg: 400 < 478 \n",
        "    Now check how many times we need this symbol 478/400 = 1 therefore, therefore, add CD to the string.\n",
        "    Find remainder number 478-400 = 78\n",
        "\n",
        "    Repeat the same thing. \n",
        "    eg: 50 < 78 \n",
        "    No of times = 78/50 = 1 therefore, add L so new string is \"CDL\"\n",
        "    Remainder = 78-50 = 28\n",
        "\n",
        "    10 < 28 therefore, new string is \"CDLX\"\n",
        "    No of times = 28/10 = 2 therefore, new string is \"CDLXX\"\n",
        "    Remainder = 28-10-10 = 8\n",
        "    \n",
        "    5 < 8 \n",
        "    no of times = 8/5 = 3 therefore new string is \"CDLXXVIII\"\n",
        "    \n",
        "    So roman is CDLXXVIII\n",
        "\"\"\""
      ]
    },
    {
      "cell_type": "code",
      "source": [
        "\"\"\"\n",
        "    This code is correct but because there is a loop of noOfTimes, the time complexity is O(N). We caan simplify that\n",
        "\n",
        "\"\"\"\n",
        "def intToRoman(num):\n",
        "  romanString = \"\"\n",
        "  hashmap = {1000 : \"M\", 900 : \"CM\", 500 : \"D\", 400: \"CD\", 100 : \"C\", 90 : \"XC\", 50 : \"L\", 40 : \"XL\", 10 : \"X\", 9: \"IX\", 5: \"V\", 4 : \"IV\", 1 : \"I\"}\n",
        "\n",
        "  if num in hashmap:\n",
        "      return hashmap[num]\n",
        "      \n",
        "  for i in hashmap:\n",
        "    if num == 0:\n",
        "      break\n",
        "    \n",
        "    if i <= num:\n",
        "      noOfTimes = num//i\n",
        "      for j in range(noOfTimes):\n",
        "        romanString += hashmap[i]\n",
        "        num = num - i\n",
        "  return romanString\n",
        "\n",
        "print(intToRoman(1994))"
      ],
      "metadata": {
        "colab": {
          "base_uri": "https://localhost:8080/"
        },
        "id": "D6YwY9VkFy1M",
        "outputId": "5aeb9155-7c65-4169-a40c-012e0f0245dd"
      },
      "execution_count": 15,
      "outputs": [
        {
          "output_type": "stream",
          "name": "stdout",
          "text": [
            "MCMXCIV\n"
          ]
        }
      ]
    },
    {
      "cell_type": "code",
      "source": [
        "\"\"\"\n",
        "  To optimize, instead of romanString use romanArray.\n",
        "  Once we have the noOfTimes, we simply append the symbol noofTimes times\n",
        "  And return the array with join\n",
        "\n",
        "\"\"\"\n",
        "\"\"\"\n",
        "    The time and space complexity of this greedy approach is O(1) since we are iterating over the hashmap, which is a \n",
        "    fixed size entity.\n",
        "\n",
        "\"\"\"\n",
        "def intToRoman(num):\n",
        "  romanString = []\n",
        "  hashmap = {1000 : \"M\", 900 : \"CM\", 500 : \"D\", 400: \"CD\", 100 : \"C\", 90 : \"XC\", 50 : \"L\", 40 : \"XL\", 10 : \"X\", 9: \"IX\", 5: \"V\", 4 : \"IV\", 1 : \"I\"}\n",
        "\n",
        "  if num in hashmap:\n",
        "      return hashmap[num]\n",
        "      \n",
        "  for i in hashmap:\n",
        "    if num == 0:\n",
        "      break\n",
        "    \n",
        "    if i <= num:\n",
        "      #divmod takes 2 numbers, and return quotient and remainder\n",
        "      noOfTimes, num = divmod(num,i)\n",
        "      romanString.append(hashmap[i] * noOfTimes)\n",
        "      # num = num - i\n",
        "  return \"\".join(romanString)\n",
        "\n",
        "print(intToRoman(20))"
      ],
      "metadata": {
        "colab": {
          "base_uri": "https://localhost:8080/"
        },
        "id": "n1ruleHzLz7W",
        "outputId": "b90de391-fa69-434e-98f1-08456eee6d17"
      },
      "execution_count": 19,
      "outputs": [
        {
          "output_type": "stream",
          "name": "stdout",
          "text": [
            "XX\n"
          ]
        }
      ]
    },
    {
      "cell_type": "code",
      "source": [
        "\"\"\"\n",
        "ROMAN TO INTEGER\n",
        "\n",
        "1. Keep a variable total. Basically, roman numbers can be read from left to right and the value of roman character can be\n",
        "    added to the total. \n",
        "2. If the value of s[i] > s[i+1], simply add the values.\n",
        "    eg: CXVII\n",
        "    100 + 10 + 5 + 1 + 1 = 117\n",
        "\n",
        "  If the value of s[i] < s[i+1], subtract - s[i+1] - s[i] and add to total\n",
        "    eg: DXCI\n",
        "    D = 500 \n",
        "    But X < C therefore C-X = 90\n",
        "    I = 1\n",
        "    so 500+90+1 = 591\n",
        "\n",
        "Time and Space Complexity is O(1) since the number of roman numerals is fixed\n",
        "\"\"\""
      ],
      "metadata": {
        "id": "gxgC013uFUfa"
      },
      "execution_count": null,
      "outputs": []
    },
    {
      "cell_type": "code",
      "source": [
        "def romanToInt(s):\n",
        "  total = 0 #Will be returned\n",
        "  i = 0\n",
        "  hashmap = {\"M\" : 1000, \"D\" : 500,  \"C\" : 100, \"L\" : 50, \"X\" : 10, \"V\" : 5,\"I\" :1}\n",
        "\n",
        "  while i < len(s):\n",
        "    if i+1 < len(s) and hashmap[s[i]] < hashmap[s[i+1]]:\n",
        "      total += hashmap[s[i+1]] - hashmap[s[i]]\n",
        "      i += 2\n",
        "    else:\n",
        "      total += hashmap[s[i]]\n",
        "      i += 1\n",
        "\n",
        "  return total\n",
        "\n",
        "print(romanToInt(\"DXCI\"))"
      ],
      "metadata": {
        "colab": {
          "base_uri": "https://localhost:8080/"
        },
        "id": "tZVr809swmiM",
        "outputId": "552687f0-8ad6-4a6a-9878-ccf4674bb3c5"
      },
      "execution_count": 8,
      "outputs": [
        {
          "output_type": "stream",
          "name": "stdout",
          "text": [
            "591\n"
          ]
        }
      ]
    },
    {
      "cell_type": "code",
      "source": [
        "\"\"\"\n",
        "  Approach 2:\n",
        "  We can optimize this more by also adding the exception values to the hashmap and if the first condition is true, find the \n",
        "  value from hashmap. Eg: get XC directly from hashmap as 90\n",
        "\n",
        "\n",
        "\"\"\""
      ],
      "metadata": {
        "id": "LFysm9KmzX9B"
      },
      "execution_count": null,
      "outputs": []
    },
    {
      "cell_type": "code",
      "source": [
        "def romanToInt(s):\n",
        "  total = 0 #Will be returned\n",
        "  i = 0\n",
        "  hashmap = {\"M\" : 1000, \"CM\" : 900, \"D\" : 500,  \"C\" : 100, \"XC\":90, \"L\" : 50, \"XL\": 40 ,\"X\" : 10, \"XI\": 9,\"V\" : 5,\"IV\": 4,\"I\" :1}\n",
        "\n",
        "  while i < len(s):\n",
        "    print(s[i:i+2])\n",
        "    if i < len(s)-1 and s[i:i+2] in hashmap :\n",
        "      total += hashmap[s[i:i+2]]\n",
        "      i += 2\n",
        "    else:\n",
        "      total += hashmap[s[i]]\n",
        "      i += 1\n",
        "\n",
        "  return total\n",
        "\n",
        "print(romanToInt(\"DXCI\"))"
      ],
      "metadata": {
        "colab": {
          "base_uri": "https://localhost:8080/"
        },
        "id": "3s26FxmRztGk",
        "outputId": "3b482afe-f07d-46b6-b13f-77dfb6dca916"
      },
      "execution_count": 13,
      "outputs": [
        {
          "output_type": "stream",
          "name": "stdout",
          "text": [
            "DX\n",
            "XC\n",
            "I\n",
            "591\n"
          ]
        }
      ]
    }
  ]
}