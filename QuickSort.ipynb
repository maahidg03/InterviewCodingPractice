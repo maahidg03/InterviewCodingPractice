{
  "nbformat": 4,
  "nbformat_minor": 0,
  "metadata": {
    "colab": {
      "name": "QuickSort.ipynb",
      "provenance": [],
      "collapsed_sections": []
    },
    "kernelspec": {
      "name": "python3",
      "display_name": "Python 3"
    }
  },
  "cells": [
    {
      "cell_type": "code",
      "metadata": {
        "id": "vfjRh3amgLgJ"
      },
      "source": [
        "\"\"\"\n",
        "    Quicksort Array\n",
        "\"\"\""
      ],
      "execution_count": null,
      "outputs": []
    },
    {
      "cell_type": "code",
      "metadata": {
        "colab": {
          "base_uri": "https://localhost:8080/"
        },
        "id": "jCHn9GsBgSev",
        "outputId": "582bcc4b-7189-4d13-d940-ff13dcdb8b2e"
      },
      "source": [
        "def partition(arr,low,high):\n",
        "    #print(\"Yo\")\n",
        "    pivot = arr[high] #Last element as pivot\n",
        "    j = low-1\n",
        "  \n",
        "    for i in range(low,high):\n",
        "      if arr[i] <= pivot:\n",
        "        j += 1 \n",
        "        arr[i],arr[j] = arr[j],arr[i]\n",
        "        \n",
        "    arr[i+1],arr[high] = arr[high],arr[i+1]\n",
        "    return j+1\n",
        "\n",
        "def quickSort(arr,low,high):\n",
        "    #print(partition(arr,0,high))\n",
        "    if len(arr) == 1:\n",
        "      return arr\n",
        "    if low < high:\n",
        "      pi = partition(arr,low,high)\n",
        "      print(\"Pi: \",pi)\n",
        "      quickSort(arr,low,pi-1)\n",
        "      quickSort(arr,pi+1,high)\n",
        "\n",
        "\n",
        "arr = [10, 80, 30, 90, 40, 50, 70]\n",
        "n = len(arr)-1\n",
        "quickSort(arr,0,n)\n",
        "print(arr)\n",
        "  "
      ],
      "execution_count": 36,
      "outputs": [
        {
          "output_type": "stream",
          "text": [
            "Pi:  4\n",
            "Pi:  3\n",
            "Pi:  2\n",
            "Pi:  1\n",
            "Pi:  5\n",
            "[10, 30, 40, 50, 80, 90, 70]\n"
          ],
          "name": "stdout"
        }
      ]
    }
  ]
}