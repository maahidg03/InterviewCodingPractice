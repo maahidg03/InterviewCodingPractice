{
  "nbformat": 4,
  "nbformat_minor": 0,
  "metadata": {
    "colab": {
      "name": "RectangleOverlap.ipynb",
      "provenance": []
    },
    "kernelspec": {
      "name": "python3",
      "display_name": "Python 3"
    }
  },
  "cells": [
    {
      "cell_type": "code",
      "metadata": {
        "colab": {
          "base_uri": "https://localhost:8080/",
          "height": 69
        },
        "id": "FgOLKF_8_Za-",
        "outputId": "7e939bfe-f2b1-4dd0-9ed7-2ece23d021c1"
      },
      "source": [
        "\"\"\"\n",
        "      Given two rectangles, find if the given two rectangles overlap or not.\n",
        "Note that a rectangle can be represented by two coordinates, top left and bottom right. So mainly we are given following four coordinates.\n",
        "l1: Top Left coordinate of first rectangle.\n",
        "r1: Bottom Right coordinate of first rectangle.\n",
        "l2: Top Left coordinate of second rectangle.\n",
        "r2: Bottom Right coordinate of second rectangle.\n",
        "\n",
        "Note : It may be assumed that the rectangles are parallel to the coordinate axis.\n",
        "\n",
        "\"\"\""
      ],
      "execution_count": 2,
      "outputs": [
        {
          "output_type": "execute_result",
          "data": {
            "application/vnd.google.colaboratory.intrinsic+json": {
              "type": "string"
            },
            "text/plain": [
              "'\\n      Given two rectangles, find if the given two rectangles overlap or not.\\nNote that a rectangle can be represented by two coordinates, top left and bottom right. So mainly we are given following four coordinates.\\nl1: Top Left coordinate of first rectangle.\\nr1: Bottom Right coordinate of first rectangle.\\nl2: Top Left coordinate of second rectangle.\\nr2: Bottom Right coordinate of second rectangle.\\n'"
            ]
          },
          "metadata": {
            "tags": []
          },
          "execution_count": 2
        }
      ]
    },
    {
      "cell_type": "code",
      "metadata": {
        "colab": {
          "base_uri": "https://localhost:8080/"
        },
        "id": "LLKdviD7_bZu",
        "outputId": "25944159-80bc-451f-d54e-ba4c18cd7c72"
      },
      "source": [
        "class RectanglePoint:\n",
        "\n",
        "  def __init__(self,x,y):\n",
        "    self.x=x\n",
        "    self.y=y\n",
        "\n",
        "def overlap(l1,l2,r1,r2):\n",
        "  #l1.y <= r2.y or l2.y <= r1.y - above\n",
        "  if l1.y < r2.y or l2.y < r1.y:\n",
        "    return False\n",
        "  #l1.x >= r2.x or l2.x >= r1.x - left\n",
        "  if r2.x < l1.x or r1.x <l2.x:\n",
        "    return False\n",
        "  return True\n",
        "\n",
        "if __name__ == \"__main__\":\n",
        "  l1=RectanglePoint(0, 10)\n",
        "  l2=RectanglePoint(5, 5)\n",
        "  r1=RectanglePoint(10, 0)\n",
        "  r2=RectanglePoint(15, 0)\n",
        "\n",
        "  answer=overlap(l1,l2,r1,r2)\n",
        "  #print(answer)\n",
        "  if answer:\n",
        "    print(\"Rectangles Overlap\")\n",
        "  else:\n",
        "    print(\"Rectangles do not overlap\")\n"
      ],
      "execution_count": 8,
      "outputs": [
        {
          "output_type": "stream",
          "text": [
            "Rectangles Overlap\n"
          ],
          "name": "stdout"
        }
      ]
    }
  ]
}