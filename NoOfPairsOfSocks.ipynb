{
  "nbformat": 4,
  "nbformat_minor": 0,
  "metadata": {
    "colab": {
      "name": "NoOfPairsOfSocks.ipynb",
      "provenance": []
    },
    "kernelspec": {
      "name": "python3",
      "display_name": "Python 3"
    }
  },
  "cells": [
    {
      "cell_type": "code",
      "metadata": {
        "colab": {
          "base_uri": "https://localhost:8080/"
        },
        "id": "MVcjuYJMJKTp",
        "outputId": "11ee018a-463d-43e4-8ed4-9fa4de65eea9"
      },
      "source": [
        "\"\"\"\n",
        "    Count of Number of sock pairs\n",
        "\"\"\"\n",
        "def pairedSocks(arr):\n",
        "  count = 0\n",
        "  n = len(arr)\n",
        "  setColor = list(set(arr)) \n",
        "  print(setColor)\n",
        "  sockCount = dict.fromkeys(setColor,0)\n",
        "\n",
        "  for i in arr:\n",
        "    sockCount[i] += 1\n",
        "\n",
        "  print(sockCount)\n",
        "  for j in setColor:\n",
        "    count +=  sockCount[j] // 2\n",
        "\n",
        "  return count\n",
        "\n",
        "answer=pairedSocks([10,20,20,10,10,30,50,10,20])\n",
        "print(answer)"
      ],
      "execution_count": 21,
      "outputs": [
        {
          "output_type": "stream",
          "text": [
            "[10, 20, 50, 30]\n",
            "{10: 4, 20: 3, 50: 1, 30: 1}\n",
            "3\n"
          ],
          "name": "stdout"
        }
      ]
    }
  ]
}