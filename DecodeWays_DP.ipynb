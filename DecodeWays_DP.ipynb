{
  "nbformat": 4,
  "nbformat_minor": 0,
  "metadata": {
    "colab": {
      "name": "DecodeWays_DP.ipynb",
      "provenance": []
    },
    "kernelspec": {
      "name": "python3",
      "display_name": "Python 3"
    }
  },
  "cells": [
    {
      "cell_type": "code",
      "metadata": {
        "colab": {
          "base_uri": "https://localhost:8080/",
          "height": 52
        },
        "id": "-S-r1W_eu5Gp",
        "outputId": "6b72bd3f-6f5a-4ffc-8959-260d0d19d80c"
      },
      "source": [
        "\"\"\"\n",
        "    Let 1 represent ‘A’, 2 represents ‘B’, etc. Given a digit sequence, count the number of possible decodings of the given digit sequence. \n",
        "\n",
        "\"\"\""
      ],
      "execution_count": 1,
      "outputs": [
        {
          "output_type": "execute_result",
          "data": {
            "application/vnd.google.colaboratory.intrinsic+json": {
              "type": "string"
            },
            "text/plain": [
              "'\\n    Let 1 represent ‘A’, 2 represents ‘B’, etc. Given a digit sequence, count the number of possible decodings of the given digit sequence. \\n\\n'"
            ]
          },
          "metadata": {
            "tags": []
          },
          "execution_count": 1
        }
      ]
    },
    {
      "cell_type": "code",
      "metadata": {
        "colab": {
          "base_uri": "https://localhost:8080/"
        },
        "id": "H2Orh12du_9f",
        "outputId": "5174dcee-90d6-412a-dce8-0492b0652f47"
      },
      "source": [
        "def decodeWays(s):\n",
        "  dp = [0] * (len(s)+1)\n",
        "  dp[0] = 1\n",
        "  if (s[0] == '0'):\n",
        "    dp[1] = 0\n",
        "  else:\n",
        "    dp[1] = 1\n",
        "  \n",
        "  for i in range(2,len(dp)):\n",
        "    if s[i-1] == '0':\n",
        "      if (s[i-2] == '1' or s[i-2] == '2'):\n",
        "        dp[i]=dp[i-2]\n",
        "      else:\n",
        "        dp[i] = 0\n",
        "    else:\n",
        "      if ((s[i-2] == '1' or s[i-2] == '2') and int(s[i-1]) < 7):\n",
        "        dp[i] = dp[i-1] +dp[i-2]\n",
        "      else:\n",
        "        dp[i] = dp[i-1]\n",
        "  \n",
        "  return dp[len(s)]\n",
        "\n",
        "answer = decodeWays(\"12721\")\n",
        "print(answer)\n",
        "\n"
      ],
      "execution_count": 5,
      "outputs": [
        {
          "output_type": "stream",
          "text": [
            "4\n"
          ],
          "name": "stdout"
        }
      ]
    }
  ]
}