{
  "nbformat": 4,
  "nbformat_minor": 0,
  "metadata": {
    "colab": {
      "name": "2Sum_O(n).ipynb",
      "provenance": []
    },
    "kernelspec": {
      "name": "python3",
      "display_name": "Python 3"
    },
    "language_info": {
      "name": "python"
    }
  },
  "cells": [
    {
      "cell_type": "code",
      "metadata": {
        "id": "xWH3ZYg2d6We"
      },
      "source": [
        "\"\"\"\n",
        "\n",
        "Given an array of integers nums and an integer target, return indices of the two numbers such that they add up to target.\n",
        "You may assume that each input would have exactly one solution, and you may not use the same element twice.\n",
        "You can return the answer in any order.\n",
        "\n",
        "\"\"\""
      ],
      "execution_count": null,
      "outputs": []
    },
    {
      "cell_type": "code",
      "source": [
        ""
      ],
      "metadata": {
        "id": "ZUEFL4LCejEM"
      },
      "execution_count": null,
      "outputs": []
    },
    {
      "cell_type": "code",
      "metadata": {
        "colab": {
          "base_uri": "https://localhost:8080/"
        },
        "id": "n-aTo5VfeZo8",
        "outputId": "13e2903c-26f4-4c4d-d1ed-8a48cff47423"
      },
      "source": [
        "def twoSum(array,target):\n",
        "  hashmap = {}\n",
        "  for i in range(0,len(array)):\n",
        "    targetSum = target - array[i]\n",
        "    #print(targetSum)\n",
        "    if (array[i] in hashmap):\n",
        "      return (i, hashmap[array[i]])\n",
        "    hashmap[targetSum] = i\n",
        "    #print(hashmap)\n",
        "    #return []\n",
        "\n",
        "solution = twoSum([2,7,11,15],9)\n",
        "print(solution)\n",
        "solution = twoSum([3,2,4],6)\n",
        "print(solution)"
      ],
      "execution_count": null,
      "outputs": [
        {
          "output_type": "stream",
          "name": "stdout",
          "text": [
            "(1, 0)\n",
            "(2, 1)\n"
          ]
        }
      ]
    },
    {
      "cell_type": "code",
      "metadata": {
        "id": "S2-QTCjMiADm"
      },
      "source": [
        "\"\"\"\n",
        "\n",
        "Given an array nums of size n, return the majority element.\n",
        "The majority element is the element that appears more than ⌊n / 2⌋ times. \n",
        "You may assume that the majority element always exists in the array.\n",
        "\n",
        "\n",
        "\n",
        "\"\"\""
      ],
      "execution_count": null,
      "outputs": []
    },
    {
      "cell_type": "code",
      "metadata": {
        "colab": {
          "base_uri": "https://localhost:8080/"
        },
        "id": "hZvkR51KiGMd",
        "outputId": "84fc9563-b2f0-467f-93d4-a0f11802e556"
      },
      "source": [
        "def majorityElement(array):\n",
        "  hashmap = {}\n",
        "  for i in array:\n",
        "    if i not in hashmap:\n",
        "      hashmap[i] = 1\n",
        "    else:\n",
        "      hashmap[i] = hashmap[i] + 1\n",
        "      if (hashmap[i] > len(array)//2):\n",
        "        return i\n",
        "\n",
        "solution = majorityElement([3,2,3])\n",
        "print(solution)\n",
        "solution = majorityElement([2,2,1,1,1,2,2])\n",
        "print(solution)"
      ],
      "execution_count": null,
      "outputs": [
        {
          "output_type": "stream",
          "name": "stdout",
          "text": [
            "3\n",
            "2\n"
          ]
        }
      ]
    },
    {
      "cell_type": "code",
      "source": [
        "\"\"\"\n",
        "  15. 3Sum\n",
        "  Given an integer array nums, return all the triplets [nums[i], nums[j], nums[k]] such that i != j, i != k, and j != k, and nums[i] + nums[j] + nums[k] == 0.\n",
        "\n",
        "  Notice that the solution set must not contain duplicate triplets.\n",
        "\n",
        "\n",
        "\n",
        "\"\"\""
      ],
      "metadata": {
        "id": "PhKGYL2vekTV"
      },
      "execution_count": null,
      "outputs": []
    },
    {
      "cell_type": "code",
      "source": [
        "#Approach 1 - Best possiblle apporach is O(n2) since for 2sum it on O(n)\n",
        "\"\"\"\n",
        "  1.) Sort the array\n",
        "  2.) Returning arraay of array. Making sure of no duplicate values. This can be done easily in a sorted array since duplicaate \n",
        "    ellements residde next to each other in a sorted array.\n",
        "\n",
        "    2 pointer approach.\n",
        "    1. eg: bums=[-4,-1,-1,0,1,2]\n",
        "      Fix i = -4. Therefore target sum becomes 4\n",
        "      LowerPointer = -1 and upperPointer = 2. Compare if lowerPointer + upperPointer = targetSum. If yes, append i, upperPointer andd lowerpointer to solution\n",
        "      Else:\n",
        "        if lowerPointer + upperPointer < targetSum lowerPointer ++ else upperPointer ++\n",
        "\n",
        "    2 border cases:\n",
        "    1 -> since the array is sorted, if currentNumber > 0 then there are no negative values to the right to make the sum = 0. Break out of the loop\n",
        "    2 -> if currentVal == previous val, skip it\n",
        "    \n",
        "\n",
        "\n",
        "\"\"\""
      ],
      "metadata": {
        "id": "nk5WZ7KDerrj"
      },
      "execution_count": null,
      "outputs": []
    },
    {
      "cell_type": "code",
      "source": [
        "#Create tke skeleton first\n",
        "import itertools\n",
        "def threesum(nums):\n",
        "  solution = []\n",
        "  previousVal, currentVal,targetVal = 0,0,0\n",
        "  finalSolution = []\n",
        "  nums.sort()\n",
        "  #print(nums)\n",
        "\n",
        "  for i in range(0,len(nums)):\n",
        "    currentVal = i\n",
        "    if (nums[currentVal] > 0):\n",
        "      break;\n",
        "    if (i > 0 and nums[currentVal] == nums[currentVal-1]):\n",
        "      continue;\n",
        "    \n",
        "    \n",
        "    targetVal = -nums[i]\n",
        "    #print(targetVal)\n",
        "    returnArray = twoSum(currentVal,nums,targetVal)\n",
        "    if (len(returnArray) >0):\n",
        "      finalSolution.extend(returnArray)\n",
        "      finalSolution.sort()\n",
        "  \n",
        "  #print(list(finalSolution for finalSolution,_ in itertools.groupby(finalSolution)))\n",
        "  return list(finalSolution for finalSolution,_ in itertools.groupby(finalSolution))\n",
        "\n",
        "def twoSum(index, nums, targetVal):\n",
        "  \n",
        "  lowerPointer = index + 1\n",
        "  upperPointer = len(nums) -1\n",
        "  solutionArray =[]\n",
        "\n",
        "  while lowerPointer < upperPointer:\n",
        "    if (nums[lowerPointer] + nums[upperPointer] == targetVal):\n",
        "      solutionArray.append([nums[index],nums[lowerPointer],nums[upperPointer]])\n",
        "      upperPointer -= 1\n",
        "    else:\n",
        "      if nums[lowerPointer] + nums[upperPointer] < targetVal:\n",
        "        lowerPointer += 1\n",
        "      else:\n",
        "        upperPointer -= 1\n",
        "  #print(solutionArray)\n",
        "  return solutionArray\n",
        "\n",
        "# print(threesum([-1,0,1,2,-1,-4]))\n",
        "#print(threesum([0,0,0,0]))\n",
        "array=[34,55,79,28,46,33,2,48,31,-3,84,71,52,-3,93,15,21,-43,57,-6,86,56,94,74,83,-14,28,-66,46,-49,62,-11,43,65,77,12,47,61,26,1,13,29,55,-82,76,26,15,-29,36,-29,10,-70,69,17,49]\n",
        "print(threesum(array))"
      ],
      "metadata": {
        "colab": {
          "base_uri": "https://localhost:8080/"
        },
        "id": "6LT7ryiKjD1I",
        "outputId": "78adf227-2bfc-4ee7-dae5-618a3f62eeca"
      },
      "execution_count": 43,
      "outputs": [
        {
          "output_type": "stream",
          "name": "stdout",
          "text": [
            "[[-82, -11, 93], [-82, 13, 69], [-82, 17, 65], [-82, 21, 61], [-82, 26, 56], [-82, 33, 49], [-82, 34, 48], [-82, 36, 46], [-70, -14, 84], [-70, -6, 76], [-70, 1, 69], [-70, 13, 57], [-70, 15, 55], [-70, 21, 49], [-70, 34, 36], [-66, -11, 77], [-66, -3, 69], [-66, 1, 65], [-66, 10, 56], [-66, 17, 49], [-49, -6, 55], [-49, -3, 52], [-49, 1, 48], [-49, 2, 47], [-49, 13, 36], [-49, 15, 34], [-49, 21, 28], [-43, -14, 57], [-43, -6, 49], [-43, -3, 46], [-43, 10, 33], [-43, 12, 31], [-43, 15, 28], [-43, 17, 26], [-29, -14, 43], [-29, 1, 28], [-29, 12, 17], [-14, -3, 17], [-14, 1, 13], [-14, 2, 12], [-11, -6, 17], [-11, 1, 10], [-3, 1, 2]]\n"
          ]
        }
      ]
    },
    {
      "cell_type": "code",
      "source": [
        "#APPROACH 2 -> Skeleton method\n",
        "def threeSum(nums):\n",
        "    res = []\n",
        "    nums.sort()\n",
        "    for i in range(len(nums)):\n",
        "        if nums[i] > 0:\n",
        "            break\n",
        "        if i == 0 or nums[i - 1] != nums[i]:\n",
        "            twoSum(nums, i, res)\n",
        "    return res\n",
        "\n",
        "def twoSum(nums, i,res):\n",
        "    seen = set()\n",
        "    j = i + 1\n",
        "    while j < len(nums):\n",
        "        complement = -nums[i] - nums[j] #-nums[i] since that is the targetSum\n",
        "        if complement in seen:\n",
        "            res.append([nums[i], nums[j], complement])\n",
        "            while j + 1 < len(nums) and nums[j] == nums[j + 1]: #Shifting pointer to avoid duplicates\n",
        "                j += 1\n",
        "        seen.add(nums[j])\n",
        "        j += 1\n",
        "\n",
        "print(threeSum([-1,0,1,2,-1,-4]))"
      ],
      "metadata": {
        "colab": {
          "base_uri": "https://localhost:8080/"
        },
        "id": "YuQfvYwnkj_x",
        "outputId": "26912a9b-9b78-4608-eca8-0d4e091e632d"
      },
      "execution_count": 41,
      "outputs": [
        {
          "output_type": "stream",
          "name": "stdout",
          "text": [
            "[[-1, 1, 0], [-1, 2, -1]]\n"
          ]
        }
      ]
    },
    {
      "cell_type": "code",
      "source": [
        "\"\"\"\n",
        "\n",
        "16.) 3Sum Closest\n",
        "  input = nums array\n",
        "  output = integer sum closest to target. sum == value of triplets. ie RETURN THE SUM\n",
        "\n",
        "  ****Here we are only returning the closest sum. Not the array of integers too\n",
        "\n",
        "  1. sort the array\n",
        "  2. fix i. So loop range(len(nums))\n",
        "      low = i+1\n",
        "      high = len(nums-1)\n",
        "      while i<j:\n",
        "        sum = nums[i] + nums[lo] + nums[high]\n",
        "        if abs(target-sum) < abs(diff): #diff being the closest difference from target\n",
        "          diff = abs(target - sum)\n",
        "        if sum < target:\n",
        "          lo +=1\n",
        "        else:\n",
        "          high -= 1\n",
        "\n",
        "  3. diff contains the smallest difference between the target and the sum of current triplets.\n",
        "  Since we are returning the sum, return target-diff. We got diff by target-sum initially anyway\n",
        "\"\"\"\n"
      ],
      "metadata": {
        "id": "qmqAf0rhF-93"
      },
      "execution_count": null,
      "outputs": []
    },
    {
      "cell_type": "code",
      "source": [
        "def threeSumClosest(nums, target):\n",
        "  nums.sort()\n",
        "  diff = float('inf')\n",
        "  \n",
        "  for i in range(len(nums)):\n",
        "    lo = i+1\n",
        "    hi = len(nums) - 1\n",
        "    \n",
        "    while lo < hi:\n",
        "      sum = nums[i] + nums[lo] + nums[hi]\n",
        "      if abs(target-sum) < abs(diff):\n",
        "        diff = target-sum\n",
        "      if sum < target:\n",
        "        lo +=1\n",
        "      else:\n",
        "        hi -= 1\n",
        "    if diff == 0:\n",
        "      break\n",
        "      \n",
        "  return target-diff\n",
        "\n",
        "print(threeSumClosest([-1,2,1,-4],1))\n",
        "print(threeSumClosest([0,0,0],1))"
      ],
      "metadata": {
        "colab": {
          "base_uri": "https://localhost:8080/"
        },
        "id": "eYq410m6HYpz",
        "outputId": "b50f2c9f-d233-408e-a308-c0df375c2635"
      },
      "execution_count": 54,
      "outputs": [
        {
          "output_type": "stream",
          "name": "stdout",
          "text": [
            "2\n",
            "0\n"
          ]
        }
      ]
    }
  ]
}