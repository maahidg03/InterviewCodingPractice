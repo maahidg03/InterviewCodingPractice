{
  "nbformat": 4,
  "nbformat_minor": 0,
  "metadata": {
    "colab": {
      "name": "sortArrayWaveForm.ipynb",
      "provenance": []
    },
    "kernelspec": {
      "name": "python3",
      "display_name": "Python 3"
    }
  },
  "cells": [
    {
      "cell_type": "code",
      "metadata": {
        "id": "TiGz1yPm9uhG"
      },
      "source": [
        "\"\"\"\n",
        "\n",
        "  Sort an array in wave form\n",
        "  Given an unsorted array of integers, sort the array into a wave like array. \n",
        "  An array ‘arr[0..n-1]’ is sorted in wave form if arr[0] >= arr[1] <= arr[2] >= arr[3] <= arr[4] >= …..\n",
        "\n",
        "\"\"\""
      ],
      "execution_count": null,
      "outputs": []
    },
    {
      "cell_type": "code",
      "metadata": {
        "colab": {
          "base_uri": "https://localhost:8080/"
        },
        "id": "eu0Z7yaL97Qu",
        "outputId": "06b23a3c-5de3-4221-d7b2-0889cd975d93"
      },
      "source": [
        "def waveForm(arr):\n",
        "  arr.sort()\n",
        "\n",
        "  for i in range(0,len(arr)-1,2):\n",
        "    arr[i],arr[i+1]=arr[i+1],arr[i]\n",
        "  return arr\n",
        "\n",
        "arr=[10, 90, 49, 2, 1, 5, 23]\n",
        "answer=waveForm(arr)\n",
        "print(answer)"
      ],
      "execution_count": null,
      "outputs": [
        {
          "output_type": "stream",
          "text": [
            "[2, 1, 10, 5, 49, 23, 90]\n"
          ],
          "name": "stdout"
        }
      ]
    },
    {
      "cell_type": "code",
      "metadata": {
        "id": "KTjuobVPYejy"
      },
      "source": [
        "\"\"\"\n",
        "    This can be done in O(n) time by doing a single traversal of given array. The idea is based on the fact that if we make sure that all even positioned (at index 0, 2, 4, ..) elements are greater than their adjacent odd elements, we don’t need to worry about odd positioned element. Following are simple steps.\n",
        "    1) Traverse all even positioned elements of input array, and do following.\n",
        "      ….a) If current element is smaller than previous odd element, swap previous and current.\n",
        "      ….b) If current element is smaller than next odd element, swap next and current.\n",
        "\"\"\""
      ],
      "execution_count": null,
      "outputs": []
    },
    {
      "cell_type": "code",
      "metadata": {
        "colab": {
          "base_uri": "https://localhost:8080/"
        },
        "id": "F4B0tMvtYnhL",
        "outputId": "73d7227a-0304-4ebb-98c4-e55d6e184d89"
      },
      "source": [
        "def waveForm(arr):\n",
        "  for i in range(0,len(arr),2):\n",
        "    if (i > 0 and arr[i] < arr[i-1]):\n",
        "      arr[i],arr[i-1] = arr[i-1],arr[i]\n",
        "    if (i < len(arr)-1 and arr[i] < arr[i+1]):\n",
        "      arr[i],arr[i+1] = arr[i+1],arr[i]\n",
        "    \n",
        "    print(arr)\n",
        "  return arr\n",
        "\n",
        "arr=[10, 5, 6, 3, 2, 20, 100, 80]\n",
        "answer=waveForm(arr)\n",
        "print(answer)"
      ],
      "execution_count": null,
      "outputs": [
        {
          "output_type": "stream",
          "text": [
            "[10, 5, 6, 3, 2, 20, 100, 80]\n",
            "[10, 5, 6, 3, 2, 20, 100, 80]\n",
            "[10, 5, 6, 2, 20, 3, 100, 80]\n",
            "[10, 5, 6, 2, 20, 3, 100, 80]\n",
            "[10, 5, 6, 2, 20, 3, 100, 80]\n"
          ],
          "name": "stdout"
        }
      ]
    }
  ]
}