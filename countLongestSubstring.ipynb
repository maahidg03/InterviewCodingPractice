{
  "nbformat": 4,
  "nbformat_minor": 0,
  "metadata": {
    "colab": {
      "name": "countLongestSubstring.ipynb",
      "provenance": []
    },
    "kernelspec": {
      "name": "python3",
      "display_name": "Python 3"
    },
    "language_info": {
      "name": "python"
    }
  },
  "cells": [
    {
      "cell_type": "code",
      "metadata": {
        "colab": {
          "base_uri": "https://localhost:8080/"
        },
        "id": "r4BTkq5O0AsY",
        "outputId": "3e4877ff-4c4a-49c4-baf2-d09d616124f9"
      },
      "source": [
        "def longestSubstring(s):\n",
        "  count = 0\n",
        "  index = 0\n",
        "  cur_count = 1\n",
        "\n",
        "  if len(s) == 0:\n",
        "    return (0,-1)\n",
        "\n",
        "  for i in range(len(s)):\n",
        "    if i < len(s)-1 and s[i]==s[i+1]:\n",
        "      cur_count +=1\n",
        "      \n",
        "    else:\n",
        "      if cur_count > count:\n",
        "        count = cur_count\n",
        "        index= i - (count-1)\n",
        "      cur_count = 1\n",
        "\n",
        "  return (count,index)\n",
        "\n",
        "string=\"abaaabc\"\n",
        "answer=longestSubstring(string)\n",
        "print(answer)\n",
        "string1=\"001011110\"\n",
        "answer1=longestSubstring(string1)\n",
        "print(answer1)\n",
        "string2=\"\"\n",
        "answer2=longestSubstring(string2)\n",
        "print(answer2)"
      ],
      "execution_count": 17,
      "outputs": [
        {
          "output_type": "stream",
          "text": [
            "(3, 2)\n",
            "(4, 4)\n",
            "(0, -1)\n"
          ],
          "name": "stdout"
        }
      ]
    }
  ]
}