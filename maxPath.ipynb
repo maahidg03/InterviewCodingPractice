{
  "nbformat": 4,
  "nbformat_minor": 0,
  "metadata": {
    "colab": {
      "name": "maxPath.ipynb",
      "provenance": []
    },
    "kernelspec": {
      "name": "python3",
      "display_name": "Python 3"
    }
  },
  "cells": [
    {
      "cell_type": "code",
      "metadata": {
        "colab": {
          "base_uri": "https://localhost:8080/"
        },
        "id": "IB7IqwNqY4xN",
        "outputId": "29ef7325-b41a-4f8a-c2c3-8448db8189f4"
      },
      "source": [
        "\"Maximum path from ro\"\n",
        "\n",
        "N = 4\n",
        "  \n",
        "# function find maximum sum path \n",
        "def MaximumPath(Mat): \n",
        "  \n",
        "    result = 0\n",
        "  \n",
        "    # create 2D matrix to store the sum \n",
        "    # of the path \n",
        "    # initialize all dp matrix as '0' \n",
        "    dp = [[0 for i in range(N+2)] for j in range(N)] \n",
        "    #print(dp)\n",
        "    # copy all element of first column into \n",
        "    # dp first column \n",
        "    for i in range(N): \n",
        "        for j in range(1, N+1): \n",
        "            #print(\"--\",max(dp[i-1][j], dp[i-1][j+1]))\n",
        "            print(i,j)\n",
        "            dp[i][j] = max(dp[i-1][j-1], max(dp[i-1][j], dp[i-1][j+1])) + Mat[i][j-1] \n",
        "            print(dp)\n",
        "    print(\"--\")\n",
        "\n",
        "    # Find maximum path sum that end ups \n",
        "    # at any column of last row 'N-1' \n",
        "    for i in range(N+1): \n",
        "        result = max(result, dp[N-1][i]) \n",
        "  \n",
        "    # return maximum sum path \n",
        "    return result \n",
        "  \n",
        "# driver program to test above function \n",
        "Mat = [[4, 2, 3, 4], \n",
        "       [2, 9, 1, 10], \n",
        "       [15, 1, 3, 0], \n",
        "       [16, 92, 41, 44]] \n",
        "  \n",
        "print(MaximumPath(Mat)) "
      ],
      "execution_count": 11,
      "outputs": [
        {
          "output_type": "stream",
          "text": [
            "0 1\n",
            "[[0, 4, 0, 0, 0, 0], [0, 0, 0, 0, 0, 0], [0, 0, 0, 0, 0, 0], [0, 0, 0, 0, 0, 0]]\n",
            "0 2\n",
            "[[0, 4, 2, 0, 0, 0], [0, 0, 0, 0, 0, 0], [0, 0, 0, 0, 0, 0], [0, 0, 0, 0, 0, 0]]\n",
            "0 3\n",
            "[[0, 4, 2, 3, 0, 0], [0, 0, 0, 0, 0, 0], [0, 0, 0, 0, 0, 0], [0, 0, 0, 0, 0, 0]]\n",
            "0 4\n",
            "[[0, 4, 2, 3, 4, 0], [0, 0, 0, 0, 0, 0], [0, 0, 0, 0, 0, 0], [0, 0, 0, 0, 0, 0]]\n",
            "1 1\n",
            "[[0, 4, 2, 3, 4, 0], [0, 6, 0, 0, 0, 0], [0, 0, 0, 0, 0, 0], [0, 0, 0, 0, 0, 0]]\n",
            "1 2\n",
            "[[0, 4, 2, 3, 4, 0], [0, 6, 13, 0, 0, 0], [0, 0, 0, 0, 0, 0], [0, 0, 0, 0, 0, 0]]\n",
            "1 3\n",
            "[[0, 4, 2, 3, 4, 0], [0, 6, 13, 5, 0, 0], [0, 0, 0, 0, 0, 0], [0, 0, 0, 0, 0, 0]]\n",
            "1 4\n",
            "[[0, 4, 2, 3, 4, 0], [0, 6, 13, 5, 14, 0], [0, 0, 0, 0, 0, 0], [0, 0, 0, 0, 0, 0]]\n",
            "2 1\n",
            "[[0, 4, 2, 3, 4, 0], [0, 6, 13, 5, 14, 0], [0, 28, 0, 0, 0, 0], [0, 0, 0, 0, 0, 0]]\n",
            "2 2\n",
            "[[0, 4, 2, 3, 4, 0], [0, 6, 13, 5, 14, 0], [0, 28, 14, 0, 0, 0], [0, 0, 0, 0, 0, 0]]\n",
            "2 3\n",
            "[[0, 4, 2, 3, 4, 0], [0, 6, 13, 5, 14, 0], [0, 28, 14, 17, 0, 0], [0, 0, 0, 0, 0, 0]]\n",
            "2 4\n",
            "[[0, 4, 2, 3, 4, 0], [0, 6, 13, 5, 14, 0], [0, 28, 14, 17, 14, 0], [0, 0, 0, 0, 0, 0]]\n",
            "3 1\n",
            "[[0, 4, 2, 3, 4, 0], [0, 6, 13, 5, 14, 0], [0, 28, 14, 17, 14, 0], [0, 44, 0, 0, 0, 0]]\n",
            "3 2\n",
            "[[0, 4, 2, 3, 4, 0], [0, 6, 13, 5, 14, 0], [0, 28, 14, 17, 14, 0], [0, 44, 120, 0, 0, 0]]\n",
            "3 3\n",
            "[[0, 4, 2, 3, 4, 0], [0, 6, 13, 5, 14, 0], [0, 28, 14, 17, 14, 0], [0, 44, 120, 58, 0, 0]]\n",
            "3 4\n",
            "[[0, 4, 2, 3, 4, 0], [0, 6, 13, 5, 14, 0], [0, 28, 14, 17, 14, 0], [0, 44, 120, 58, 61, 0]]\n",
            "--\n",
            "120\n"
          ],
          "name": "stdout"
        }
      ]
    }
  ]
}